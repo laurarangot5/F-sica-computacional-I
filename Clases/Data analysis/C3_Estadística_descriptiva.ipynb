{
  "cells": [
    {
      "cell_type": "markdown",
      "metadata": {
        "_cell_guid": "b1076dfc-b9ad-4769-8c92-a6c4dae69d19",
        "_uuid": "8f2839f25d086af736a60e9eeb907d3b93b6e0e5",
        "id": "yKv9ozCfMh1L"
      },
      "source": [
        "# **Estadística Básica**\n",
        "\n",
        "\n",
        "1.   Estadística descriptiva\n",
        "2.   Distribuciones de probabilidad\n",
        "3.   Intérvalos de confianza\n",
        "\n",
        "\n",
        "\n",
        "\n"
      ]
    },
    {
      "cell_type": "markdown",
      "metadata": {
        "_cell_guid": "79c7e3d0-c299-4dcb-8224-4455121ee9b0",
        "_uuid": "d629ff2d2480ee46fbb7e2d37f6b5fab8052498a",
        "collapsed": true,
        "id": "ah-t6zxqMh1W"
      },
      "source": [
        "#**1. Estadística descriptiva**\n",
        "La estadística descriptiva resume características importantes de los datos, a menudo con un solo número. Producir estadística descriptiva es un primer paso común después de limpiar y preparar un conjunto de datos para el análisis. "
      ]
    },
    {
      "cell_type": "markdown",
      "metadata": {
        "id": "asbntr0xMh1X"
      },
      "source": [
        "## **Medidas de tendencia central**"
      ]
    },
    {
      "cell_type": "markdown",
      "metadata": {
        "id": "vdbX4w54Mh1Y"
      },
      "source": [
        "Las medidas de tendencia central nos dan una idea del \"medio\" de una variable numérica. En otras palabras, las medidas de centralidad le dan una idea de un valor típico que esperaría ver. Las medidas comunes de tendencia central incluyen la media, la mediana y la moda.\n",
        "\n",
        "La **media** es simplemente un promedio: la suma de los valores dividida por el número total de datos. Podemos usar `df.mean()` para obtener la media de cada columna en un DataFrame:"
      ]
    },
    {
      "cell_type": "code",
      "execution_count": null,
      "metadata": {
        "id": "rrseCrOJMh1Z"
      },
      "outputs": [],
      "source": [
        "%matplotlib inline\n",
        "\n",
        "import numpy as np\n",
        "import pandas as pd\n",
        "import matplotlib.pyplot as plt"
      ]
    },
    {
      "cell_type": "code",
      "execution_count": null,
      "metadata": {
        "colab": {
          "base_uri": "https://localhost:8080/",
          "height": 332
        },
        "id": "nHjMnVJdMh1c",
        "outputId": "a860e9fa-2aa5-4fd5-d523-2d451575d9f6"
      },
      "outputs": [
        {
          "output_type": "execute_result",
          "data": {
            "text/html": [
              "\n",
              "  <div id=\"df-e21d0c6d-a3b7-48cf-8d5c-fd1d5c798637\">\n",
              "    <div class=\"colab-df-container\">\n",
              "      <div>\n",
              "<style scoped>\n",
              "    .dataframe tbody tr th:only-of-type {\n",
              "        vertical-align: middle;\n",
              "    }\n",
              "\n",
              "    .dataframe tbody tr th {\n",
              "        vertical-align: top;\n",
              "    }\n",
              "\n",
              "    .dataframe thead th {\n",
              "        text-align: right;\n",
              "    }\n",
              "</style>\n",
              "<table border=\"1\" class=\"dataframe\">\n",
              "  <thead>\n",
              "    <tr style=\"text-align: right;\">\n",
              "      <th></th>\n",
              "      <th>mpg</th>\n",
              "      <th>cyl</th>\n",
              "      <th>disp</th>\n",
              "      <th>hp</th>\n",
              "      <th>drat</th>\n",
              "      <th>wt</th>\n",
              "      <th>qsec</th>\n",
              "      <th>vs</th>\n",
              "      <th>am</th>\n",
              "      <th>gear</th>\n",
              "      <th>carb</th>\n",
              "    </tr>\n",
              "    <tr>\n",
              "      <th>model</th>\n",
              "      <th></th>\n",
              "      <th></th>\n",
              "      <th></th>\n",
              "      <th></th>\n",
              "      <th></th>\n",
              "      <th></th>\n",
              "      <th></th>\n",
              "      <th></th>\n",
              "      <th></th>\n",
              "      <th></th>\n",
              "      <th></th>\n",
              "    </tr>\n",
              "  </thead>\n",
              "  <tbody>\n",
              "    <tr>\n",
              "      <th>Mazda RX4</th>\n",
              "      <td>21.0</td>\n",
              "      <td>6</td>\n",
              "      <td>160.0</td>\n",
              "      <td>110</td>\n",
              "      <td>3.90</td>\n",
              "      <td>2.620</td>\n",
              "      <td>16.46</td>\n",
              "      <td>0</td>\n",
              "      <td>1</td>\n",
              "      <td>4</td>\n",
              "      <td>4</td>\n",
              "    </tr>\n",
              "    <tr>\n",
              "      <th>Mazda RX4 Wag</th>\n",
              "      <td>21.0</td>\n",
              "      <td>6</td>\n",
              "      <td>160.0</td>\n",
              "      <td>110</td>\n",
              "      <td>3.90</td>\n",
              "      <td>2.875</td>\n",
              "      <td>17.02</td>\n",
              "      <td>0</td>\n",
              "      <td>1</td>\n",
              "      <td>4</td>\n",
              "      <td>4</td>\n",
              "    </tr>\n",
              "    <tr>\n",
              "      <th>Datsun 710</th>\n",
              "      <td>22.8</td>\n",
              "      <td>4</td>\n",
              "      <td>108.0</td>\n",
              "      <td>93</td>\n",
              "      <td>3.85</td>\n",
              "      <td>2.320</td>\n",
              "      <td>18.61</td>\n",
              "      <td>1</td>\n",
              "      <td>1</td>\n",
              "      <td>4</td>\n",
              "      <td>1</td>\n",
              "    </tr>\n",
              "    <tr>\n",
              "      <th>Hornet 4 Drive</th>\n",
              "      <td>21.4</td>\n",
              "      <td>6</td>\n",
              "      <td>258.0</td>\n",
              "      <td>110</td>\n",
              "      <td>3.08</td>\n",
              "      <td>3.215</td>\n",
              "      <td>19.44</td>\n",
              "      <td>1</td>\n",
              "      <td>0</td>\n",
              "      <td>3</td>\n",
              "      <td>1</td>\n",
              "    </tr>\n",
              "    <tr>\n",
              "      <th>Hornet Sportabout</th>\n",
              "      <td>18.7</td>\n",
              "      <td>8</td>\n",
              "      <td>360.0</td>\n",
              "      <td>175</td>\n",
              "      <td>3.15</td>\n",
              "      <td>3.440</td>\n",
              "      <td>17.02</td>\n",
              "      <td>0</td>\n",
              "      <td>0</td>\n",
              "      <td>3</td>\n",
              "      <td>2</td>\n",
              "    </tr>\n",
              "    <tr>\n",
              "      <th>Valiant</th>\n",
              "      <td>18.1</td>\n",
              "      <td>6</td>\n",
              "      <td>225.0</td>\n",
              "      <td>105</td>\n",
              "      <td>2.76</td>\n",
              "      <td>3.460</td>\n",
              "      <td>20.22</td>\n",
              "      <td>1</td>\n",
              "      <td>0</td>\n",
              "      <td>3</td>\n",
              "      <td>1</td>\n",
              "    </tr>\n",
              "    <tr>\n",
              "      <th>Duster 360</th>\n",
              "      <td>14.3</td>\n",
              "      <td>8</td>\n",
              "      <td>360.0</td>\n",
              "      <td>245</td>\n",
              "      <td>3.21</td>\n",
              "      <td>3.570</td>\n",
              "      <td>15.84</td>\n",
              "      <td>0</td>\n",
              "      <td>0</td>\n",
              "      <td>3</td>\n",
              "      <td>4</td>\n",
              "    </tr>\n",
              "    <tr>\n",
              "      <th>Merc 240D</th>\n",
              "      <td>24.4</td>\n",
              "      <td>4</td>\n",
              "      <td>146.7</td>\n",
              "      <td>62</td>\n",
              "      <td>3.69</td>\n",
              "      <td>3.190</td>\n",
              "      <td>20.00</td>\n",
              "      <td>1</td>\n",
              "      <td>0</td>\n",
              "      <td>4</td>\n",
              "      <td>2</td>\n",
              "    </tr>\n",
              "  </tbody>\n",
              "</table>\n",
              "</div>\n",
              "      <button class=\"colab-df-convert\" onclick=\"convertToInteractive('df-e21d0c6d-a3b7-48cf-8d5c-fd1d5c798637')\"\n",
              "              title=\"Convert this dataframe to an interactive table.\"\n",
              "              style=\"display:none;\">\n",
              "        \n",
              "  <svg xmlns=\"http://www.w3.org/2000/svg\" height=\"24px\"viewBox=\"0 0 24 24\"\n",
              "       width=\"24px\">\n",
              "    <path d=\"M0 0h24v24H0V0z\" fill=\"none\"/>\n",
              "    <path d=\"M18.56 5.44l.94 2.06.94-2.06 2.06-.94-2.06-.94-.94-2.06-.94 2.06-2.06.94zm-11 1L8.5 8.5l.94-2.06 2.06-.94-2.06-.94L8.5 2.5l-.94 2.06-2.06.94zm10 10l.94 2.06.94-2.06 2.06-.94-2.06-.94-.94-2.06-.94 2.06-2.06.94z\"/><path d=\"M17.41 7.96l-1.37-1.37c-.4-.4-.92-.59-1.43-.59-.52 0-1.04.2-1.43.59L10.3 9.45l-7.72 7.72c-.78.78-.78 2.05 0 2.83L4 21.41c.39.39.9.59 1.41.59.51 0 1.02-.2 1.41-.59l7.78-7.78 2.81-2.81c.8-.78.8-2.07 0-2.86zM5.41 20L4 18.59l7.72-7.72 1.47 1.35L5.41 20z\"/>\n",
              "  </svg>\n",
              "      </button>\n",
              "      \n",
              "  <style>\n",
              "    .colab-df-container {\n",
              "      display:flex;\n",
              "      flex-wrap:wrap;\n",
              "      gap: 12px;\n",
              "    }\n",
              "\n",
              "    .colab-df-convert {\n",
              "      background-color: #E8F0FE;\n",
              "      border: none;\n",
              "      border-radius: 50%;\n",
              "      cursor: pointer;\n",
              "      display: none;\n",
              "      fill: #1967D2;\n",
              "      height: 32px;\n",
              "      padding: 0 0 0 0;\n",
              "      width: 32px;\n",
              "    }\n",
              "\n",
              "    .colab-df-convert:hover {\n",
              "      background-color: #E2EBFA;\n",
              "      box-shadow: 0px 1px 2px rgba(60, 64, 67, 0.3), 0px 1px 3px 1px rgba(60, 64, 67, 0.15);\n",
              "      fill: #174EA6;\n",
              "    }\n",
              "\n",
              "    [theme=dark] .colab-df-convert {\n",
              "      background-color: #3B4455;\n",
              "      fill: #D2E3FC;\n",
              "    }\n",
              "\n",
              "    [theme=dark] .colab-df-convert:hover {\n",
              "      background-color: #434B5C;\n",
              "      box-shadow: 0px 1px 3px 1px rgba(0, 0, 0, 0.15);\n",
              "      filter: drop-shadow(0px 1px 2px rgba(0, 0, 0, 0.3));\n",
              "      fill: #FFFFFF;\n",
              "    }\n",
              "  </style>\n",
              "\n",
              "      <script>\n",
              "        const buttonEl =\n",
              "          document.querySelector('#df-e21d0c6d-a3b7-48cf-8d5c-fd1d5c798637 button.colab-df-convert');\n",
              "        buttonEl.style.display =\n",
              "          google.colab.kernel.accessAllowed ? 'block' : 'none';\n",
              "\n",
              "        async function convertToInteractive(key) {\n",
              "          const element = document.querySelector('#df-e21d0c6d-a3b7-48cf-8d5c-fd1d5c798637');\n",
              "          const dataTable =\n",
              "            await google.colab.kernel.invokeFunction('convertToInteractive',\n",
              "                                                     [key], {});\n",
              "          if (!dataTable) return;\n",
              "\n",
              "          const docLinkHtml = 'Like what you see? Visit the ' +\n",
              "            '<a target=\"_blank\" href=https://colab.research.google.com/notebooks/data_table.ipynb>data table notebook</a>'\n",
              "            + ' to learn more about interactive tables.';\n",
              "          element.innerHTML = '';\n",
              "          dataTable['output_type'] = 'display_data';\n",
              "          await google.colab.output.renderOutput(dataTable, element);\n",
              "          const docLink = document.createElement('div');\n",
              "          docLink.innerHTML = docLinkHtml;\n",
              "          element.appendChild(docLink);\n",
              "        }\n",
              "      </script>\n",
              "    </div>\n",
              "  </div>\n",
              "  "
            ],
            "text/plain": [
              "                    mpg  cyl   disp   hp  drat     wt   qsec  vs  am  gear  \\\n",
              "model                                                                        \n",
              "Mazda RX4          21.0    6  160.0  110  3.90  2.620  16.46   0   1     4   \n",
              "Mazda RX4 Wag      21.0    6  160.0  110  3.90  2.875  17.02   0   1     4   \n",
              "Datsun 710         22.8    4  108.0   93  3.85  2.320  18.61   1   1     4   \n",
              "Hornet 4 Drive     21.4    6  258.0  110  3.08  3.215  19.44   1   0     3   \n",
              "Hornet Sportabout  18.7    8  360.0  175  3.15  3.440  17.02   0   0     3   \n",
              "Valiant            18.1    6  225.0  105  2.76  3.460  20.22   1   0     3   \n",
              "Duster 360         14.3    8  360.0  245  3.21  3.570  15.84   0   0     3   \n",
              "Merc 240D          24.4    4  146.7   62  3.69  3.190  20.00   1   0     4   \n",
              "\n",
              "                   carb  \n",
              "model                    \n",
              "Mazda RX4             4  \n",
              "Mazda RX4 Wag         4  \n",
              "Datsun 710            1  \n",
              "Hornet 4 Drive        1  \n",
              "Hornet Sportabout     2  \n",
              "Valiant               1  \n",
              "Duster 360            4  \n",
              "Merc 240D             2  "
            ]
          },
          "metadata": {},
          "execution_count": 4
        }
      ],
      "source": [
        "mtcars = pd.read_csv(\"mtcars.csv\")\n",
        "mtcars =  mtcars.rename(columns={'Unnamed: 0': 'model'})\n",
        "mtcars.index = mtcars.model\n",
        "del mtcars[\"model\"]\n",
        "\n",
        "mtcars.head(8)"
      ]
    },
    {
      "cell_type": "markdown",
      "source": [
        "\n",
        "* mpg: \tMiles/(US) gallon \n",
        "* cyl:\tNumber of cylinders\n",
        "* disp: \tDisplacement (cu.in.)\n",
        "*\thp:\tGross horsepower\n",
        "* drat:\tRear axle ratio\n",
        "* wt:\tWeight (1000 lbs)\n",
        "* qsec:\t1/4 mile time\n",
        "* vs:\tEngine (0 = V-shaped, 1 = straight)\n",
        "* am:\tTransmission (0 = automatic, 1 = manual)\n",
        "* gear:\tNumber of forward gears"
      ],
      "metadata": {
        "id": "ec--w4Amoc6K"
      }
    },
    {
      "cell_type": "code",
      "execution_count": null,
      "metadata": {
        "colab": {
          "base_uri": "https://localhost:8080/"
        },
        "id": "vw_qagfQMh1e",
        "outputId": "1b59333d-2d21-49d6-f230-ecac9871563c"
      },
      "outputs": [
        {
          "output_type": "execute_result",
          "data": {
            "text/plain": [
              "20.090624999999996"
            ]
          },
          "metadata": {},
          "execution_count": 17
        }
      ],
      "source": [
        "mtcars['mpg'].mean()                 # obtenga la media de cada columna"
      ]
    },
    {
      "cell_type": "code",
      "source": [
        "mtcars.mean() "
      ],
      "metadata": {
        "colab": {
          "base_uri": "https://localhost:8080/"
        },
        "id": "W9RXUWkVhoJ_",
        "outputId": "1ce25a54-739e-48e6-c023-e2bf484cce6b"
      },
      "execution_count": null,
      "outputs": [
        {
          "output_type": "execute_result",
          "data": {
            "text/plain": [
              "mpg      20.090625\n",
              "cyl       6.187500\n",
              "disp    230.721875\n",
              "hp      146.687500\n",
              "drat      3.596563\n",
              "wt        3.217250\n",
              "qsec     17.848750\n",
              "vs        0.437500\n",
              "am        0.406250\n",
              "gear      3.687500\n",
              "carb      2.812500\n",
              "dtype: float64"
            ]
          },
          "metadata": {},
          "execution_count": 18
        }
      ]
    },
    {
      "cell_type": "markdown",
      "metadata": {
        "id": "RWUEyNX4Mh1f"
      },
      "source": [
        "También podemos obtener la media de cada fila proporcionando un argumento para cada eje (`mtcars.mean(axis=1)`). Recuerde que axis = 0 significa a lo largo de la columna, y axis = 1 significa a lo largo de la fila."
      ]
    },
    {
      "cell_type": "markdown",
      "metadata": {
        "id": "esHej30iMh1h"
      },
      "source": [
        "La **mediana** de una distribución es el valor en el que el 50 % de los datos se encuentran por debajo y el 50 % por encima. En esencia, la mediana divide los datos por la mitad. La mediana también se conoce como percentil del 50% ya que el 50% de las observaciones se encuentran debajo de ella. La mediana se puede obtener usando la función `mtcars.median()`:"
      ]
    },
    {
      "cell_type": "code",
      "execution_count": null,
      "metadata": {
        "colab": {
          "base_uri": "https://localhost:8080/"
        },
        "id": "301rBQ5zMh1j",
        "outputId": "850f04ae-0549-496e-a766-0ac80d525494"
      },
      "outputs": [
        {
          "output_type": "execute_result",
          "data": {
            "text/plain": [
              "mpg      19.200\n",
              "cyl       6.000\n",
              "disp    196.300\n",
              "hp      123.000\n",
              "drat      3.695\n",
              "wt        3.325\n",
              "qsec     17.710\n",
              "vs        0.000\n",
              "am        0.000\n",
              "gear      4.000\n",
              "carb      2.000\n",
              "dtype: float64"
            ]
          },
          "metadata": {},
          "execution_count": 19
        }
      ],
      "source": [
        "mtcars.median()                 # obteniendo la mediana de cada columna"
      ]
    },
    {
      "cell_type": "markdown",
      "metadata": {
        "id": "3TUnfuScMh1k"
      },
      "source": [
        "Nuevamente, podríamos obtener las medianas de las filas en cada fila, proporcionando el argumento *axis=1*.\n",
        "\n",
        "Aunque la media y la mediana nos dan una idea del centro de una distribución, no siempre son iguales. La mediana siempre nos da un valor que divide los datos en dos mitades, mientras que la media es un promedio numérico, por lo que los valores extremos pueden tener un impacto significativo en la media. En una distribución simétrica, la media y la mediana serán iguales. Investiguemos con un diagrama de densidad:"
      ]
    },
    {
      "cell_type": "code",
      "execution_count": null,
      "metadata": {
        "colab": {
          "base_uri": "https://localhost:8080/",
          "height": 320
        },
        "id": "_lnnJVu4Mh1l",
        "outputId": "19234875-f242-42f7-bb0e-6960fa15ae90"
      },
      "outputs": [
        {
          "output_type": "display_data",
          "data": {
            "image/png": "[encoded data removed]",
            "text/plain": [
              "<Figure size 360x360 with 1 Axes>"
            ]
          },
          "metadata": {
            "needs_background": "light"
          }
        }
      ],
      "source": [
        "norm_data = pd.DataFrame(np.random.normal(size=100000))\n",
        "\n",
        "norm_data.plot(kind=\"density\", figsize=(5,5));\n",
        "\n",
        "\n",
        "plt.vlines(norm_data.mean(),     # media = línea negra\n",
        "           ymin=0, \n",
        "           ymax=0.4,\n",
        "           linewidth=5.0);\n",
        "\n",
        "plt.vlines(norm_data.median(),   # mediana = línea roja\n",
        "           ymin=0, \n",
        "           ymax=0.4, \n",
        "           linewidth=2.0,\n",
        "           color=\"red\");\n"
      ]
    },
    {
      "cell_type": "markdown",
      "metadata": {
        "id": "jkjTmTimMh1n"
      },
      "source": [
        "En el gráfico de arriba, la media y la mediana están tan cerca de cero que la línea roja de la mediana se encuentra encima de la línea negra más gruesa dibujada en la media.\n",
        "\n",
        "En distribuciones sesgadas, la media tiende a ser jalada en la dirección del sesgo, mientras que la mediana tiende a resistir los efectos del sesgo:"
      ]
    },
    {
      "cell_type": "code",
      "execution_count": null,
      "metadata": {
        "colab": {
          "base_uri": "https://localhost:8080/",
          "height": 320
        },
        "id": "gdJ-s1pfMh1o",
        "outputId": "a8ca3016-cd9d-46ff-c0f1-9d2aa79faf32"
      },
      "outputs": [
        {
          "output_type": "display_data",
          "data": {
            "image/png": "[encoded data removed]",
            "text/plain": [
              "<Figure size 360x360 with 1 Axes>"
            ]
          },
          "metadata": {
            "needs_background": "light"
          }
        }
      ],
      "source": [
        "skewed_data = pd.DataFrame(np.random.exponential(size=100000))\n",
        "\n",
        "skewed_data.plot(kind=\"density\",\n",
        "              figsize=(5,5),\n",
        "              xlim=(-1,5));\n",
        "\n",
        "\n",
        "plt.vlines(skewed_data.mean(),     # media = línea negra\n",
        "           ymin=0, \n",
        "           ymax=0.8,\n",
        "           linewidth=5.0);\n",
        "\n",
        "plt.vlines(skewed_data.median(),   # mediana = línea roja\n",
        "           ymin=0, \n",
        "           ymax=0.8, \n",
        "           linewidth=2.0,\n",
        "           color=\"red\");"
      ]
    },
    {
      "cell_type": "markdown",
      "metadata": {
        "id": "Ewzba-qhMh1p"
      },
      "source": [
        "La media también está fuertemente influenciada por los valores atípicos, mientras que la mediana resiste la influencia de los valores atípicos. Dado que la mediana tiende a resistir los efectos de la asimetría y los valores atípicos, se la conoce como una estadística \"robusta\". La mediana generalmente da una mejor idea del valor típico en una distribución con sesgos significativos o valores atípicos:"
      ]
    },
    {
      "cell_type": "markdown",
      "metadata": {
        "id": "n7sishqvMh1r"
      },
      "source": [
        "La **moda** de una variable es simplemente el valor que aparece con más frecuencia. A diferencia de la media y la mediana, se puede tomar la moda de una variable categórica y es posible tener varias modas. La moda la podemos encontrar con `mtcars.mode()`:"
      ]
    },
    {
      "cell_type": "code",
      "execution_count": null,
      "metadata": {
        "colab": {
          "base_uri": "https://localhost:8080/",
          "height": 269
        },
        "id": "Jy2FvRIEMh1s",
        "outputId": "243983a0-e400-40c2-c946-61eabfbdddac"
      },
      "outputs": [
        {
          "output_type": "execute_result",
          "data": {
            "text/html": [
              "\n",
              "  <div id=\"df-4cc540d0-64d4-4fa9-a252-3a586e62e1ce\">\n",
              "    <div class=\"colab-df-container\">\n",
              "      <div>\n",
              "<style scoped>\n",
              "    .dataframe tbody tr th:only-of-type {\n",
              "        vertical-align: middle;\n",
              "    }\n",
              "\n",
              "    .dataframe tbody tr th {\n",
              "        vertical-align: top;\n",
              "    }\n",
              "\n",
              "    .dataframe thead th {\n",
              "        text-align: right;\n",
              "    }\n",
              "</style>\n",
              "<table border=\"1\" class=\"dataframe\">\n",
              "  <thead>\n",
              "    <tr style=\"text-align: right;\">\n",
              "      <th></th>\n",
              "      <th>mpg</th>\n",
              "      <th>cyl</th>\n",
              "      <th>disp</th>\n",
              "      <th>hp</th>\n",
              "      <th>drat</th>\n",
              "      <th>wt</th>\n",
              "      <th>qsec</th>\n",
              "      <th>vs</th>\n",
              "      <th>am</th>\n",
              "      <th>gear</th>\n",
              "      <th>carb</th>\n",
              "    </tr>\n",
              "  </thead>\n",
              "  <tbody>\n",
              "    <tr>\n",
              "      <th>0</th>\n",
              "      <td>10.4</td>\n",
              "      <td>8.0</td>\n",
              "      <td>275.8</td>\n",
              "      <td>110.0</td>\n",
              "      <td>3.07</td>\n",
              "      <td>3.44</td>\n",
              "      <td>17.02</td>\n",
              "      <td>0.0</td>\n",
              "      <td>0.0</td>\n",
              "      <td>3.0</td>\n",
              "      <td>2.0</td>\n",
              "    </tr>\n",
              "    <tr>\n",
              "      <th>1</th>\n",
              "      <td>15.2</td>\n",
              "      <td>NaN</td>\n",
              "      <td>NaN</td>\n",
              "      <td>175.0</td>\n",
              "      <td>3.92</td>\n",
              "      <td>NaN</td>\n",
              "      <td>18.90</td>\n",
              "      <td>NaN</td>\n",
              "      <td>NaN</td>\n",
              "      <td>NaN</td>\n",
              "      <td>4.0</td>\n",
              "    </tr>\n",
              "    <tr>\n",
              "      <th>2</th>\n",
              "      <td>19.2</td>\n",
              "      <td>NaN</td>\n",
              "      <td>NaN</td>\n",
              "      <td>180.0</td>\n",
              "      <td>NaN</td>\n",
              "      <td>NaN</td>\n",
              "      <td>NaN</td>\n",
              "      <td>NaN</td>\n",
              "      <td>NaN</td>\n",
              "      <td>NaN</td>\n",
              "      <td>NaN</td>\n",
              "    </tr>\n",
              "    <tr>\n",
              "      <th>3</th>\n",
              "      <td>21.0</td>\n",
              "      <td>NaN</td>\n",
              "      <td>NaN</td>\n",
              "      <td>NaN</td>\n",
              "      <td>NaN</td>\n",
              "      <td>NaN</td>\n",
              "      <td>NaN</td>\n",
              "      <td>NaN</td>\n",
              "      <td>NaN</td>\n",
              "      <td>NaN</td>\n",
              "      <td>NaN</td>\n",
              "    </tr>\n",
              "    <tr>\n",
              "      <th>4</th>\n",
              "      <td>21.4</td>\n",
              "      <td>NaN</td>\n",
              "      <td>NaN</td>\n",
              "      <td>NaN</td>\n",
              "      <td>NaN</td>\n",
              "      <td>NaN</td>\n",
              "      <td>NaN</td>\n",
              "      <td>NaN</td>\n",
              "      <td>NaN</td>\n",
              "      <td>NaN</td>\n",
              "      <td>NaN</td>\n",
              "    </tr>\n",
              "    <tr>\n",
              "      <th>5</th>\n",
              "      <td>22.8</td>\n",
              "      <td>NaN</td>\n",
              "      <td>NaN</td>\n",
              "      <td>NaN</td>\n",
              "      <td>NaN</td>\n",
              "      <td>NaN</td>\n",
              "      <td>NaN</td>\n",
              "      <td>NaN</td>\n",
              "      <td>NaN</td>\n",
              "      <td>NaN</td>\n",
              "      <td>NaN</td>\n",
              "    </tr>\n",
              "    <tr>\n",
              "      <th>6</th>\n",
              "      <td>30.4</td>\n",
              "      <td>NaN</td>\n",
              "      <td>NaN</td>\n",
              "      <td>NaN</td>\n",
              "      <td>NaN</td>\n",
              "      <td>NaN</td>\n",
              "      <td>NaN</td>\n",
              "      <td>NaN</td>\n",
              "      <td>NaN</td>\n",
              "      <td>NaN</td>\n",
              "      <td>NaN</td>\n",
              "    </tr>\n",
              "  </tbody>\n",
              "</table>\n",
              "</div>\n",
              "      <button class=\"colab-df-convert\" onclick=\"convertToInteractive('df-4cc540d0-64d4-4fa9-a252-3a586e62e1ce')\"\n",
              "              title=\"Convert this dataframe to an interactive table.\"\n",
              "              style=\"display:none;\">\n",
              "        \n",
              "  <svg xmlns=\"http://www.w3.org/2000/svg\" height=\"24px\"viewBox=\"0 0 24 24\"\n",
              "       width=\"24px\">\n",
              "    <path d=\"M0 0h24v24H0V0z\" fill=\"none\"/>\n",
              "    <path d=\"M18.56 5.44l.94 2.06.94-2.06 2.06-.94-2.06-.94-.94-2.06-.94 2.06-2.06.94zm-11 1L8.5 8.5l.94-2.06 2.06-.94-2.06-.94L8.5 2.5l-.94 2.06-2.06.94zm10 10l.94 2.06.94-2.06 2.06-.94-2.06-.94-.94-2.06-.94 2.06-2.06.94z\"/><path d=\"M17.41 7.96l-1.37-1.37c-.4-.4-.92-.59-1.43-.59-.52 0-1.04.2-1.43.59L10.3 9.45l-7.72 7.72c-.78.78-.78 2.05 0 2.83L4 21.41c.39.39.9.59 1.41.59.51 0 1.02-.2 1.41-.59l7.78-7.78 2.81-2.81c.8-.78.8-2.07 0-2.86zM5.41 20L4 18.59l7.72-7.72 1.47 1.35L5.41 20z\"/>\n",
              "  </svg>\n",
              "      </button>\n",
              "      \n",
              "  <style>\n",
              "    .colab-df-container {\n",
              "      display:flex;\n",
              "      flex-wrap:wrap;\n",
              "      gap: 12px;\n",
              "    }\n",
              "\n",
              "    .colab-df-convert {\n",
              "      background-color: #E8F0FE;\n",
              "      border: none;\n",
              "      border-radius: 50%;\n",
              "      cursor: pointer;\n",
              "      display: none;\n",
              "      fill: #1967D2;\n",
              "      height: 32px;\n",
              "      padding: 0 0 0 0;\n",
              "      width: 32px;\n",
              "    }\n",
              "\n",
              "    .colab-df-convert:hover {\n",
              "      background-color: #E2EBFA;\n",
              "      box-shadow: 0px 1px 2px rgba(60, 64, 67, 0.3), 0px 1px 3px 1px rgba(60, 64, 67, 0.15);\n",
              "      fill: #174EA6;\n",
              "    }\n",
              "\n",
              "    [theme=dark] .colab-df-convert {\n",
              "      background-color: #3B4455;\n",
              "      fill: #D2E3FC;\n",
              "    }\n",
              "\n",
              "    [theme=dark] .colab-df-convert:hover {\n",
              "      background-color: #434B5C;\n",
              "      box-shadow: 0px 1px 3px 1px rgba(0, 0, 0, 0.15);\n",
              "      filter: drop-shadow(0px 1px 2px rgba(0, 0, 0, 0.3));\n",
              "      fill: #FFFFFF;\n",
              "    }\n",
              "  </style>\n",
              "\n",
              "      <script>\n",
              "        const buttonEl =\n",
              "          document.querySelector('#df-4cc540d0-64d4-4fa9-a252-3a586e62e1ce button.colab-df-convert');\n",
              "        buttonEl.style.display =\n",
              "          google.colab.kernel.accessAllowed ? 'block' : 'none';\n",
              "\n",
              "        async function convertToInteractive(key) {\n",
              "          const element = document.querySelector('#df-4cc540d0-64d4-4fa9-a252-3a586e62e1ce');\n",
              "          const dataTable =\n",
              "            await google.colab.kernel.invokeFunction('convertToInteractive',\n",
              "                                                     [key], {});\n",
              "          if (!dataTable) return;\n",
              "\n",
              "          const docLinkHtml = 'Like what you see? Visit the ' +\n",
              "            '<a target=\"_blank\" href=https://colab.research.google.com/notebooks/data_table.ipynb>data table notebook</a>'\n",
              "            + ' to learn more about interactive tables.';\n",
              "          element.innerHTML = '';\n",
              "          dataTable['output_type'] = 'display_data';\n",
              "          await google.colab.output.renderOutput(dataTable, element);\n",
              "          const docLink = document.createElement('div');\n",
              "          docLink.innerHTML = docLinkHtml;\n",
              "          element.appendChild(docLink);\n",
              "        }\n",
              "      </script>\n",
              "    </div>\n",
              "  </div>\n",
              "  "
            ],
            "text/plain": [
              "    mpg  cyl   disp     hp  drat    wt   qsec   vs   am  gear  carb\n",
              "0  10.4  8.0  275.8  110.0  3.07  3.44  17.02  0.0  0.0   3.0   2.0\n",
              "1  15.2  NaN    NaN  175.0  3.92   NaN  18.90  NaN  NaN   NaN   4.0\n",
              "2  19.2  NaN    NaN  180.0   NaN   NaN    NaN  NaN  NaN   NaN   NaN\n",
              "3  21.0  NaN    NaN    NaN   NaN   NaN    NaN  NaN  NaN   NaN   NaN\n",
              "4  21.4  NaN    NaN    NaN   NaN   NaN    NaN  NaN  NaN   NaN   NaN\n",
              "5  22.8  NaN    NaN    NaN   NaN   NaN    NaN  NaN  NaN   NaN   NaN\n",
              "6  30.4  NaN    NaN    NaN   NaN   NaN    NaN  NaN  NaN   NaN   NaN"
            ]
          },
          "metadata": {},
          "execution_count": 23
        }
      ],
      "source": [
        "mtcars.mode()"
      ]
    },
    {
      "cell_type": "markdown",
      "metadata": {
        "id": "D1xyCmZxMh1s"
      },
      "source": [
        "Las columnas con múltiples modas (múltiples valores con el mismo conteo) devuelven múltiples valores. Las columnas sin moda (ningún valor que aparezca más de una vez) devuelven NaN."
      ]
    },
    {
      "cell_type": "markdown",
      "metadata": {
        "id": "jB4qYXi1Mh1t"
      },
      "source": [
        "## **Medidas de dispersión (Measures of Spread)**"
      ]
    },
    {
      "cell_type": "markdown",
      "metadata": {
        "id": "hOEus4mtMh1u"
      },
      "source": [
        "Las medidas de dispersión describen cómo varían los datos. Mientras que las medidas de centralidad nos dan una idea del valor típico, las medidas de dispersión nos dan una idea de cuánto tienden a divergir los datos del valor típico.\n",
        "\n",
        "Una de las medidas más simples de dispersión es el **rango**. El rango es la distancia entre las observaciones máxima y mínima:"
      ]
    },
    {
      "cell_type": "code",
      "execution_count": null,
      "metadata": {
        "colab": {
          "base_uri": "https://localhost:8080/"
        },
        "id": "SPWJToUAMh1u",
        "outputId": "ccba4edc-a2eb-4fa7-c8e8-1b81aa6fd81a"
      },
      "outputs": [
        {
          "output_type": "execute_result",
          "data": {
            "text/plain": [
              "23.5"
            ]
          },
          "metadata": {},
          "execution_count": 31
        }
      ],
      "source": [
        "max(mtcars[\"mpg\"]) - min(mtcars[\"mpg\"])"
      ]
    },
    {
      "cell_type": "code",
      "source": [
        "max(mtcars[\"cyl\"]) - min(mtcars[\"cyl\"])"
      ],
      "metadata": {
        "colab": {
          "base_uri": "https://localhost:8080/"
        },
        "id": "vWwu43OU0rcX",
        "outputId": "649e3777-a3ac-48f4-f345-5a1faf8a9f16"
      },
      "execution_count": null,
      "outputs": [
        {
          "output_type": "execute_result",
          "data": {
            "text/plain": [
              "4"
            ]
          },
          "metadata": {},
          "execution_count": 37
        }
      ]
    },
    {
      "cell_type": "markdown",
      "metadata": {
        "id": "8viyLhNfMh1v"
      },
      "source": [
        "La mediana representa el percentil 50 de un conjunto de datos. \n",
        "\n",
        "El percentil es una medida de posición usada en estadística que indica, una vez ordenados los datos de menor a mayor, el valor de la variable por debajo del cual se encuentra un porcentaje dado de observaciones en un grupo\n",
        "\n",
        "Se puede utilizar un resumen de varios percentiles para describir la dispersión de una variable. Podemos extraer el valor mínimo (percentil 0), el primer **cuartil** (percentil 25), la mediana, el tercer cuartil (percentil 75) y el valor máximo (percentil 100) usando la función `quantile()`:"
      ]
    },
    {
      "cell_type": "code",
      "source": [
        "mtcars['mpg'].median()"
      ],
      "metadata": {
        "colab": {
          "base_uri": "https://localhost:8080/"
        },
        "id": "l-NzUkEJlOg2",
        "outputId": "d85cd41b-72cf-4f9b-c68c-8d3728c5f5c8"
      },
      "execution_count": null,
      "outputs": [
        {
          "output_type": "execute_result",
          "data": {
            "text/plain": [
              "19.2"
            ]
          },
          "metadata": {},
          "execution_count": 24
        }
      ]
    },
    {
      "cell_type": "code",
      "execution_count": null,
      "metadata": {
        "colab": {
          "base_uri": "https://localhost:8080/"
        },
        "id": "9C3YNEk7Mh1w",
        "outputId": "55f03529-a088-4495-af4c-9e8b313ad45c"
      },
      "outputs": [
        {
          "output_type": "execute_result",
          "data": {
            "text/plain": [
              "[10.4, 15.425, 19.2, 22.8, 33.9]"
            ]
          },
          "metadata": {},
          "execution_count": 39
        }
      ],
      "source": [
        "five_num = [mtcars[\"mpg\"].quantile(0),   \n",
        "            mtcars[\"mpg\"].quantile(0.25),\n",
        "            mtcars[\"mpg\"].quantile(0.50),\n",
        "            mtcars[\"mpg\"].quantile(0.75),\n",
        "            mtcars[\"mpg\"].quantile(1)]\n",
        "\n",
        "five_num"
      ]
    },
    {
      "cell_type": "markdown",
      "metadata": {
        "id": "PL9hPoD1Mh1x"
      },
      "source": [
        "Dado que estos valores se usan tan comúnmente para describir datos, se conocen como el \"*resumen de cinco números*\". Son los mismos valores percentiles devueltos por `df.describe()`:\n"
      ]
    },
    {
      "cell_type": "code",
      "execution_count": null,
      "metadata": {
        "colab": {
          "base_uri": "https://localhost:8080/",
          "height": 344
        },
        "id": "uChNNmZSMh1x",
        "outputId": "828a917d-a729-49f1-fffc-62821679ba99"
      },
      "outputs": [
        {
          "output_type": "execute_result",
          "data": {
            "text/html": [
              "\n",
              "  <div id=\"df-cd8df5a2-5efd-47ce-ba04-71e35359071f\">\n",
              "    <div class=\"colab-df-container\">\n",
              "      <div>\n",
              "<style scoped>\n",
              "    .dataframe tbody tr th:only-of-type {\n",
              "        vertical-align: middle;\n",
              "    }\n",
              "\n",
              "    .dataframe tbody tr th {\n",
              "        vertical-align: top;\n",
              "    }\n",
              "\n",
              "    .dataframe thead th {\n",
              "        text-align: right;\n",
              "    }\n",
              "</style>\n",
              "<table border=\"1\" class=\"dataframe\">\n",
              "  <thead>\n",
              "    <tr style=\"text-align: right;\">\n",
              "      <th></th>\n",
              "      <th>mpg</th>\n",
              "      <th>cyl</th>\n",
              "      <th>disp</th>\n",
              "      <th>hp</th>\n",
              "      <th>drat</th>\n",
              "      <th>wt</th>\n",
              "      <th>qsec</th>\n",
              "      <th>vs</th>\n",
              "      <th>am</th>\n",
              "      <th>gear</th>\n",
              "      <th>carb</th>\n",
              "    </tr>\n",
              "  </thead>\n",
              "  <tbody>\n",
              "    <tr>\n",
              "      <th>count</th>\n",
              "      <td>32.000000</td>\n",
              "      <td>32.000000</td>\n",
              "      <td>32.000000</td>\n",
              "      <td>32.000000</td>\n",
              "      <td>32.000000</td>\n",
              "      <td>32.000000</td>\n",
              "      <td>32.000000</td>\n",
              "      <td>32.000000</td>\n",
              "      <td>32.000000</td>\n",
              "      <td>32.000000</td>\n",
              "      <td>32.0000</td>\n",
              "    </tr>\n",
              "    <tr>\n",
              "      <th>mean</th>\n",
              "      <td>20.090625</td>\n",
              "      <td>6.187500</td>\n",
              "      <td>230.721875</td>\n",
              "      <td>146.687500</td>\n",
              "      <td>3.596563</td>\n",
              "      <td>3.217250</td>\n",
              "      <td>17.848750</td>\n",
              "      <td>0.437500</td>\n",
              "      <td>0.406250</td>\n",
              "      <td>3.687500</td>\n",
              "      <td>2.8125</td>\n",
              "    </tr>\n",
              "    <tr>\n",
              "      <th>std</th>\n",
              "      <td>6.026948</td>\n",
              "      <td>1.785922</td>\n",
              "      <td>123.938694</td>\n",
              "      <td>68.562868</td>\n",
              "      <td>0.534679</td>\n",
              "      <td>0.978457</td>\n",
              "      <td>1.786943</td>\n",
              "      <td>0.504016</td>\n",
              "      <td>0.498991</td>\n",
              "      <td>0.737804</td>\n",
              "      <td>1.6152</td>\n",
              "    </tr>\n",
              "    <tr>\n",
              "      <th>min</th>\n",
              "      <td>10.400000</td>\n",
              "      <td>4.000000</td>\n",
              "      <td>71.100000</td>\n",
              "      <td>52.000000</td>\n",
              "      <td>2.760000</td>\n",
              "      <td>1.513000</td>\n",
              "      <td>14.500000</td>\n",
              "      <td>0.000000</td>\n",
              "      <td>0.000000</td>\n",
              "      <td>3.000000</td>\n",
              "      <td>1.0000</td>\n",
              "    </tr>\n",
              "    <tr>\n",
              "      <th>25%</th>\n",
              "      <td>15.425000</td>\n",
              "      <td>4.000000</td>\n",
              "      <td>120.825000</td>\n",
              "      <td>96.500000</td>\n",
              "      <td>3.080000</td>\n",
              "      <td>2.581250</td>\n",
              "      <td>16.892500</td>\n",
              "      <td>0.000000</td>\n",
              "      <td>0.000000</td>\n",
              "      <td>3.000000</td>\n",
              "      <td>2.0000</td>\n",
              "    </tr>\n",
              "    <tr>\n",
              "      <th>50%</th>\n",
              "      <td>19.200000</td>\n",
              "      <td>6.000000</td>\n",
              "      <td>196.300000</td>\n",
              "      <td>123.000000</td>\n",
              "      <td>3.695000</td>\n",
              "      <td>3.325000</td>\n",
              "      <td>17.710000</td>\n",
              "      <td>0.000000</td>\n",
              "      <td>0.000000</td>\n",
              "      <td>4.000000</td>\n",
              "      <td>2.0000</td>\n",
              "    </tr>\n",
              "    <tr>\n",
              "      <th>75%</th>\n",
              "      <td>22.800000</td>\n",
              "      <td>8.000000</td>\n",
              "      <td>326.000000</td>\n",
              "      <td>180.000000</td>\n",
              "      <td>3.920000</td>\n",
              "      <td>3.610000</td>\n",
              "      <td>18.900000</td>\n",
              "      <td>1.000000</td>\n",
              "      <td>1.000000</td>\n",
              "      <td>4.000000</td>\n",
              "      <td>4.0000</td>\n",
              "    </tr>\n",
              "    <tr>\n",
              "      <th>max</th>\n",
              "      <td>33.900000</td>\n",
              "      <td>8.000000</td>\n",
              "      <td>472.000000</td>\n",
              "      <td>335.000000</td>\n",
              "      <td>4.930000</td>\n",
              "      <td>5.424000</td>\n",
              "      <td>22.900000</td>\n",
              "      <td>1.000000</td>\n",
              "      <td>1.000000</td>\n",
              "      <td>5.000000</td>\n",
              "      <td>8.0000</td>\n",
              "    </tr>\n",
              "  </tbody>\n",
              "</table>\n",
              "</div>\n",
              "      <button class=\"colab-df-convert\" onclick=\"convertToInteractive('df-cd8df5a2-5efd-47ce-ba04-71e35359071f')\"\n",
              "              title=\"Convert this dataframe to an interactive table.\"\n",
              "              style=\"display:none;\">\n",
              "        \n",
              "  <svg xmlns=\"http://www.w3.org/2000/svg\" height=\"24px\"viewBox=\"0 0 24 24\"\n",
              "       width=\"24px\">\n",
              "    <path d=\"M0 0h24v24H0V0z\" fill=\"none\"/>\n",
              "    <path d=\"M18.56 5.44l.94 2.06.94-2.06 2.06-.94-2.06-.94-.94-2.06-.94 2.06-2.06.94zm-11 1L8.5 8.5l.94-2.06 2.06-.94-2.06-.94L8.5 2.5l-.94 2.06-2.06.94zm10 10l.94 2.06.94-2.06 2.06-.94-2.06-.94-.94-2.06-.94 2.06-2.06.94z\"/><path d=\"M17.41 7.96l-1.37-1.37c-.4-.4-.92-.59-1.43-.59-.52 0-1.04.2-1.43.59L10.3 9.45l-7.72 7.72c-.78.78-.78 2.05 0 2.83L4 21.41c.39.39.9.59 1.41.59.51 0 1.02-.2 1.41-.59l7.78-7.78 2.81-2.81c.8-.78.8-2.07 0-2.86zM5.41 20L4 18.59l7.72-7.72 1.47 1.35L5.41 20z\"/>\n",
              "  </svg>\n",
              "      </button>\n",
              "      \n",
              "  <style>\n",
              "    .colab-df-container {\n",
              "      display:flex;\n",
              "      flex-wrap:wrap;\n",
              "      gap: 12px;\n",
              "    }\n",
              "\n",
              "    .colab-df-convert {\n",
              "      background-color: #E8F0FE;\n",
              "      border: none;\n",
              "      border-radius: 50%;\n",
              "      cursor: pointer;\n",
              "      display: none;\n",
              "      fill: #1967D2;\n",
              "      height: 32px;\n",
              "      padding: 0 0 0 0;\n",
              "      width: 32px;\n",
              "    }\n",
              "\n",
              "    .colab-df-convert:hover {\n",
              "      background-color: #E2EBFA;\n",
              "      box-shadow: 0px 1px 2px rgba(60, 64, 67, 0.3), 0px 1px 3px 1px rgba(60, 64, 67, 0.15);\n",
              "      fill: #174EA6;\n",
              "    }\n",
              "\n",
              "    [theme=dark] .colab-df-convert {\n",
              "      background-color: #3B4455;\n",
              "      fill: #D2E3FC;\n",
              "    }\n",
              "\n",
              "    [theme=dark] .colab-df-convert:hover {\n",
              "      background-color: #434B5C;\n",
              "      box-shadow: 0px 1px 3px 1px rgba(0, 0, 0, 0.15);\n",
              "      filter: drop-shadow(0px 1px 2px rgba(0, 0, 0, 0.3));\n",
              "      fill: #FFFFFF;\n",
              "    }\n",
              "  </style>\n",
              "\n",
              "      <script>\n",
              "        const buttonEl =\n",
              "          document.querySelector('#df-cd8df5a2-5efd-47ce-ba04-71e35359071f button.colab-df-convert');\n",
              "        buttonEl.style.display =\n",
              "          google.colab.kernel.accessAllowed ? 'block' : 'none';\n",
              "\n",
              "        async function convertToInteractive(key) {\n",
              "          const element = document.querySelector('#df-cd8df5a2-5efd-47ce-ba04-71e35359071f');\n",
              "          const dataTable =\n",
              "            await google.colab.kernel.invokeFunction('convertToInteractive',\n",
              "                                                     [key], {});\n",
              "          if (!dataTable) return;\n",
              "\n",
              "          const docLinkHtml = 'Like what you see? Visit the ' +\n",
              "            '<a target=\"_blank\" href=https://colab.research.google.com/notebooks/data_table.ipynb>data table notebook</a>'\n",
              "            + ' to learn more about interactive tables.';\n",
              "          element.innerHTML = '';\n",
              "          dataTable['output_type'] = 'display_data';\n",
              "          await google.colab.output.renderOutput(dataTable, element);\n",
              "          const docLink = document.createElement('div');\n",
              "          docLink.innerHTML = docLinkHtml;\n",
              "          element.appendChild(docLink);\n",
              "        }\n",
              "      </script>\n",
              "    </div>\n",
              "  </div>\n",
              "  "
            ],
            "text/plain": [
              "             mpg        cyl        disp          hp       drat         wt  \\\n",
              "count  32.000000  32.000000   32.000000   32.000000  32.000000  32.000000   \n",
              "mean   20.090625   6.187500  230.721875  146.687500   3.596563   3.217250   \n",
              "std     6.026948   1.785922  123.938694   68.562868   0.534679   0.978457   \n",
              "min    10.400000   4.000000   71.100000   52.000000   2.760000   1.513000   \n",
              "25%    15.425000   4.000000  120.825000   96.500000   3.080000   2.581250   \n",
              "50%    19.200000   6.000000  196.300000  123.000000   3.695000   3.325000   \n",
              "75%    22.800000   8.000000  326.000000  180.000000   3.920000   3.610000   \n",
              "max    33.900000   8.000000  472.000000  335.000000   4.930000   5.424000   \n",
              "\n",
              "            qsec         vs         am       gear     carb  \n",
              "count  32.000000  32.000000  32.000000  32.000000  32.0000  \n",
              "mean   17.848750   0.437500   0.406250   3.687500   2.8125  \n",
              "std     1.786943   0.504016   0.498991   0.737804   1.6152  \n",
              "min    14.500000   0.000000   0.000000   3.000000   1.0000  \n",
              "25%    16.892500   0.000000   0.000000   3.000000   2.0000  \n",
              "50%    17.710000   0.000000   0.000000   4.000000   2.0000  \n",
              "75%    18.900000   1.000000   1.000000   4.000000   4.0000  \n",
              "max    22.900000   1.000000   1.000000   5.000000   8.0000  "
            ]
          },
          "metadata": {},
          "execution_count": 25
        }
      ],
      "source": [
        "mtcars.describe()"
      ]
    },
    {
      "cell_type": "markdown",
      "metadata": {
        "id": "myi_-E-dMh1y"
      },
      "source": [
        "El rango intercuartil (IQR) es otra medida común de dispersión. IQR es la distancia entre el 3er cuartil y el 1er cuartil:"
      ]
    },
    {
      "cell_type": "code",
      "execution_count": null,
      "metadata": {
        "colab": {
          "base_uri": "https://localhost:8080/"
        },
        "id": "KPNUFtS-Mh1y",
        "outputId": "e2db5e1b-aa3f-4c1a-a5cf-6cd5650bd270"
      },
      "outputs": [
        {
          "output_type": "execute_result",
          "data": {
            "text/plain": [
              "7.375"
            ]
          },
          "metadata": {},
          "execution_count": 42
        }
      ],
      "source": [
        "mtcars[\"mpg\"].quantile(0.75) - mtcars[\"mpg\"].quantile(0.25)"
      ]
    },
    {
      "cell_type": "markdown",
      "metadata": {
        "id": "KbBrOqiNMh1z"
      },
      "source": [
        "Los diagramas de caja (*box plots*) son representaciones visuales del resumen de los cinco números y el IQR.\n",
        "\n",
        "En la siguiente gráfica se muestran las diferentes partes de un box plot:"
      ]
    },
    {
      "cell_type": "code",
      "execution_count": null,
      "metadata": {
        "colab": {
          "base_uri": "https://localhost:8080/",
          "height": 431
        },
        "id": "ivm-WNnIMh1z",
        "outputId": "a2197771-8c2c-456c-b795-a021520dfbe6"
      },
      "outputs": [
        {
          "output_type": "display_data",
          "data": {
            "image/png": "[encoded data removed]",
            "text/plain": [
              "<Figure size 504x504 with 1 Axes>"
            ]
          },
          "metadata": {
            "needs_background": "light"
          }
        }
      ],
      "source": [
        "mtcars.boxplot(column=\"mpg\", \n",
        "               return_type='axes',\n",
        "               figsize=(7,7))\n",
        "\n",
        "plt.text(x=0.74, y=22.25, s=\"Tercer cuartil\")\n",
        "plt.text(x=0.8, y=18.75, s=\"Mediana\")\n",
        "plt.text(x=0.75, y=15.5, s=\"Primer cuartil\")\n",
        "plt.text(x=0.9, y=10, s=\"Min\")\n",
        "plt.text(x=0.9, y=33.5, s=\"Max\")\n",
        "plt.text(x=0.7, y=19.5, s=\"IQR\", rotation=90, size=25);"
      ]
    },
    {
      "cell_type": "markdown",
      "source": [
        "En esta gráfica, podemos identificar las siguiente cantidades:\n",
        "\n",
        "* Mediana.\n",
        "* Cuartil superior  $P_{75}$. \n",
        "* Cuartil inferior  $P_{25}$ \n",
        "* Rango intercuartil  $IQR = P_{75} − P_{25}$\n",
        "* Extremo superior\n",
        "* Extremo inferior"
      ],
      "metadata": {
        "id": "G4Q2ODcjfVWI"
      }
    },
    {
      "cell_type": "code",
      "source": [
        "mtcars.boxplot(column=\"hp\",\n",
        "               return_type='axes',\n",
        "               figsize=(4,4))"
      ],
      "metadata": {
        "colab": {
          "base_uri": "https://localhost:8080/",
          "height": 282
        },
        "id": "4320lcW05NYX",
        "outputId": "227a11d5-bfde-4c97-92d7-7abbebddd824"
      },
      "execution_count": null,
      "outputs": [
        {
          "output_type": "execute_result",
          "data": {
            "text/plain": [
              "<matplotlib.axes._subplots.AxesSubplot at 0x7fe27f4604d0>"
            ]
          },
          "metadata": {},
          "execution_count": 27
        },
        {
          "output_type": "display_data",
          "data": {
            "image/png": "[encoded data removed]",
            "text/plain": [
              "<Figure size 288x288 with 1 Axes>"
            ]
          },
          "metadata": {
            "needs_background": "light"
          }
        }
      ]
    },
    {
      "cell_type": "code",
      "source": [
        "import seaborn as sns\n",
        "import matplotlib.pyplot as plt\n",
        "plt.figure(figsize=(4.5, 4.5))\n",
        "#sns.boxplot(x=\"axis=1\",y=\"mpg, hp\", data=mtcars)\n",
        "sns.boxplot(x= 'hp', y=\"mpg\", data=mtcars)"
      ],
      "metadata": {
        "colab": {
          "base_uri": "https://localhost:8080/",
          "height": 327
        },
        "id": "2qppaPsdAg0b",
        "outputId": "043cbe7c-5c82-4aa9-a4b0-cd07ecad3c49"
      },
      "execution_count": null,
      "outputs": [
        {
          "output_type": "execute_result",
          "data": {
            "text/plain": [
              "<matplotlib.axes._subplots.AxesSubplot at 0x7fe27e284750>"
            ]
          },
          "metadata": {},
          "execution_count": 30
        },
        {
          "output_type": "display_data",
          "data": {
            "image/png": "[encoded data removed]",
            "text/plain": [
              "<Figure size 324x324 with 1 Axes>"
            ]
          },
          "metadata": {
            "needs_background": "light"
          }
        }
      ]
    },
    {
      "cell_type": "markdown",
      "metadata": {
        "id": "5CGRpisjMh10"
      },
      "source": [
        "La **varianza** y la **desviación** estándar son otras dos medidas comunes de dispersión. La varianza de una distribución es el promedio del cuadrado de la desviación de dicha variable respecto a su media. Use `df.var()` para hallar la variación:\n",
        "\n"
      ]
    },
    {
      "cell_type": "code",
      "execution_count": null,
      "metadata": {
        "colab": {
          "base_uri": "https://localhost:8080/"
        },
        "id": "AvPUzc8ZMh10",
        "outputId": "db694b11-0e18-4d98-bbaa-ec9eb9a2af1b"
      },
      "outputs": [
        {
          "output_type": "execute_result",
          "data": {
            "text/plain": [
              "36.32410282258065"
            ]
          },
          "metadata": {},
          "execution_count": 46
        }
      ],
      "source": [
        "mtcars[\"mpg\"].var()"
      ]
    },
    {
      "cell_type": "markdown",
      "metadata": {
        "id": "XsjYhMJ3Mh11"
      },
      "source": [
        "La desviación estándar es la raíz cuadrada de la varianza. La desviación estándar puede ser más interpretable que la varianza, ya que la desviación estándar se expresa en términos de las mismas unidades que la variable en cuestión, mientras que la varianza se expresa en términos de unidades al cuadrado. Use `df.std()` para verificar la desviación estándar:\n"
      ]
    },
    {
      "cell_type": "code",
      "execution_count": null,
      "metadata": {
        "colab": {
          "base_uri": "https://localhost:8080/"
        },
        "id": "MoUxmNx8Mh11",
        "outputId": "2d41edde-ebf9-485a-b1be-8109f27c5349"
      },
      "outputs": [
        {
          "output_type": "execute_result",
          "data": {
            "text/plain": [
              "6.026948052089105"
            ]
          },
          "metadata": {},
          "execution_count": 47
        }
      ],
      "source": [
        "mtcars[\"mpg\"].std()"
      ]
    },
    {
      "cell_type": "markdown",
      "metadata": {
        "id": "eGAiIyqeMh13"
      },
      "source": [
        "## **Sesgo y curtosis (Skewness and Kurtosis)**"
      ]
    },
    {
      "cell_type": "markdown",
      "metadata": {
        "id": "8nSm2zXUMh13"
      },
      "source": [
        "Más allá de las medidas de tendencia central y dispersión, la estadística descriptiva incluye medidas que le dan una idea de la forma de una distribución. El **sesgo**, también llamado coeficiente de asimetría, y la **curtosis**, son un tipo de medición característicos de una serie de valores tanto como las medidas de tendencia central o las medidas de dispersión.\n",
        "\n",
        "El sesgo mide la asimetría de una distribución, mientras que la curtosis mide la cantidad de datos que hay en las colas de una distribución vs el centro. No entraremos en los cálculos exactos detrás de la asimetría y la curtosis, pero son esencialmente estadísticas que llevan la idea de la varianza un paso más allá: mientras que la varianza implica elevar al cuadrado las desviaciones de la media, la asimetría implica elevar al cubo las desviaciones de la media y la curtosis implica elevar desviaciones de la media a la cuarta potencia.\n",
        "\n",
        "Pandas ha incorporado funciones para verificar la asimetría y la curtosis, `df.skew()` y `df.kurt()` respectivamente:"
      ]
    },
    {
      "cell_type": "markdown",
      "source": [
        "![skewandkurt.png](data:image/png;base64,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)"
      ],
      "metadata": {
        "id": "zunEhAWePNSC"
      }
    },
    {
      "cell_type": "code",
      "execution_count": null,
      "metadata": {
        "colab": {
          "base_uri": "https://localhost:8080/"
        },
        "id": "sn5TybNUMh14",
        "outputId": "c41a2860-b741-4038-8673-ab89e8694b95"
      },
      "outputs": [
        {
          "output_type": "execute_result",
          "data": {
            "text/plain": [
              "0.6723771376290805"
            ]
          },
          "metadata": {},
          "execution_count": 31
        }
      ],
      "source": [
        "mtcars[\"mpg\"].skew()  # skewness"
      ]
    },
    {
      "cell_type": "code",
      "execution_count": null,
      "metadata": {
        "colab": {
          "base_uri": "https://localhost:8080/"
        },
        "id": "grnGulfmMh14",
        "outputId": "e5c8d3ad-fd38-4ffd-c93a-de45dc075e17"
      },
      "outputs": [
        {
          "output_type": "execute_result",
          "data": {
            "text/plain": [
              "-0.0220062914240855"
            ]
          },
          "metadata": {},
          "execution_count": 32
        }
      ],
      "source": [
        "mtcars[\"mpg\"].kurt()  # kurtosis"
      ]
    },
    {
      "cell_type": "markdown",
      "metadata": {
        "id": "iQ0STNNaMh14"
      },
      "source": [
        "Para explorar más estas dos medidas, vamos a crear algunos datos ficticios:"
      ]
    },
    {
      "cell_type": "code",
      "execution_count": null,
      "metadata": {
        "id": "DMgbw4qLMh15"
      },
      "outputs": [],
      "source": [
        "norm_data = np.random.normal(size=100000)\n",
        "skewed_data = np.concatenate((np.random.normal(size=35000)+2, \n",
        "                             np.random.exponential(size=65000)), \n",
        "                             axis=0)\n",
        "uniform_data = np.random.uniform(0,2, size=100000)\n",
        "peaked_data = np.concatenate((np.random.exponential(size=50000),\n",
        "                             np.random.exponential(size=50000)*(-1)),\n",
        "                             axis=0)\n",
        "\n",
        "data_df = pd.DataFrame({\"norm\":norm_data,\n",
        "                       \"skewed\":skewed_data,\n",
        "                       \"uniform\":uniform_data,\n",
        "                       \"peaked\":peaked_data})"
      ]
    },
    {
      "cell_type": "code",
      "execution_count": null,
      "metadata": {
        "colab": {
          "base_uri": "https://localhost:8080/",
          "height": 428
        },
        "id": "mHH47O_UMh15",
        "outputId": "03b8c3cd-703e-4062-85ab-8014ea565f71"
      },
      "outputs": [
        {
          "output_type": "display_data",
          "data": {
            "image/png": "[encoded data removed]",
            "text/plain": [
              "<Figure size 504x504 with 1 Axes>"
            ]
          },
          "metadata": {
            "needs_background": "light"
          }
        }
      ],
      "source": [
        "data_df.plot(kind=\"density\", figsize=(7,7), xlim=(-5,5));"
      ]
    },
    {
      "cell_type": "markdown",
      "metadata": {
        "id": "yI2Ziyx0Mh16"
      },
      "source": [
        "Ahora vamos a comprobar la asimetría de cada una de las distribuciones. Dado que el sesgo (skewness) mide la asimetría, esperaríamos ver una asimetría baja para todas las distribuciones excepto la asimétrica, porque todas las demás son aproximadamente simétricas:\n"
      ]
    },
    {
      "cell_type": "markdown",
      "source": [
        "![Asimetría.png](data:image/png;base64,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)"
      ],
      "metadata": {
        "id": "SlmIutO2dy-h"
      }
    },
    {
      "cell_type": "code",
      "execution_count": null,
      "metadata": {
        "colab": {
          "base_uri": "https://localhost:8080/"
        },
        "id": "CL5CiKj_Mh16",
        "outputId": "79cf303d-3d77-4bc9-c1ee-49840ece701c"
      },
      "outputs": [
        {
          "output_type": "execute_result",
          "data": {
            "text/plain": [
              "norm      -0.012771\n",
              "skewed     1.014394\n",
              "uniform   -0.002316\n",
              "peaked    -0.019652\n",
              "dtype: float64"
            ]
          },
          "metadata": {},
          "execution_count": 35
        }
      ],
      "source": [
        "data_df.skew()"
      ]
    },
    {
      "cell_type": "markdown",
      "metadata": {
        "id": "sSHhn7MpMh17"
      },
      "source": [
        "Ahora vamos a comprobar la curtosis:"
      ]
    },
    {
      "cell_type": "code",
      "execution_count": null,
      "metadata": {
        "colab": {
          "base_uri": "https://localhost:8080/"
        },
        "id": "R5HzeUYQMh17",
        "outputId": "9662f2b4-f420-44a5-d10d-74d1515028e4"
      },
      "outputs": [
        {
          "output_type": "execute_result",
          "data": {
            "text/plain": [
              "norm       0.001444\n",
              "skewed     1.368093\n",
              "uniform   -1.195525\n",
              "peaked     3.136450\n",
              "dtype: float64"
            ]
          },
          "metadata": {},
          "execution_count": 36
        }
      ],
      "source": [
        "data_df.kurt()"
      ]
    },
    {
      "cell_type": "markdown",
      "metadata": {
        "id": "A02emTWYMh18"
      },
      "source": [
        "Los datos distribuidos normalmente tienen una curtosis cercana a cero, la distribución uniforme tiene una curtosis negativa y las dos distribuciones con más datos en las colas frente al centro tienen una curtosis más alta.\n",
        "\n"
      ]
    },
    {
      "cell_type": "markdown",
      "metadata": {
        "id": "YUF0xLUXMh19"
      },
      "source": [
        "La estadística descriptiva ayudan a explorar las características de los datos, como el centro, la distribución y la forma, resumiéndolas con medidas numéricas. Ayudan a informar la dirección de un análisis y le permiten comunicar sus conocimientos a los demás de forma rápida y sucinta. Además, ciertos valores, como la media y la varianza, se utilizan en todo tipo de pruebas estadísticas y modelos predictivos.\n",
        "\n"
      ]
    },
    {
      "cell_type": "markdown",
      "source": [
        "##**¿Cómo contabilizar variables categóricas?**\n",
        "Vamos a cargar el archivo AutomobileEDA.csv"
      ],
      "metadata": {
        "id": "WktsI5e_HxM_"
      }
    },
    {
      "cell_type": "code",
      "source": [
        "mtcarsEDA = pd.read_csv(\"AutomobileEDA.csv\")\n",
        "\n",
        "mtcarsEDA.head()"
      ],
      "metadata": {
        "colab": {
          "base_uri": "https://localhost:8080/",
          "height": 386
        },
        "id": "Ca1MsOkWVgQz",
        "outputId": "36a5813c-bec0-4de1-dd0d-cfc1392b1e09"
      },
      "execution_count": null,
      "outputs": [
        {
          "output_type": "execute_result",
          "data": {
            "text/html": [
              "\n",
              "  <div id=\"df-8e94a931-d095-4d97-98d7-d99c29878d3f\">\n",
              "    <div class=\"colab-df-container\">\n",
              "      <div>\n",
              "<style scoped>\n",
              "    .dataframe tbody tr th:only-of-type {\n",
              "        vertical-align: middle;\n",
              "    }\n",
              "\n",
              "    .dataframe tbody tr th {\n",
              "        vertical-align: top;\n",
              "    }\n",
              "\n",
              "    .dataframe thead th {\n",
              "        text-align: right;\n",
              "    }\n",
              "</style>\n",
              "<table border=\"1\" class=\"dataframe\">\n",
              "  <thead>\n",
              "    <tr style=\"text-align: right;\">\n",
              "      <th></th>\n",
              "      <th>symboling</th>\n",
              "      <th>normalized-losses</th>\n",
              "      <th>make</th>\n",
              "      <th>aspiration</th>\n",
              "      <th>num-of-doors</th>\n",
              "      <th>body-style</th>\n",
              "      <th>drive-wheels</th>\n",
              "      <th>engine-location</th>\n",
              "      <th>wheel-base</th>\n",
              "      <th>length</th>\n",
              "      <th>...</th>\n",
              "      <th>compression-ratio</th>\n",
              "      <th>horsepower</th>\n",
              "      <th>peak-rpm</th>\n",
              "      <th>city-mpg</th>\n",
              "      <th>highway-mpg</th>\n",
              "      <th>price</th>\n",
              "      <th>city-L/100km</th>\n",
              "      <th>horsepower-binned</th>\n",
              "      <th>diesel</th>\n",
              "      <th>gas</th>\n",
              "    </tr>\n",
              "  </thead>\n",
              "  <tbody>\n",
              "    <tr>\n",
              "      <th>0</th>\n",
              "      <td>3</td>\n",
              "      <td>122</td>\n",
              "      <td>alfa-romero</td>\n",
              "      <td>std</td>\n",
              "      <td>two</td>\n",
              "      <td>convertible</td>\n",
              "      <td>rwd</td>\n",
              "      <td>front</td>\n",
              "      <td>88.6</td>\n",
              "      <td>0.811148</td>\n",
              "      <td>...</td>\n",
              "      <td>9.0</td>\n",
              "      <td>111.0</td>\n",
              "      <td>5000.0</td>\n",
              "      <td>21</td>\n",
              "      <td>27</td>\n",
              "      <td>13495.0</td>\n",
              "      <td>11.190476</td>\n",
              "      <td>Medium</td>\n",
              "      <td>0</td>\n",
              "      <td>1</td>\n",
              "    </tr>\n",
              "    <tr>\n",
              "      <th>1</th>\n",
              "      <td>3</td>\n",
              "      <td>122</td>\n",
              "      <td>alfa-romero</td>\n",
              "      <td>std</td>\n",
              "      <td>two</td>\n",
              "      <td>convertible</td>\n",
              "      <td>rwd</td>\n",
              "      <td>front</td>\n",
              "      <td>88.6</td>\n",
              "      <td>0.811148</td>\n",
              "      <td>...</td>\n",
              "      <td>9.0</td>\n",
              "      <td>111.0</td>\n",
              "      <td>5000.0</td>\n",
              "      <td>21</td>\n",
              "      <td>27</td>\n",
              "      <td>16500.0</td>\n",
              "      <td>11.190476</td>\n",
              "      <td>Medium</td>\n",
              "      <td>0</td>\n",
              "      <td>1</td>\n",
              "    </tr>\n",
              "    <tr>\n",
              "      <th>2</th>\n",
              "      <td>1</td>\n",
              "      <td>122</td>\n",
              "      <td>alfa-romero</td>\n",
              "      <td>std</td>\n",
              "      <td>two</td>\n",
              "      <td>hatchback</td>\n",
              "      <td>rwd</td>\n",
              "      <td>front</td>\n",
              "      <td>94.5</td>\n",
              "      <td>0.822681</td>\n",
              "      <td>...</td>\n",
              "      <td>9.0</td>\n",
              "      <td>154.0</td>\n",
              "      <td>5000.0</td>\n",
              "      <td>19</td>\n",
              "      <td>26</td>\n",
              "      <td>16500.0</td>\n",
              "      <td>12.368421</td>\n",
              "      <td>Medium</td>\n",
              "      <td>0</td>\n",
              "      <td>1</td>\n",
              "    </tr>\n",
              "    <tr>\n",
              "      <th>3</th>\n",
              "      <td>2</td>\n",
              "      <td>164</td>\n",
              "      <td>audi</td>\n",
              "      <td>std</td>\n",
              "      <td>four</td>\n",
              "      <td>sedan</td>\n",
              "      <td>fwd</td>\n",
              "      <td>front</td>\n",
              "      <td>99.8</td>\n",
              "      <td>0.848630</td>\n",
              "      <td>...</td>\n",
              "      <td>10.0</td>\n",
              "      <td>102.0</td>\n",
              "      <td>5500.0</td>\n",
              "      <td>24</td>\n",
              "      <td>30</td>\n",
              "      <td>13950.0</td>\n",
              "      <td>9.791667</td>\n",
              "      <td>Medium</td>\n",
              "      <td>0</td>\n",
              "      <td>1</td>\n",
              "    </tr>\n",
              "    <tr>\n",
              "      <th>4</th>\n",
              "      <td>2</td>\n",
              "      <td>164</td>\n",
              "      <td>audi</td>\n",
              "      <td>std</td>\n",
              "      <td>four</td>\n",
              "      <td>sedan</td>\n",
              "      <td>4wd</td>\n",
              "      <td>front</td>\n",
              "      <td>99.4</td>\n",
              "      <td>0.848630</td>\n",
              "      <td>...</td>\n",
              "      <td>8.0</td>\n",
              "      <td>115.0</td>\n",
              "      <td>5500.0</td>\n",
              "      <td>18</td>\n",
              "      <td>22</td>\n",
              "      <td>17450.0</td>\n",
              "      <td>13.055556</td>\n",
              "      <td>Medium</td>\n",
              "      <td>0</td>\n",
              "      <td>1</td>\n",
              "    </tr>\n",
              "  </tbody>\n",
              "</table>\n",
              "<p>5 rows × 29 columns</p>\n",
              "</div>\n",
              "      <button class=\"colab-df-convert\" onclick=\"convertToInteractive('df-8e94a931-d095-4d97-98d7-d99c29878d3f')\"\n",
              "              title=\"Convert this dataframe to an interactive table.\"\n",
              "              style=\"display:none;\">\n",
              "        \n",
              "  <svg xmlns=\"http://www.w3.org/2000/svg\" height=\"24px\"viewBox=\"0 0 24 24\"\n",
              "       width=\"24px\">\n",
              "    <path d=\"M0 0h24v24H0V0z\" fill=\"none\"/>\n",
              "    <path d=\"M18.56 5.44l.94 2.06.94-2.06 2.06-.94-2.06-.94-.94-2.06-.94 2.06-2.06.94zm-11 1L8.5 8.5l.94-2.06 2.06-.94-2.06-.94L8.5 2.5l-.94 2.06-2.06.94zm10 10l.94 2.06.94-2.06 2.06-.94-2.06-.94-.94-2.06-.94 2.06-2.06.94z\"/><path d=\"M17.41 7.96l-1.37-1.37c-.4-.4-.92-.59-1.43-.59-.52 0-1.04.2-1.43.59L10.3 9.45l-7.72 7.72c-.78.78-.78 2.05 0 2.83L4 21.41c.39.39.9.59 1.41.59.51 0 1.02-.2 1.41-.59l7.78-7.78 2.81-2.81c.8-.78.8-2.07 0-2.86zM5.41 20L4 18.59l7.72-7.72 1.47 1.35L5.41 20z\"/>\n",
              "  </svg>\n",
              "      </button>\n",
              "      \n",
              "  <style>\n",
              "    .colab-df-container {\n",
              "      display:flex;\n",
              "      flex-wrap:wrap;\n",
              "      gap: 12px;\n",
              "    }\n",
              "\n",
              "    .colab-df-convert {\n",
              "      background-color: #E8F0FE;\n",
              "      border: none;\n",
              "      border-radius: 50%;\n",
              "      cursor: pointer;\n",
              "      display: none;\n",
              "      fill: #1967D2;\n",
              "      height: 32px;\n",
              "      padding: 0 0 0 0;\n",
              "      width: 32px;\n",
              "    }\n",
              "\n",
              "    .colab-df-convert:hover {\n",
              "      background-color: #E2EBFA;\n",
              "      box-shadow: 0px 1px 2px rgba(60, 64, 67, 0.3), 0px 1px 3px 1px rgba(60, 64, 67, 0.15);\n",
              "      fill: #174EA6;\n",
              "    }\n",
              "\n",
              "    [theme=dark] .colab-df-convert {\n",
              "      background-color: #3B4455;\n",
              "      fill: #D2E3FC;\n",
              "    }\n",
              "\n",
              "    [theme=dark] .colab-df-convert:hover {\n",
              "      background-color: #434B5C;\n",
              "      box-shadow: 0px 1px 3px 1px rgba(0, 0, 0, 0.15);\n",
              "      filter: drop-shadow(0px 1px 2px rgba(0, 0, 0, 0.3));\n",
              "      fill: #FFFFFF;\n",
              "    }\n",
              "  </style>\n",
              "\n",
              "      <script>\n",
              "        const buttonEl =\n",
              "          document.querySelector('#df-8e94a931-d095-4d97-98d7-d99c29878d3f button.colab-df-convert');\n",
              "        buttonEl.style.display =\n",
              "          google.colab.kernel.accessAllowed ? 'block' : 'none';\n",
              "\n",
              "        async function convertToInteractive(key) {\n",
              "          const element = document.querySelector('#df-8e94a931-d095-4d97-98d7-d99c29878d3f');\n",
              "          const dataTable =\n",
              "            await google.colab.kernel.invokeFunction('convertToInteractive',\n",
              "                                                     [key], {});\n",
              "          if (!dataTable) return;\n",
              "\n",
              "          const docLinkHtml = 'Like what you see? Visit the ' +\n",
              "            '<a target=\"_blank\" href=https://colab.research.google.com/notebooks/data_table.ipynb>data table notebook</a>'\n",
              "            + ' to learn more about interactive tables.';\n",
              "          element.innerHTML = '';\n",
              "          dataTable['output_type'] = 'display_data';\n",
              "          await google.colab.output.renderOutput(dataTable, element);\n",
              "          const docLink = document.createElement('div');\n",
              "          docLink.innerHTML = docLinkHtml;\n",
              "          element.appendChild(docLink);\n",
              "        }\n",
              "      </script>\n",
              "    </div>\n",
              "  </div>\n",
              "  "
            ],
            "text/plain": [
              "   symboling  normalized-losses         make aspiration num-of-doors  \\\n",
              "0          3                122  alfa-romero        std          two   \n",
              "1          3                122  alfa-romero        std          two   \n",
              "2          1                122  alfa-romero        std          two   \n",
              "3          2                164         audi        std         four   \n",
              "4          2                164         audi        std         four   \n",
              "\n",
              "    body-style drive-wheels engine-location  wheel-base    length  ...  \\\n",
              "0  convertible          rwd           front        88.6  0.811148  ...   \n",
              "1  convertible          rwd           front        88.6  0.811148  ...   \n",
              "2    hatchback          rwd           front        94.5  0.822681  ...   \n",
              "3        sedan          fwd           front        99.8  0.848630  ...   \n",
              "4        sedan          4wd           front        99.4  0.848630  ...   \n",
              "\n",
              "   compression-ratio  horsepower  peak-rpm city-mpg highway-mpg    price  \\\n",
              "0                9.0       111.0    5000.0       21          27  13495.0   \n",
              "1                9.0       111.0    5000.0       21          27  16500.0   \n",
              "2                9.0       154.0    5000.0       19          26  16500.0   \n",
              "3               10.0       102.0    5500.0       24          30  13950.0   \n",
              "4                8.0       115.0    5500.0       18          22  17450.0   \n",
              "\n",
              "  city-L/100km  horsepower-binned  diesel  gas  \n",
              "0    11.190476             Medium       0    1  \n",
              "1    11.190476             Medium       0    1  \n",
              "2    12.368421             Medium       0    1  \n",
              "3     9.791667             Medium       0    1  \n",
              "4    13.055556             Medium       0    1  \n",
              "\n",
              "[5 rows x 29 columns]"
            ]
          },
          "metadata": {},
          "execution_count": 7
        }
      ]
    },
    {
      "cell_type": "markdown",
      "source": [
        "Por ejemplo, la variable \"drive-wheels\" describe la tracción de los vehiculos consignados en la tabla; son variables categóricas que representan:\n",
        "\n",
        "1. Front Wheel Drive: Tracción delantera.</li>\n",
        "2. Rear Wheel Drive: Tracción Tracera.</li>\n",
        "3. Wheel Drive: Tracción de cuatro ruedas.</li>\n",
        "\n",
        "Para contabilizar esta variable usamos el método <code>.value_counts()</code>"
      ],
      "metadata": {
        "id": "OqSEnHvmIdAz"
      }
    },
    {
      "cell_type": "code",
      "source": [
        "# Para contabilizar variables categóricas:\n",
        "mtcarsEDA[\"drive-wheels\"].value_counts()"
      ],
      "metadata": {
        "colab": {
          "base_uri": "https://localhost:8080/"
        },
        "id": "n4j0HX_vInIJ",
        "outputId": "2d6b6584-ce0b-4ab5-b5f6-d48043d4db60"
      },
      "execution_count": null,
      "outputs": [
        {
          "output_type": "execute_result",
          "data": {
            "text/plain": [
              "fwd    118\n",
              "rwd     75\n",
              "4wd      8\n",
              "Name: drive-wheels, dtype: int64"
            ]
          },
          "metadata": {},
          "execution_count": 6
        }
      ]
    },
    {
      "cell_type": "code",
      "source": [
        "mtcarsEDA[\"drive-wheels\"].value_counts().plot(kind = \"pie\", autopct='%1.1f%%')"
      ],
      "metadata": {
        "colab": {
          "base_uri": "https://localhost:8080/",
          "height": 265
        },
        "id": "3JpzWuEbJcq9",
        "outputId": "9d2626a0-a29a-42ab-fa9d-d77ceba901a0"
      },
      "execution_count": null,
      "outputs": [
        {
          "output_type": "execute_result",
          "data": {
            "text/plain": [
              "<matplotlib.axes._subplots.AxesSubplot at 0x7f11b95a9310>"
            ]
          },
          "metadata": {},
          "execution_count": 7
        },
        {
          "output_type": "display_data",
          "data": {
            "image/png": "[encoded data removed]",
            "text/plain": [
              "<Figure size 432x288 with 1 Axes>"
            ]
          },
          "metadata": {}
        }
      ]
    },
    {
      "cell_type": "markdown",
      "source": [
        "Los box plots, o diagramas de cajas permiten comparar facilmente diferentes grupos. En este ejemplo, mediante el uso de diagramas de cajas podemos ver diferentes categorías y sus distribuciones respecto al precio. \n",
        "\n",
        "Vemos que, por ejemplo, que el precio de los carros de tracción trasera (rwd) son distintos a los de otras categorias, no obstante, el precio de los carros de tracción delantera y $4\\times4$ son casi indistinguibles."
      ],
      "metadata": {
        "id": "fZ6eR8UoKTEp"
      }
    },
    {
      "cell_type": "code",
      "source": [
        "import seaborn as sns\n",
        "import matplotlib.pyplot as plt\n",
        "plt.figure(figsize=(15, 15))\n",
        "sns.boxplot(x=\"engine-size\",y=\"price\", data=mtcarsEDA)"
      ],
      "metadata": {
        "colab": {
          "base_uri": "https://localhost:8080/",
          "height": 894
        },
        "id": "SRzXBhjlKK7L",
        "outputId": "a701f3eb-9002-4581-c6f6-111428eaeb42"
      },
      "execution_count": null,
      "outputs": [
        {
          "output_type": "execute_result",
          "data": {
            "text/plain": [
              "<matplotlib.axes._subplots.AxesSubplot at 0x7f1402270ad0>"
            ]
          },
          "metadata": {},
          "execution_count": 8
        },
        {
          "output_type": "display_data",
          "data": {
            "image/png": "[encoded data removed]",
            "text/plain": [
              "<Figure size 1080x1080 with 1 Axes>"
            ]
          },
          "metadata": {
            "needs_background": "light"
          }
        }
      ]
    },
    {
      "cell_type": "markdown",
      "source": [
        "![BoxPlot.PNG](data:image/png;base64,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)"
      ],
      "metadata": {
        "id": "QEne1cx4SNnB"
      }
    },
    {
      "cell_type": "markdown",
      "source": [
        "#**Correlación**\n",
        "La correlación es una medida de la relación entre variables que se mide en una escala de -1 a 1. Cuanto más cercano sea el valor de correlación a -1 o 1, más fuerte será la relación, y mientras más cerca de 0, más débil será la relación. Mide cómo el cambio en una variable está asociado con el cambio en otra variable.\n",
        "\n",
        "Existen algunos tipos comunes de pruebas para medir la correlación, estos son: Pearson, Spearman y Kendall. Cada uno tiene sus propias suposiciones sobre los datos que deben cumplirse para que la prueba pueda medir con precisión el nivel de correlación. Veamos cómo están distribuidas nuestras variables:\n",
        "\n"
      ],
      "metadata": {
        "id": "WkXDa2GtVYj8"
      }
    },
    {
      "cell_type": "code",
      "source": [
        "mtcarsEDA.hist(figsize=(15,13))\n",
        "plt.show()"
      ],
      "metadata": {
        "colab": {
          "base_uri": "https://localhost:8080/",
          "height": 771
        },
        "id": "_TcWDmF_XOrB",
        "outputId": "91782844-82c6-4080-b1eb-4aceccc0e031"
      },
      "execution_count": null,
      "outputs": [
        {
          "output_type": "display_data",
          "data": {
            "image/png": "[encoded data removed]",
            "text/plain": [
              "<Figure size 1080x936 with 20 Axes>"
            ]
          },
          "metadata": {
            "needs_background": "light"
          }
        }
      ]
    },
    {
      "cell_type": "code",
      "source": [
        "# test linearity\n",
        "mtcarsEDA.plot(kind=\"scatter\", y = \"price\", x = \"engine-size\", alpha = 0.4)"
      ],
      "metadata": {
        "colab": {
          "base_uri": "https://localhost:8080/",
          "height": 296
        },
        "id": "IwEdxYt4aRxX",
        "outputId": "19530ff8-86be-4158-9e5d-211572887c22"
      },
      "execution_count": null,
      "outputs": [
        {
          "output_type": "execute_result",
          "data": {
            "text/plain": [
              "<matplotlib.axes._subplots.AxesSubplot at 0x7fe27d7cc8d0>"
            ]
          },
          "metadata": {},
          "execution_count": 39
        },
        {
          "output_type": "display_data",
          "data": {
            "image/png": "[encoded data removed]",
            "text/plain": [
              "<Figure size 432x288 with 1 Axes>"
            ]
          },
          "metadata": {
            "needs_background": "light"
          }
        }
      ]
    },
    {
      "cell_type": "markdown",
      "source": [
        "Observamos que sí hay una relación lineal entre las variables. La prueba de correlación que vamos a usar es una prueba no paramétrica como la correlación de Spearman o de Kendall."
      ],
      "metadata": {
        "id": "tUaQ3ZMaa4C2"
      }
    },
    {
      "cell_type": "markdown",
      "source": [
        "\n",
        "* La correlación de Kendall es una prueba no paramétrica que no hace suposiciones sobre la distribución de los datos. Debe haber una relación monotónica entre las variables que se están probando y los datos deben medirse en una escala ordinal, de intervalo o de relación.\n",
        "\n",
        "* Las correlación de Spearman es no paramétrica y no hace suposiciones sobre la distribución de los datos. Al igual que en el caso anterior, debe haber una relación monotónica entre las variables y es el análisis de correlación apropiado cuando las variables se miden en una escala que es al menos ordinal."
      ],
      "metadata": {
        "id": "RhuCIpY0glSS"
      }
    },
    {
      "cell_type": "markdown",
      "source": [
        "*¿En qué consiste la correlación de Pearson?*"
      ],
      "metadata": {
        "id": "yF7Hrtcrkw1c"
      }
    },
    {
      "cell_type": "markdown",
      "source": [
        "Para calcular el coeficiente de correlación podemos utilizar el método corr() de Pandas"
      ],
      "metadata": {
        "id": "IuJK0zSIa-Gh"
      }
    },
    {
      "cell_type": "code",
      "source": [
        "corr_p = mtcarsEDA.corr()\n",
        "corr_k = mtcarsEDA.corr(method = \"kendall\")\n",
        "corr_s = mtcarsEDA.corr(method = \"spearman\")\n",
        "\n",
        "corr_p"
      ],
      "metadata": {
        "colab": {
          "base_uri": "https://localhost:8080/",
          "height": 761
        },
        "id": "09z17XIDbC7V",
        "outputId": "6b1f5e5f-08be-4cd8-dfb5-9a647184e3f6"
      },
      "execution_count": null,
      "outputs": [
        {
          "output_type": "execute_result",
          "data": {
            "text/html": [
              "\n",
              "  <div id=\"df-39c8230d-60f5-4f37-af2c-2ae4174c2124\">\n",
              "    <div class=\"colab-df-container\">\n",
              "      <div>\n",
              "<style scoped>\n",
              "    .dataframe tbody tr th:only-of-type {\n",
              "        vertical-align: middle;\n",
              "    }\n",
              "\n",
              "    .dataframe tbody tr th {\n",
              "        vertical-align: top;\n",
              "    }\n",
              "\n",
              "    .dataframe thead th {\n",
              "        text-align: right;\n",
              "    }\n",
              "</style>\n",
              "<table border=\"1\" class=\"dataframe\">\n",
              "  <thead>\n",
              "    <tr style=\"text-align: right;\">\n",
              "      <th></th>\n",
              "      <th>symboling</th>\n",
              "      <th>normalized-losses</th>\n",
              "      <th>wheel-base</th>\n",
              "      <th>length</th>\n",
              "      <th>width</th>\n",
              "      <th>height</th>\n",
              "      <th>curb-weight</th>\n",
              "      <th>engine-size</th>\n",
              "      <th>bore</th>\n",
              "      <th>stroke</th>\n",
              "      <th>compression-ratio</th>\n",
              "      <th>horsepower</th>\n",
              "      <th>peak-rpm</th>\n",
              "      <th>city-mpg</th>\n",
              "      <th>highway-mpg</th>\n",
              "      <th>price</th>\n",
              "      <th>city-L/100km</th>\n",
              "      <th>diesel</th>\n",
              "      <th>gas</th>\n",
              "    </tr>\n",
              "  </thead>\n",
              "  <tbody>\n",
              "    <tr>\n",
              "      <th>symboling</th>\n",
              "      <td>1.000000</td>\n",
              "      <td>0.466264</td>\n",
              "      <td>-0.535987</td>\n",
              "      <td>-0.365404</td>\n",
              "      <td>-0.242423</td>\n",
              "      <td>-0.550160</td>\n",
              "      <td>-0.233118</td>\n",
              "      <td>-0.110581</td>\n",
              "      <td>-0.140019</td>\n",
              "      <td>-0.008245</td>\n",
              "      <td>-0.182196</td>\n",
              "      <td>0.075819</td>\n",
              "      <td>0.279740</td>\n",
              "      <td>-0.035527</td>\n",
              "      <td>0.036233</td>\n",
              "      <td>-0.082391</td>\n",
              "      <td>0.066171</td>\n",
              "      <td>-0.196735</td>\n",
              "      <td>0.196735</td>\n",
              "    </tr>\n",
              "    <tr>\n",
              "      <th>normalized-losses</th>\n",
              "      <td>0.466264</td>\n",
              "      <td>1.000000</td>\n",
              "      <td>-0.056661</td>\n",
              "      <td>0.019424</td>\n",
              "      <td>0.086802</td>\n",
              "      <td>-0.373737</td>\n",
              "      <td>0.099404</td>\n",
              "      <td>0.112360</td>\n",
              "      <td>-0.029862</td>\n",
              "      <td>0.055563</td>\n",
              "      <td>-0.114713</td>\n",
              "      <td>0.217299</td>\n",
              "      <td>0.239543</td>\n",
              "      <td>-0.225016</td>\n",
              "      <td>-0.181877</td>\n",
              "      <td>0.133999</td>\n",
              "      <td>0.238567</td>\n",
              "      <td>-0.101546</td>\n",
              "      <td>0.101546</td>\n",
              "    </tr>\n",
              "    <tr>\n",
              "      <th>wheel-base</th>\n",
              "      <td>-0.535987</td>\n",
              "      <td>-0.056661</td>\n",
              "      <td>1.000000</td>\n",
              "      <td>0.876024</td>\n",
              "      <td>0.814507</td>\n",
              "      <td>0.590742</td>\n",
              "      <td>0.782097</td>\n",
              "      <td>0.572027</td>\n",
              "      <td>0.493244</td>\n",
              "      <td>0.158502</td>\n",
              "      <td>0.250313</td>\n",
              "      <td>0.371147</td>\n",
              "      <td>-0.360305</td>\n",
              "      <td>-0.470606</td>\n",
              "      <td>-0.543304</td>\n",
              "      <td>0.584642</td>\n",
              "      <td>0.476153</td>\n",
              "      <td>0.307237</td>\n",
              "      <td>-0.307237</td>\n",
              "    </tr>\n",
              "    <tr>\n",
              "      <th>length</th>\n",
              "      <td>-0.365404</td>\n",
              "      <td>0.019424</td>\n",
              "      <td>0.876024</td>\n",
              "      <td>1.000000</td>\n",
              "      <td>0.857170</td>\n",
              "      <td>0.492063</td>\n",
              "      <td>0.880665</td>\n",
              "      <td>0.685025</td>\n",
              "      <td>0.608971</td>\n",
              "      <td>0.124139</td>\n",
              "      <td>0.159733</td>\n",
              "      <td>0.579821</td>\n",
              "      <td>-0.285970</td>\n",
              "      <td>-0.665192</td>\n",
              "      <td>-0.698142</td>\n",
              "      <td>0.690628</td>\n",
              "      <td>0.657373</td>\n",
              "      <td>0.211187</td>\n",
              "      <td>-0.211187</td>\n",
              "    </tr>\n",
              "    <tr>\n",
              "      <th>width</th>\n",
              "      <td>-0.242423</td>\n",
              "      <td>0.086802</td>\n",
              "      <td>0.814507</td>\n",
              "      <td>0.857170</td>\n",
              "      <td>1.000000</td>\n",
              "      <td>0.306002</td>\n",
              "      <td>0.866201</td>\n",
              "      <td>0.729436</td>\n",
              "      <td>0.544885</td>\n",
              "      <td>0.188829</td>\n",
              "      <td>0.189867</td>\n",
              "      <td>0.615077</td>\n",
              "      <td>-0.245800</td>\n",
              "      <td>-0.633531</td>\n",
              "      <td>-0.680635</td>\n",
              "      <td>0.751265</td>\n",
              "      <td>0.673363</td>\n",
              "      <td>0.244356</td>\n",
              "      <td>-0.244356</td>\n",
              "    </tr>\n",
              "    <tr>\n",
              "      <th>height</th>\n",
              "      <td>-0.550160</td>\n",
              "      <td>-0.373737</td>\n",
              "      <td>0.590742</td>\n",
              "      <td>0.492063</td>\n",
              "      <td>0.306002</td>\n",
              "      <td>1.000000</td>\n",
              "      <td>0.307581</td>\n",
              "      <td>0.074694</td>\n",
              "      <td>0.180449</td>\n",
              "      <td>-0.062704</td>\n",
              "      <td>0.259737</td>\n",
              "      <td>-0.087027</td>\n",
              "      <td>-0.309974</td>\n",
              "      <td>-0.049800</td>\n",
              "      <td>-0.104812</td>\n",
              "      <td>0.135486</td>\n",
              "      <td>0.003811</td>\n",
              "      <td>0.281578</td>\n",
              "      <td>-0.281578</td>\n",
              "    </tr>\n",
              "    <tr>\n",
              "      <th>curb-weight</th>\n",
              "      <td>-0.233118</td>\n",
              "      <td>0.099404</td>\n",
              "      <td>0.782097</td>\n",
              "      <td>0.880665</td>\n",
              "      <td>0.866201</td>\n",
              "      <td>0.307581</td>\n",
              "      <td>1.000000</td>\n",
              "      <td>0.849072</td>\n",
              "      <td>0.644060</td>\n",
              "      <td>0.167562</td>\n",
              "      <td>0.156433</td>\n",
              "      <td>0.757976</td>\n",
              "      <td>-0.279361</td>\n",
              "      <td>-0.749543</td>\n",
              "      <td>-0.794889</td>\n",
              "      <td>0.834415</td>\n",
              "      <td>0.785353</td>\n",
              "      <td>0.221046</td>\n",
              "      <td>-0.221046</td>\n",
              "    </tr>\n",
              "    <tr>\n",
              "      <th>engine-size</th>\n",
              "      <td>-0.110581</td>\n",
              "      <td>0.112360</td>\n",
              "      <td>0.572027</td>\n",
              "      <td>0.685025</td>\n",
              "      <td>0.729436</td>\n",
              "      <td>0.074694</td>\n",
              "      <td>0.849072</td>\n",
              "      <td>1.000000</td>\n",
              "      <td>0.572609</td>\n",
              "      <td>0.209523</td>\n",
              "      <td>0.028889</td>\n",
              "      <td>0.822676</td>\n",
              "      <td>-0.256733</td>\n",
              "      <td>-0.650546</td>\n",
              "      <td>-0.679571</td>\n",
              "      <td>0.872335</td>\n",
              "      <td>0.745059</td>\n",
              "      <td>0.070779</td>\n",
              "      <td>-0.070779</td>\n",
              "    </tr>\n",
              "    <tr>\n",
              "      <th>bore</th>\n",
              "      <td>-0.140019</td>\n",
              "      <td>-0.029862</td>\n",
              "      <td>0.493244</td>\n",
              "      <td>0.608971</td>\n",
              "      <td>0.544885</td>\n",
              "      <td>0.180449</td>\n",
              "      <td>0.644060</td>\n",
              "      <td>0.572609</td>\n",
              "      <td>1.000000</td>\n",
              "      <td>-0.055390</td>\n",
              "      <td>0.001263</td>\n",
              "      <td>0.566936</td>\n",
              "      <td>-0.267392</td>\n",
              "      <td>-0.582027</td>\n",
              "      <td>-0.591309</td>\n",
              "      <td>0.543155</td>\n",
              "      <td>0.554610</td>\n",
              "      <td>0.054458</td>\n",
              "      <td>-0.054458</td>\n",
              "    </tr>\n",
              "    <tr>\n",
              "      <th>stroke</th>\n",
              "      <td>-0.008245</td>\n",
              "      <td>0.055563</td>\n",
              "      <td>0.158502</td>\n",
              "      <td>0.124139</td>\n",
              "      <td>0.188829</td>\n",
              "      <td>-0.062704</td>\n",
              "      <td>0.167562</td>\n",
              "      <td>0.209523</td>\n",
              "      <td>-0.055390</td>\n",
              "      <td>1.000000</td>\n",
              "      <td>0.187923</td>\n",
              "      <td>0.098462</td>\n",
              "      <td>-0.065713</td>\n",
              "      <td>-0.034696</td>\n",
              "      <td>-0.035201</td>\n",
              "      <td>0.082310</td>\n",
              "      <td>0.037300</td>\n",
              "      <td>0.241303</td>\n",
              "      <td>-0.241303</td>\n",
              "    </tr>\n",
              "    <tr>\n",
              "      <th>compression-ratio</th>\n",
              "      <td>-0.182196</td>\n",
              "      <td>-0.114713</td>\n",
              "      <td>0.250313</td>\n",
              "      <td>0.159733</td>\n",
              "      <td>0.189867</td>\n",
              "      <td>0.259737</td>\n",
              "      <td>0.156433</td>\n",
              "      <td>0.028889</td>\n",
              "      <td>0.001263</td>\n",
              "      <td>0.187923</td>\n",
              "      <td>1.000000</td>\n",
              "      <td>-0.214514</td>\n",
              "      <td>-0.435780</td>\n",
              "      <td>0.331425</td>\n",
              "      <td>0.268465</td>\n",
              "      <td>0.071107</td>\n",
              "      <td>-0.299372</td>\n",
              "      <td>0.985231</td>\n",
              "      <td>-0.985231</td>\n",
              "    </tr>\n",
              "    <tr>\n",
              "      <th>horsepower</th>\n",
              "      <td>0.075819</td>\n",
              "      <td>0.217299</td>\n",
              "      <td>0.371147</td>\n",
              "      <td>0.579821</td>\n",
              "      <td>0.615077</td>\n",
              "      <td>-0.087027</td>\n",
              "      <td>0.757976</td>\n",
              "      <td>0.822676</td>\n",
              "      <td>0.566936</td>\n",
              "      <td>0.098462</td>\n",
              "      <td>-0.214514</td>\n",
              "      <td>1.000000</td>\n",
              "      <td>0.107885</td>\n",
              "      <td>-0.822214</td>\n",
              "      <td>-0.804575</td>\n",
              "      <td>0.809575</td>\n",
              "      <td>0.889488</td>\n",
              "      <td>-0.169053</td>\n",
              "      <td>0.169053</td>\n",
              "    </tr>\n",
              "    <tr>\n",
              "      <th>peak-rpm</th>\n",
              "      <td>0.279740</td>\n",
              "      <td>0.239543</td>\n",
              "      <td>-0.360305</td>\n",
              "      <td>-0.285970</td>\n",
              "      <td>-0.245800</td>\n",
              "      <td>-0.309974</td>\n",
              "      <td>-0.279361</td>\n",
              "      <td>-0.256733</td>\n",
              "      <td>-0.267392</td>\n",
              "      <td>-0.065713</td>\n",
              "      <td>-0.435780</td>\n",
              "      <td>0.107885</td>\n",
              "      <td>1.000000</td>\n",
              "      <td>-0.115413</td>\n",
              "      <td>-0.058598</td>\n",
              "      <td>-0.101616</td>\n",
              "      <td>0.115830</td>\n",
              "      <td>-0.475812</td>\n",
              "      <td>0.475812</td>\n",
              "    </tr>\n",
              "    <tr>\n",
              "      <th>city-mpg</th>\n",
              "      <td>-0.035527</td>\n",
              "      <td>-0.225016</td>\n",
              "      <td>-0.470606</td>\n",
              "      <td>-0.665192</td>\n",
              "      <td>-0.633531</td>\n",
              "      <td>-0.049800</td>\n",
              "      <td>-0.749543</td>\n",
              "      <td>-0.650546</td>\n",
              "      <td>-0.582027</td>\n",
              "      <td>-0.034696</td>\n",
              "      <td>0.331425</td>\n",
              "      <td>-0.822214</td>\n",
              "      <td>-0.115413</td>\n",
              "      <td>1.000000</td>\n",
              "      <td>0.972044</td>\n",
              "      <td>-0.686571</td>\n",
              "      <td>-0.949713</td>\n",
              "      <td>0.265676</td>\n",
              "      <td>-0.265676</td>\n",
              "    </tr>\n",
              "    <tr>\n",
              "      <th>highway-mpg</th>\n",
              "      <td>0.036233</td>\n",
              "      <td>-0.181877</td>\n",
              "      <td>-0.543304</td>\n",
              "      <td>-0.698142</td>\n",
              "      <td>-0.680635</td>\n",
              "      <td>-0.104812</td>\n",
              "      <td>-0.794889</td>\n",
              "      <td>-0.679571</td>\n",
              "      <td>-0.591309</td>\n",
              "      <td>-0.035201</td>\n",
              "      <td>0.268465</td>\n",
              "      <td>-0.804575</td>\n",
              "      <td>-0.058598</td>\n",
              "      <td>0.972044</td>\n",
              "      <td>1.000000</td>\n",
              "      <td>-0.704692</td>\n",
              "      <td>-0.930028</td>\n",
              "      <td>0.198690</td>\n",
              "      <td>-0.198690</td>\n",
              "    </tr>\n",
              "    <tr>\n",
              "      <th>price</th>\n",
              "      <td>-0.082391</td>\n",
              "      <td>0.133999</td>\n",
              "      <td>0.584642</td>\n",
              "      <td>0.690628</td>\n",
              "      <td>0.751265</td>\n",
              "      <td>0.135486</td>\n",
              "      <td>0.834415</td>\n",
              "      <td>0.872335</td>\n",
              "      <td>0.543155</td>\n",
              "      <td>0.082310</td>\n",
              "      <td>0.071107</td>\n",
              "      <td>0.809575</td>\n",
              "      <td>-0.101616</td>\n",
              "      <td>-0.686571</td>\n",
              "      <td>-0.704692</td>\n",
              "      <td>1.000000</td>\n",
              "      <td>0.789898</td>\n",
              "      <td>0.110326</td>\n",
              "      <td>-0.110326</td>\n",
              "    </tr>\n",
              "    <tr>\n",
              "      <th>city-L/100km</th>\n",
              "      <td>0.066171</td>\n",
              "      <td>0.238567</td>\n",
              "      <td>0.476153</td>\n",
              "      <td>0.657373</td>\n",
              "      <td>0.673363</td>\n",
              "      <td>0.003811</td>\n",
              "      <td>0.785353</td>\n",
              "      <td>0.745059</td>\n",
              "      <td>0.554610</td>\n",
              "      <td>0.037300</td>\n",
              "      <td>-0.299372</td>\n",
              "      <td>0.889488</td>\n",
              "      <td>0.115830</td>\n",
              "      <td>-0.949713</td>\n",
              "      <td>-0.930028</td>\n",
              "      <td>0.789898</td>\n",
              "      <td>1.000000</td>\n",
              "      <td>-0.241282</td>\n",
              "      <td>0.241282</td>\n",
              "    </tr>\n",
              "    <tr>\n",
              "      <th>diesel</th>\n",
              "      <td>-0.196735</td>\n",
              "      <td>-0.101546</td>\n",
              "      <td>0.307237</td>\n",
              "      <td>0.211187</td>\n",
              "      <td>0.244356</td>\n",
              "      <td>0.281578</td>\n",
              "      <td>0.221046</td>\n",
              "      <td>0.070779</td>\n",
              "      <td>0.054458</td>\n",
              "      <td>0.241303</td>\n",
              "      <td>0.985231</td>\n",
              "      <td>-0.169053</td>\n",
              "      <td>-0.475812</td>\n",
              "      <td>0.265676</td>\n",
              "      <td>0.198690</td>\n",
              "      <td>0.110326</td>\n",
              "      <td>-0.241282</td>\n",
              "      <td>1.000000</td>\n",
              "      <td>-1.000000</td>\n",
              "    </tr>\n",
              "    <tr>\n",
              "      <th>gas</th>\n",
              "      <td>0.196735</td>\n",
              "      <td>0.101546</td>\n",
              "      <td>-0.307237</td>\n",
              "      <td>-0.211187</td>\n",
              "      <td>-0.244356</td>\n",
              "      <td>-0.281578</td>\n",
              "      <td>-0.221046</td>\n",
              "      <td>-0.070779</td>\n",
              "      <td>-0.054458</td>\n",
              "      <td>-0.241303</td>\n",
              "      <td>-0.985231</td>\n",
              "      <td>0.169053</td>\n",
              "      <td>0.475812</td>\n",
              "      <td>-0.265676</td>\n",
              "      <td>-0.198690</td>\n",
              "      <td>-0.110326</td>\n",
              "      <td>0.241282</td>\n",
              "      <td>-1.000000</td>\n",
              "      <td>1.000000</td>\n",
              "    </tr>\n",
              "  </tbody>\n",
              "</table>\n",
              "</div>\n",
              "      <button class=\"colab-df-convert\" onclick=\"convertToInteractive('df-39c8230d-60f5-4f37-af2c-2ae4174c2124')\"\n",
              "              title=\"Convert this dataframe to an interactive table.\"\n",
              "              style=\"display:none;\">\n",
              "        \n",
              "  <svg xmlns=\"http://www.w3.org/2000/svg\" height=\"24px\"viewBox=\"0 0 24 24\"\n",
              "       width=\"24px\">\n",
              "    <path d=\"M0 0h24v24H0V0z\" fill=\"none\"/>\n",
              "    <path d=\"M18.56 5.44l.94 2.06.94-2.06 2.06-.94-2.06-.94-.94-2.06-.94 2.06-2.06.94zm-11 1L8.5 8.5l.94-2.06 2.06-.94-2.06-.94L8.5 2.5l-.94 2.06-2.06.94zm10 10l.94 2.06.94-2.06 2.06-.94-2.06-.94-.94-2.06-.94 2.06-2.06.94z\"/><path d=\"M17.41 7.96l-1.37-1.37c-.4-.4-.92-.59-1.43-.59-.52 0-1.04.2-1.43.59L10.3 9.45l-7.72 7.72c-.78.78-.78 2.05 0 2.83L4 21.41c.39.39.9.59 1.41.59.51 0 1.02-.2 1.41-.59l7.78-7.78 2.81-2.81c.8-.78.8-2.07 0-2.86zM5.41 20L4 18.59l7.72-7.72 1.47 1.35L5.41 20z\"/>\n",
              "  </svg>\n",
              "      </button>\n",
              "      \n",
              "  <style>\n",
              "    .colab-df-container {\n",
              "      display:flex;\n",
              "      flex-wrap:wrap;\n",
              "      gap: 12px;\n",
              "    }\n",
              "\n",
              "    .colab-df-convert {\n",
              "      background-color: #E8F0FE;\n",
              "      border: none;\n",
              "      border-radius: 50%;\n",
              "      cursor: pointer;\n",
              "      display: none;\n",
              "      fill: #1967D2;\n",
              "      height: 32px;\n",
              "      padding: 0 0 0 0;\n",
              "      width: 32px;\n",
              "    }\n",
              "\n",
              "    .colab-df-convert:hover {\n",
              "      background-color: #E2EBFA;\n",
              "      box-shadow: 0px 1px 2px rgba(60, 64, 67, 0.3), 0px 1px 3px 1px rgba(60, 64, 67, 0.15);\n",
              "      fill: #174EA6;\n",
              "    }\n",
              "\n",
              "    [theme=dark] .colab-df-convert {\n",
              "      background-color: #3B4455;\n",
              "      fill: #D2E3FC;\n",
              "    }\n",
              "\n",
              "    [theme=dark] .colab-df-convert:hover {\n",
              "      background-color: #434B5C;\n",
              "      box-shadow: 0px 1px 3px 1px rgba(0, 0, 0, 0.15);\n",
              "      filter: drop-shadow(0px 1px 2px rgba(0, 0, 0, 0.3));\n",
              "      fill: #FFFFFF;\n",
              "    }\n",
              "  </style>\n",
              "\n",
              "      <script>\n",
              "        const buttonEl =\n",
              "          document.querySelector('#df-39c8230d-60f5-4f37-af2c-2ae4174c2124 button.colab-df-convert');\n",
              "        buttonEl.style.display =\n",
              "          google.colab.kernel.accessAllowed ? 'block' : 'none';\n",
              "\n",
              "        async function convertToInteractive(key) {\n",
              "          const element = document.querySelector('#df-39c8230d-60f5-4f37-af2c-2ae4174c2124');\n",
              "          const dataTable =\n",
              "            await google.colab.kernel.invokeFunction('convertToInteractive',\n",
              "                                                     [key], {});\n",
              "          if (!dataTable) return;\n",
              "\n",
              "          const docLinkHtml = 'Like what you see? Visit the ' +\n",
              "            '<a target=\"_blank\" href=https://colab.research.google.com/notebooks/data_table.ipynb>data table notebook</a>'\n",
              "            + ' to learn more about interactive tables.';\n",
              "          element.innerHTML = '';\n",
              "          dataTable['output_type'] = 'display_data';\n",
              "          await google.colab.output.renderOutput(dataTable, element);\n",
              "          const docLink = document.createElement('div');\n",
              "          docLink.innerHTML = docLinkHtml;\n",
              "          element.appendChild(docLink);\n",
              "        }\n",
              "      </script>\n",
              "    </div>\n",
              "  </div>\n",
              "  "
            ],
            "text/plain": [
              "                   symboling  normalized-losses  wheel-base    length  \\\n",
              "symboling           1.000000           0.466264   -0.535987 -0.365404   \n",
              "normalized-losses   0.466264           1.000000   -0.056661  0.019424   \n",
              "wheel-base         -0.535987          -0.056661    1.000000  0.876024   \n",
              "length             -0.365404           0.019424    0.876024  1.000000   \n",
              "width              -0.242423           0.086802    0.814507  0.857170   \n",
              "height             -0.550160          -0.373737    0.590742  0.492063   \n",
              "curb-weight        -0.233118           0.099404    0.782097  0.880665   \n",
              "engine-size        -0.110581           0.112360    0.572027  0.685025   \n",
              "bore               -0.140019          -0.029862    0.493244  0.608971   \n",
              "stroke             -0.008245           0.055563    0.158502  0.124139   \n",
              "compression-ratio  -0.182196          -0.114713    0.250313  0.159733   \n",
              "horsepower          0.075819           0.217299    0.371147  0.579821   \n",
              "peak-rpm            0.279740           0.239543   -0.360305 -0.285970   \n",
              "city-mpg           -0.035527          -0.225016   -0.470606 -0.665192   \n",
              "highway-mpg         0.036233          -0.181877   -0.543304 -0.698142   \n",
              "price              -0.082391           0.133999    0.584642  0.690628   \n",
              "city-L/100km        0.066171           0.238567    0.476153  0.657373   \n",
              "diesel             -0.196735          -0.101546    0.307237  0.211187   \n",
              "gas                 0.196735           0.101546   -0.307237 -0.211187   \n",
              "\n",
              "                      width    height  curb-weight  engine-size      bore  \\\n",
              "symboling         -0.242423 -0.550160    -0.233118    -0.110581 -0.140019   \n",
              "normalized-losses  0.086802 -0.373737     0.099404     0.112360 -0.029862   \n",
              "wheel-base         0.814507  0.590742     0.782097     0.572027  0.493244   \n",
              "length             0.857170  0.492063     0.880665     0.685025  0.608971   \n",
              "width              1.000000  0.306002     0.866201     0.729436  0.544885   \n",
              "height             0.306002  1.000000     0.307581     0.074694  0.180449   \n",
              "curb-weight        0.866201  0.307581     1.000000     0.849072  0.644060   \n",
              "engine-size        0.729436  0.074694     0.849072     1.000000  0.572609   \n",
              "bore               0.544885  0.180449     0.644060     0.572609  1.000000   \n",
              "stroke             0.188829 -0.062704     0.167562     0.209523 -0.055390   \n",
              "compression-ratio  0.189867  0.259737     0.156433     0.028889  0.001263   \n",
              "horsepower         0.615077 -0.087027     0.757976     0.822676  0.566936   \n",
              "peak-rpm          -0.245800 -0.309974    -0.279361    -0.256733 -0.267392   \n",
              "city-mpg          -0.633531 -0.049800    -0.749543    -0.650546 -0.582027   \n",
              "highway-mpg       -0.680635 -0.104812    -0.794889    -0.679571 -0.591309   \n",
              "price              0.751265  0.135486     0.834415     0.872335  0.543155   \n",
              "city-L/100km       0.673363  0.003811     0.785353     0.745059  0.554610   \n",
              "diesel             0.244356  0.281578     0.221046     0.070779  0.054458   \n",
              "gas               -0.244356 -0.281578    -0.221046    -0.070779 -0.054458   \n",
              "\n",
              "                     stroke  compression-ratio  horsepower  peak-rpm  \\\n",
              "symboling         -0.008245          -0.182196    0.075819  0.279740   \n",
              "normalized-losses  0.055563          -0.114713    0.217299  0.239543   \n",
              "wheel-base         0.158502           0.250313    0.371147 -0.360305   \n",
              "length             0.124139           0.159733    0.579821 -0.285970   \n",
              "width              0.188829           0.189867    0.615077 -0.245800   \n",
              "height            -0.062704           0.259737   -0.087027 -0.309974   \n",
              "curb-weight        0.167562           0.156433    0.757976 -0.279361   \n",
              "engine-size        0.209523           0.028889    0.822676 -0.256733   \n",
              "bore              -0.055390           0.001263    0.566936 -0.267392   \n",
              "stroke             1.000000           0.187923    0.098462 -0.065713   \n",
              "compression-ratio  0.187923           1.000000   -0.214514 -0.435780   \n",
              "horsepower         0.098462          -0.214514    1.000000  0.107885   \n",
              "peak-rpm          -0.065713          -0.435780    0.107885  1.000000   \n",
              "city-mpg          -0.034696           0.331425   -0.822214 -0.115413   \n",
              "highway-mpg       -0.035201           0.268465   -0.804575 -0.058598   \n",
              "price              0.082310           0.071107    0.809575 -0.101616   \n",
              "city-L/100km       0.037300          -0.299372    0.889488  0.115830   \n",
              "diesel             0.241303           0.985231   -0.169053 -0.475812   \n",
              "gas               -0.241303          -0.985231    0.169053  0.475812   \n",
              "\n",
              "                   city-mpg  highway-mpg     price  city-L/100km    diesel  \\\n",
              "symboling         -0.035527     0.036233 -0.082391      0.066171 -0.196735   \n",
              "normalized-losses -0.225016    -0.181877  0.133999      0.238567 -0.101546   \n",
              "wheel-base        -0.470606    -0.543304  0.584642      0.476153  0.307237   \n",
              "length            -0.665192    -0.698142  0.690628      0.657373  0.211187   \n",
              "width             -0.633531    -0.680635  0.751265      0.673363  0.244356   \n",
              "height            -0.049800    -0.104812  0.135486      0.003811  0.281578   \n",
              "curb-weight       -0.749543    -0.794889  0.834415      0.785353  0.221046   \n",
              "engine-size       -0.650546    -0.679571  0.872335      0.745059  0.070779   \n",
              "bore              -0.582027    -0.591309  0.543155      0.554610  0.054458   \n",
              "stroke            -0.034696    -0.035201  0.082310      0.037300  0.241303   \n",
              "compression-ratio  0.331425     0.268465  0.071107     -0.299372  0.985231   \n",
              "horsepower        -0.822214    -0.804575  0.809575      0.889488 -0.169053   \n",
              "peak-rpm          -0.115413    -0.058598 -0.101616      0.115830 -0.475812   \n",
              "city-mpg           1.000000     0.972044 -0.686571     -0.949713  0.265676   \n",
              "highway-mpg        0.972044     1.000000 -0.704692     -0.930028  0.198690   \n",
              "price             -0.686571    -0.704692  1.000000      0.789898  0.110326   \n",
              "city-L/100km      -0.949713    -0.930028  0.789898      1.000000 -0.241282   \n",
              "diesel             0.265676     0.198690  0.110326     -0.241282  1.000000   \n",
              "gas               -0.265676    -0.198690 -0.110326      0.241282 -1.000000   \n",
              "\n",
              "                        gas  \n",
              "symboling          0.196735  \n",
              "normalized-losses  0.101546  \n",
              "wheel-base        -0.307237  \n",
              "length            -0.211187  \n",
              "width             -0.244356  \n",
              "height            -0.281578  \n",
              "curb-weight       -0.221046  \n",
              "engine-size       -0.070779  \n",
              "bore              -0.054458  \n",
              "stroke            -0.241303  \n",
              "compression-ratio -0.985231  \n",
              "horsepower         0.169053  \n",
              "peak-rpm           0.475812  \n",
              "city-mpg          -0.265676  \n",
              "highway-mpg       -0.198690  \n",
              "price             -0.110326  \n",
              "city-L/100km       0.241282  \n",
              "diesel            -1.000000  \n",
              "gas                1.000000  "
            ]
          },
          "metadata": {},
          "execution_count": 10
        }
      ]
    },
    {
      "cell_type": "markdown",
      "source": [
        "Veamos cómo se correlaciona el atributo precio con los demás atributos"
      ],
      "metadata": {
        "id": "gHWxbCCVbXUM"
      }
    },
    {
      "cell_type": "code",
      "source": [
        "corr_p[\"price\"].sort_values(ascending=False)"
      ],
      "metadata": {
        "colab": {
          "base_uri": "https://localhost:8080/"
        },
        "id": "vcaEs9eMbZL3",
        "outputId": "e9a7ab15-8127-4255-c298-f958af4d63b8"
      },
      "execution_count": null,
      "outputs": [
        {
          "output_type": "execute_result",
          "data": {
            "text/plain": [
              "price                1.000000\n",
              "engine-size          0.872335\n",
              "curb-weight          0.834415\n",
              "horsepower           0.809575\n",
              "city-L/100km         0.789898\n",
              "width                0.751265\n",
              "length               0.690628\n",
              "wheel-base           0.584642\n",
              "bore                 0.543155\n",
              "height               0.135486\n",
              "normalized-losses    0.133999\n",
              "diesel               0.110326\n",
              "stroke               0.082310\n",
              "compression-ratio    0.071107\n",
              "symboling           -0.082391\n",
              "peak-rpm            -0.101616\n",
              "gas                 -0.110326\n",
              "city-mpg            -0.686571\n",
              "highway-mpg         -0.704692\n",
              "Name: price, dtype: float64"
            ]
          },
          "metadata": {},
          "execution_count": 11
        }
      ]
    },
    {
      "cell_type": "code",
      "source": [
        "corr_k[\"price\"].sort_values(ascending=False)"
      ],
      "metadata": {
        "colab": {
          "base_uri": "https://localhost:8080/"
        },
        "id": "SnANflm0bm2Y",
        "outputId": "26a5c9b6-a58b-4bac-a593-85c5a0b74db9"
      },
      "execution_count": null,
      "outputs": [
        {
          "output_type": "execute_result",
          "data": {
            "text/plain": [
              "price                1.000000\n",
              "curb-weight          0.744265\n",
              "horsepower           0.664788\n",
              "engine-size          0.661342\n",
              "city-L/100km         0.661282\n",
              "width                0.638911\n",
              "length               0.636420\n",
              "wheel-base           0.540313\n",
              "bore                 0.489625\n",
              "height               0.182387\n",
              "normalized-losses    0.134911\n",
              "diesel               0.118449\n",
              "stroke               0.094153\n",
              "peak-rpm            -0.048705\n",
              "symboling           -0.104866\n",
              "gas                 -0.118449\n",
              "compression-ratio   -0.136957\n",
              "highway-mpg         -0.651805\n",
              "city-mpg            -0.661282\n",
              "Name: price, dtype: float64"
            ]
          },
          "metadata": {},
          "execution_count": 82
        }
      ]
    },
    {
      "cell_type": "markdown",
      "source": [
        "Vemos que el precio del automóvil tiende a subir a medida que, por ejemplo, aumenta el tamaño del motor (engine-size), el ancho (width) y largo (length) del vehículo; y no tanto de su altura (heigth) o del tipo de combustible que utiliza. El atributo más prometedor para predecir el precio del vehículo es el tamaño del motor (Pearson) y el peso del motor (kendall)."
      ],
      "metadata": {
        "id": "HUKzzhZXbrWA"
      }
    },
    {
      "cell_type": "markdown",
      "source": [
        "Otra forma de verificar la correlación entre los atributos es usar el método `scatter_matrix`, que dibuja cada atributo numérico contra cualquier otro atributo numérico. Como tenemos 29 columnas (se generarían $29^2=841$ gráficos), grafiquemos solo algunos de los atributos que tienen más correlación con el precio:"
      ],
      "metadata": {
        "id": "-hEFpZqBcF2U"
      }
    },
    {
      "cell_type": "code",
      "source": [
        "from pandas.plotting import scatter_matrix\n",
        "\n",
        "attributes = [\"engine-size\",\"horsepower\",\"price\"]\n",
        "\n",
        "scatter_matrix(mtcarsEDA[attributes], figsize=(12, 8))"
      ],
      "metadata": {
        "colab": {
          "base_uri": "https://localhost:8080/",
          "height": 686
        },
        "id": "gfp3UZ3pcOo5",
        "outputId": "321bf560-8abe-4939-f531-cdc5bfb7290d"
      },
      "execution_count": null,
      "outputs": [
        {
          "output_type": "execute_result",
          "data": {
            "text/plain": [
              "array([[<matplotlib.axes._subplots.AxesSubplot object at 0x7f13ec757850>,\n",
              "        <matplotlib.axes._subplots.AxesSubplot object at 0x7f13ec7183d0>,\n",
              "        <matplotlib.axes._subplots.AxesSubplot object at 0x7f13ec6cb8d0>],\n",
              "       [<matplotlib.axes._subplots.AxesSubplot object at 0x7f13ec682dd0>,\n",
              "        <matplotlib.axes._subplots.AxesSubplot object at 0x7f13ec644310>,\n",
              "        <matplotlib.axes._subplots.AxesSubplot object at 0x7f13ec5fb790>],\n",
              "       [<matplotlib.axes._subplots.AxesSubplot object at 0x7f13ec630d10>,\n",
              "        <matplotlib.axes._subplots.AxesSubplot object at 0x7f13ec5f5190>,\n",
              "        <matplotlib.axes._subplots.AxesSubplot object at 0x7f13ec5f51d0>]],\n",
              "      dtype=object)"
            ]
          },
          "metadata": {},
          "execution_count": 14
        },
        {
          "output_type": "display_data",
          "data": {
            "image/png": "[encoded data removed]",
            "text/plain": [
              "<Figure size 864x576 with 9 Axes>"
            ]
          },
          "metadata": {
            "needs_background": "light"
          }
        }
      ]
    },
    {
      "cell_type": "markdown",
      "source": [
        "La diagonal principal estaría llena de líneas rectas si Pandas dibujara cada variable contra sí misma, lo que no sería muy útil. En su lugar, Pandas muestra un histograma de cada atributo.\n",
        "\n",
        "La librería `seaborn` nos permite realizar gráficos como el anterior o, por ejemplo, en un mapa de calor, mediante las funciones `pairplot()` y `heatmap()`, respectivamente."
      ],
      "metadata": {
        "id": "kWUh2hzHcoin"
      }
    },
    {
      "cell_type": "code",
      "source": [
        "sns.pairplot(mtcarsEDA, hue = \"drive-wheels\", vars = [\"engine-size\",\"horsepower\",\"price\"])"
      ],
      "metadata": {
        "colab": {
          "base_uri": "https://localhost:8080/",
          "height": 567
        },
        "id": "UVF79dDNcn03",
        "outputId": "99c5e625-8a8a-418c-e13d-bca85e65346d"
      },
      "execution_count": null,
      "outputs": [
        {
          "output_type": "execute_result",
          "data": {
            "text/plain": [
              "<seaborn.axisgrid.PairGrid at 0x7f1401ddd810>"
            ]
          },
          "metadata": {},
          "execution_count": 12
        },
        {
          "output_type": "display_data",
          "data": {
            "image/png": "[encoded data removed]",
            "text/plain": [
              "<Figure size 611.875x540 with 12 Axes>"
            ]
          },
          "metadata": {
            "needs_background": "light"
          }
        }
      ]
    },
    {
      "cell_type": "markdown",
      "source": [
        "#**2. Distribuciones de probabilidad**"
      ],
      "metadata": {
        "id": "nkOuRa9nmGoH"
      }
    },
    {
      "cell_type": "markdown",
      "source": [
        "Muchas herramientas y técnicas estadísticas utilizadas en el análisis de datos se basan en la probabilidad de que ocurra un evento, la cual está en una escala de 0 (el evento nunca ocurre) a 1 (el evento siempre ocurre). Cuando se trabaja con datos, las variables en las columnas del conjunto de datos pueden considerarse como variables aleatorias. Una distribución de probabilidad describe cómo se distribuye una variable aleatoria; nos dice qué valores es más probable que tome una variable aleatoria y qué valores es menos probable.\n",
        "\n",
        "En estadística, hay una variedad de distribuciones de probabilidad definidas con precisión que tienen diferentes formas y se pueden usar para modelar diferentes tipos de eventos aleatorios, como vimos en la unidad anterior."
      ],
      "metadata": {
        "id": "BebOMHjKmMO-"
      }
    },
    {
      "cell_type": "markdown",
      "source": [
        "##**Distribución Uniforme**\n",
        "La distribución uniforme es una distribución de probabilidad en la que cada valor dentro de un cierto rango tiene la misma probabilidad de ocurrir y los valores fuera del rango nunca ocurren. Si hacemos un gráfico de densidad de una distribución uniforme, parece plano porque ningún valor es más probable que otro.\n",
        "\n",
        "Muchas funciones útiles para trabajar con distribuciones de probabilidad en Python están contenidas en la biblioteca `scipy.stats`. Vamos a cargar algunas bibliotecas, generemos algunos datos uniformes y tracemos una curva de densidad:"
      ],
      "metadata": {
        "id": "tUYeQPjfmSfX"
      }
    },
    {
      "cell_type": "code",
      "source": [
        "%matplotlib inline\n",
        "\n",
        "import numpy as np\n",
        "import pandas as pd\n",
        "import matplotlib.pyplot as plt\n",
        "import scipy.stats as stats"
      ],
      "metadata": {
        "id": "s3eNeZ91mLWu"
      },
      "execution_count": null,
      "outputs": []
    },
    {
      "cell_type": "code",
      "source": [
        "uniform_data = stats.uniform.rvs(size=100000,  # Genera 100000 números\n",
        "                                 loc = 0,      # desde 0 \n",
        "                                 scale=10)     # hasta 10"
      ],
      "metadata": {
        "id": "JyyZwJLlnVgu"
      },
      "execution_count": null,
      "outputs": []
    },
    {
      "cell_type": "code",
      "source": [
        "pd.DataFrame(uniform_data).plot(kind=\"density\",  # Plot \n",
        "                               figsize=(5,5),\n",
        "                               xlim=(-1,11));"
      ],
      "metadata": {
        "colab": {
          "base_uri": "https://localhost:8080/",
          "height": 320
        },
        "id": "cDZB1Fn7nYB1",
        "outputId": "f3ad32d1-b6d4-4cfd-82fb-9d3dce6201c9"
      },
      "execution_count": null,
      "outputs": [
        {
          "output_type": "display_data",
          "data": {
            "image/png": "[encoded data removed]",
            "text/plain": [
              "<Figure size 360x360 with 1 Axes>"
            ]
          },
          "metadata": {
            "needs_background": "light"
          }
        }
      ]
    },
    {
      "cell_type": "markdown",
      "source": [
        "Nota: el gráfico anterior es una aproximación de la distribución subyacente, ya que se basa en una muestra de observaciones.\n",
        "\n",
        "En el código anterior, generamos 100 000 puntos de datos a partir de una distribución uniforme que abarca el rango de 0 a 10. En el gráfico de densidad, vemos que la densidad de nuestros datos uniformes es esencialmente nivelada, lo que significa que cualquier valor dado tiene la misma probabilidad de ocurrir. El área bajo una curva de densidad de probabilidad siempre es igual a 1.\n",
        "\n",
        "Las distribuciones de probabilidad en `scipy` vienen con varias funciones útiles para generar datos aleatorios y extraer valores de interés:\n",
        "\n",
        "* `stats.distribution.rvs()` genera números aleatorios a partir de la distribución especificada. Los argumentos de rvs() variarán según el tipo de distribución con la que esté trabajando; en el caso de la distribución uniforme, tenemos que especificar los puntos inicial y final y el tamaño (número de puntos aleatorios a generar).\n",
        "\n",
        "* `stats.distribution.cdf() `se utiliza para determinar la probabilidad de que una observación extraída de una distribución caiga por debajo de un valor específico (conocido como función de distribución acumulativa). En esencia, `cdf()` te da el área bajo la curva de densidad de la distribución a la izquierda de cierto valor en el eje x. Por ejemplo, en la distribución uniforme anterior, hay un 25 % de probabilidad de que una observación esté en el rango de 0 a 2,5 y un 75 % de probabilidad de que caiga en el rango de 2.5 a 10. Podemos confirmar esto con `cdf()`:"
      ],
      "metadata": {
        "id": "5iRMJ2q4neUM"
      }
    },
    {
      "cell_type": "code",
      "source": [
        "stats.uniform.cdf(x=2.5,         # Valor de corte (cuantil) para comprobar\n",
        "                  loc=0,         # Inicio de la distribución\n",
        "                  scale=10)      # Final de la distribución"
      ],
      "metadata": {
        "colab": {
          "base_uri": "https://localhost:8080/"
        },
        "id": "HNjasX_Knj5C",
        "outputId": "6f570ea9-bd39-4e78-f8cc-95da81b766f4"
      },
      "execution_count": null,
      "outputs": [
        {
          "output_type": "execute_result",
          "data": {
            "text/plain": [
              "0.25"
            ]
          },
          "metadata": {},
          "execution_count": 22
        }
      ]
    },
    {
      "cell_type": "markdown",
      "source": [
        "* stats.distribution.ppf() es el inverso de cdf(): devuelve el valor de corte del eje x (cuantil) asociado con una probabilidad determinada. Por ejemplo, si queremos saber el valor de corte para el cual tenemos un 40 % de posibilidades de obtener una observación por debajo de ese valor, podemos usar ppf():"
      ],
      "metadata": {
        "id": "hMYENkBcnqqx"
      }
    },
    {
      "cell_type": "code",
      "source": [
        "stats.uniform.ppf(q=0.4,         # Corte\n",
        "                  loc=0,         # Inicio de la distribución\n",
        "                  scale=10)      # Final de la distribución"
      ],
      "metadata": {
        "colab": {
          "base_uri": "https://localhost:8080/"
        },
        "id": "OwDvgjPbnsqa",
        "outputId": "eb2c7294-0394-48a4-873a-8b4a1b759a7c"
      },
      "execution_count": null,
      "outputs": [
        {
          "output_type": "execute_result",
          "data": {
            "text/plain": [
              "4.0"
            ]
          },
          "metadata": {},
          "execution_count": 23
        }
      ]
    },
    {
      "cell_type": "markdown",
      "source": [
        "* stats.distribution.pdf() le da la densidad de probabilidad (altura de la distribución) en un valor x dado. Dado que la distribución uniforme es plana, todos los valores de x dentro de su rango tendrán la misma densidad de probabilidad y los valores de x fuera del rango tendrán una densidad de probabilidad de 0: "
      ],
      "metadata": {
        "id": "bwQpGWtnnv8z"
      }
    },
    {
      "cell_type": "code",
      "source": [
        "for x in range(-1,12,3):\n",
        "    print(\"Densidad en un valor de x \" + str(x))\n",
        "    print( stats.uniform.pdf(x, loc=0, scale=10) )  "
      ],
      "metadata": {
        "colab": {
          "base_uri": "https://localhost:8080/"
        },
        "id": "9ZAfddUkn3he",
        "outputId": "e67aae0a-9148-4c99-80dc-630eeb8d0288"
      },
      "execution_count": null,
      "outputs": [
        {
          "output_type": "stream",
          "name": "stdout",
          "text": [
            "Densidad en un valor de x -1\n",
            "0.0\n",
            "Densidad en un valor de x 2\n",
            "0.1\n",
            "Densidad en un valor de x 5\n",
            "0.1\n",
            "Densidad en un valor de x 8\n",
            "0.1\n",
            "Densidad en un valor de x 11\n",
            "0.0\n"
          ]
        }
      ]
    },
    {
      "cell_type": "markdown",
      "source": [
        "##**Generando números aleatorios y configurando la semilla**\n",
        "Cuando necesite generar números reales aleatorios en un rango con la misma probabilidad, puede extraer números de una distribución uniforme usando `stats.distribution.rvs()`. Como vimos en la unidad anterior, Python también viene con una biblioteca llamada \"random\" que le permite realizar varias operaciones que involucran números aleatorios. \n"
      ],
      "metadata": {
        "id": "wasyt7hhn3Gr"
      }
    },
    {
      "cell_type": "code",
      "source": [
        "import random\n",
        "\n",
        "random.randint(0,10)     # Obtiene un número entero aleatorio en el rango especificado"
      ],
      "metadata": {
        "colab": {
          "base_uri": "https://localhost:8080/"
        },
        "id": "6Fn-e4R6oVlC",
        "outputId": "c1359f29-a86d-44b7-8f5b-e2330b2b7475"
      },
      "execution_count": null,
      "outputs": [
        {
          "output_type": "execute_result",
          "data": {
            "text/plain": [
              "1"
            ]
          },
          "metadata": {},
          "execution_count": 16
        }
      ]
    },
    {
      "cell_type": "code",
      "source": [
        "random.choice([2,4,6,9]) # Obtiene un elemento aleatorio de una secuencia"
      ],
      "metadata": {
        "colab": {
          "base_uri": "https://localhost:8080/"
        },
        "id": "lJpM8jksobAh",
        "outputId": "4acf5e15-ecf2-4d16-dab5-693d09baa1fd"
      },
      "execution_count": null,
      "outputs": [
        {
          "output_type": "execute_result",
          "data": {
            "text/plain": [
              "2"
            ]
          },
          "metadata": {},
          "execution_count": 25
        }
      ]
    },
    {
      "cell_type": "code",
      "source": [
        "random.random()          # Obtiene un númerpo entre 0 y 1"
      ],
      "metadata": {
        "colab": {
          "base_uri": "https://localhost:8080/"
        },
        "id": "sFK7Oj_Xod4t",
        "outputId": "1c5a395c-d633-4dc6-daf4-ccd2547e31bf"
      },
      "execution_count": null,
      "outputs": [
        {
          "output_type": "execute_result",
          "data": {
            "text/plain": [
              "0.014628443289970372"
            ]
          },
          "metadata": {},
          "execution_count": 26
        }
      ]
    },
    {
      "cell_type": "code",
      "source": [
        "random.uniform(0,10)     # Obtiene un número entre 0 y 1"
      ],
      "metadata": {
        "colab": {
          "base_uri": "https://localhost:8080/"
        },
        "id": "oaQMoSC9ogGd",
        "outputId": "2b63d6f7-69d1-4087-8e9f-32107df9a9ff"
      },
      "execution_count": null,
      "outputs": [
        {
          "output_type": "execute_result",
          "data": {
            "text/plain": [
              "4.424809383257547"
            ]
          },
          "metadata": {},
          "execution_count": 27
        }
      ]
    },
    {
      "cell_type": "markdown",
      "source": [
        "Independientemente del método que utilice para generar números aleatorios, el resultado de un proceso aleatorio puede diferir de una ejecución a la siguiente. A menudo, no es deseable que los resultados varíen cada vez que ejecuta una función. Por ejemplo, si desea que un colega pueda reproducir sus resultados exactamente, puede tener problemas cuando utiliza la aleatorización. Puede asegurarse de que sus resultados sean los mismos cada vez que use una función que implique aleatoriedad configurando el valor inicial del generador de números aleatorios para inicializarlo antes de ejecutar la función. Establezca la semilla aleatoria con `random.seed()`:"
      ],
      "metadata": {
        "id": "qn3YYpPVolCj"
      }
    },
    {
      "cell_type": "code",
      "source": [
        "print([random.uniform(0,10) for x in range(4)]) # Establece la semilla en un valor arbitrario\n",
        "\n",
        "random.seed(12)  # Establece la semilla en el mismo valor\n",
        "\n",
        "print([random.uniform(0,10) for x in range(4)])"
      ],
      "metadata": {
        "colab": {
          "base_uri": "https://localhost:8080/"
        },
        "id": "KEL2HTClospQ",
        "outputId": "37ad485e-3ef5-42da-bc5d-7e35f44e3ad8"
      },
      "execution_count": null,
      "outputs": [
        {
          "output_type": "stream",
          "name": "stdout",
          "text": [
            "[8.137967223037041, 1.8455711184419532, 1.1316556491406493, 7.356929058697379]\n",
            "[4.7457067868854805, 6.574725026572553, 6.664104711248381, 1.4260035292536777]\n"
          ]
        }
      ]
    },
    {
      "cell_type": "markdown",
      "source": [
        "En el primer caso, como no establecimos una semilla, obtenemos números diferentes cada vez que ejecutamos el código.\n",
        "En el segundo caso, generamos exactamente los mismos números porque configuramos la misma semilla antes de cada llamada. Esta reproducibilidad ilustra el hecho de que estos números aleatorios no son verdaderamente aleatorios, sino más bien \"*pseudoaleatorios*\".\n",
        "\n",
        "Muchas funciones en las bibliotecas de Python que usan aleatoriedad tienen un argumento de semilla aleatorio opcional incorporado para que no tenga que establecer la semilla fuera de la función. Por ejemplo, la función `rvs()` tiene un argumento opcional random_state, que le permite establecer la semilla.\n",
        "\n",
        "Nota: La biblioteca estándar de Python \"random\" tiene una semilla interna separada de la biblioteca numpy. Cuando usamos funciones de numpy y bibliotecas creadas sobre numpy (pandas, scipy, scikit-learn), `usamos np.random.seed()` para establecer la semilla."
      ],
      "metadata": {
        "id": "Tebznjxzo2EG"
      }
    },
    {
      "cell_type": "markdown",
      "source": [
        "##**Distribución normal**\n",
        "La distribución normal o gaussiana es una distribución de probabilidad continua caracterizada por una curva simétrica en forma de campana. Una distribución normal se define por su centro (media) y dispersión (desviación estándar). La mayor parte de las observaciones generadas a partir de una distribución normal se encuentran cerca de la media, que se encuentra en el centro exacto de la distribución: como regla general, alrededor del 68 % de los datos se encuentran dentro de una desviación estándar de la media, el 95 % se encuentra dentro de 2 desviaciones estándar y el 99,7 % se encuentra dentro de 3 desviaciones estándar.\n",
        "\n",
        "La distribución normal es quizás la distribución más importante de todas las estadísticas. Resulta que muchos fenómenos del mundo real, como los puntajes de las pruebas de coeficiente intelectual y las alturas humanas, siguen aproximadamente una distribución normal, por lo que a menudo se usa para modelar variables aleatorias. Muchas pruebas estadísticas comunes asumen que las distribuciones son normales."
      ],
      "metadata": {
        "id": "ACUYr0NopNDg"
      }
    },
    {
      "cell_type": "code",
      "source": [
        "prob_under_minus1 = stats.norm.cdf(x= -1,  \n",
        "                                loc = 0,               \n",
        "                                scale= 1)     \n",
        "\n",
        "prob_over_1 = 1 - stats.norm.cdf(x= 1,  \n",
        "                                loc = 0,               \n",
        "                                scale= 1) \n",
        "\n",
        "between_prob = 1-(prob_under_minus1+prob_over_1)\n",
        "\n",
        "print(prob_under_minus1, prob_over_1, between_prob)"
      ],
      "metadata": {
        "colab": {
          "base_uri": "https://localhost:8080/"
        },
        "id": "Oe7adlMfpUFL",
        "outputId": "d25c2889-507e-4db8-f5b9-9e9be0cdaf47"
      },
      "execution_count": null,
      "outputs": [
        {
          "output_type": "stream",
          "name": "stdout",
          "text": [
            "0.15865525393145707 0.15865525393145707 0.6826894921370859\n"
          ]
        }
      ]
    },
    {
      "cell_type": "markdown",
      "source": [
        "El resultado muestra que aproximadamente el 16 % de los datos generados por una distribución normal con media 0 y desviación estándar 1 está por debajo de -1, el 16 % está por encima de 1 y el 68 % se encuentra entre -1 y 1, lo que concuerda con la regla de 68, 95 y 99.7. Tracemos la distribución normal e inspeccionemos las áreas que calculamos:"
      ],
      "metadata": {
        "id": "Eo7AjahMpTaL"
      }
    },
    {
      "cell_type": "code",
      "source": [
        "# Plot normal distribution areas*\n",
        "\n",
        "plt.rcParams[\"figure.figsize\"] = (5,5)\n",
        "                                  \n",
        "plt.fill_between(x=np.arange(-4,-1,0.01), \n",
        "                 y1= stats.norm.pdf(np.arange(-4,-1,0.01)) ,\n",
        "                 facecolor='red',\n",
        "                 alpha=0.35)\n",
        "\n",
        "plt.fill_between(x=np.arange(1,4,0.01), \n",
        "                 y1= stats.norm.pdf(np.arange(1,4,0.01)) ,\n",
        "                 facecolor='red',\n",
        "                 alpha=0.35)\n",
        "\n",
        "plt.fill_between(x=np.arange(-1,1,0.01), \n",
        "                 y1= stats.norm.pdf(np.arange(-1,1,0.01)) ,\n",
        "                 facecolor='blue',\n",
        "                 alpha=0.35)\n",
        "\n",
        "plt.text(x=-1.8, y=0.03, s= round(prob_under_minus1,3))\n",
        "plt.text(x=-0.2, y=0.1, s= round(between_prob,3))\n",
        "plt.text(x=1.4, y=0.03, s= round(prob_over_1,3));"
      ],
      "metadata": {
        "colab": {
          "base_uri": "https://localhost:8080/",
          "height": 320
        },
        "id": "7O3b4D8TpgpT",
        "outputId": "0d096bfd-347a-4de3-e39e-1f22b81b40eb"
      },
      "execution_count": null,
      "outputs": [
        {
          "output_type": "display_data",
          "data": {
            "image/png": "[encoded data removed]",
            "text/plain": [
              "<Figure size 360x360 with 1 Axes>"
            ]
          },
          "metadata": {
            "needs_background": "light"
          }
        }
      ]
    },
    {
      "cell_type": "markdown",
      "source": [
        "El gráfico anterior muestra la forma de campana de la distribución normal, el área por debajo y por encima de una desviación estándar y el área dentro de una desviación estándar de la media. Encontrar cuantiles de la distribución normal es una tarea común cuando se realizan pruebas estadísticas. Puede comprobar los cuantiles de distribución normal con stats.norm.ppf():"
      ],
      "metadata": {
        "id": "mnP_RR40pfSW"
      }
    },
    {
      "cell_type": "code",
      "source": [
        "print( stats.norm.ppf(q=0.025) ) # Encuentre el cuantil para un corte del 2.5 %\n",
        "\n",
        "print( stats.norm.ppf(q=0.975) ) # Encuentre el cuantil para el límite del 97.5 %"
      ],
      "metadata": {
        "colab": {
          "base_uri": "https://localhost:8080/"
        },
        "id": "SZsFeXuWppgK",
        "outputId": "c832d873-66e2-4ba6-bf8d-aef280055746"
      },
      "execution_count": null,
      "outputs": [
        {
          "output_type": "stream",
          "name": "stdout",
          "text": [
            "-1.9599639845400545\n",
            "1.959963984540054\n"
          ]
        }
      ]
    },
    {
      "cell_type": "markdown",
      "source": [
        "El resultado del cuantil anterior confirma que aproximadamente el 5 % de los datos se encuentran a más de 2 desviaciones estándar de la media.\n"
      ],
      "metadata": {
        "id": "ehSdsRKopu7x"
      }
    },
    {
      "cell_type": "markdown",
      "source": [
        "#**Distribución binomial**\n",
        "La distribución binomial es una distribución de probabilidad discreta que modela los resultados de una secuencia de números aleatorios de algún experimento o evento. Esta distribución se define por dos parámetros: la probabilidad de éxito en cualquier intento y el número de intentos. La distribución binomial indica qué tan probable es lograr un número dado de éxitos en n intentos del experimento. Por ejemplo, podríamos modelar el lanzamiento de una moneda al aire 10 veces con una distribución binomial donde el número de intentos se establece en 10 y la probabilidad de éxito se establece en 0,5. En este caso, la distribución nos diría qué tan probable es obtener cero caras, 1 cara, 2 caras y así sucesivamente.\n",
        "\n",
        "El nombre de Scipy para el binomio es binom. Generemos e investiguemos algunos datos que sigan una distribucipon binomial:"
      ],
      "metadata": {
        "id": "Mm4DkFYGp0Ud"
      }
    },
    {
      "cell_type": "code",
      "source": [
        "fair_coin_flips = stats.binom.rvs(n=10,        # Número de lanzamientos por ensayo\n",
        "                                  p=0.5,       # Probabilidad de éxito\n",
        "                                  size=10000)  # Número de ensayos\n",
        "\n",
        "print( pd.crosstab(index=\"counts\", columns= fair_coin_flips))\n",
        "\n",
        "pd.DataFrame(fair_coin_flips).hist(range=(-0.5,10.5), bins=11);"
      ],
      "metadata": {
        "colab": {
          "base_uri": "https://localhost:8080/",
          "height": 388
        },
        "id": "R1xUh2THp36_",
        "outputId": "42c25ed1-fca0-4ee0-840e-1a9e96e53921"
      },
      "execution_count": null,
      "outputs": [
        {
          "output_type": "stream",
          "name": "stdout",
          "text": [
            "col_0   0   1    2     3     4     5     6     7    8   9   10\n",
            "row_0                                                         \n",
            "counts   6  88  446  1194  2000  2472  2065  1202  416  98  13\n"
          ]
        },
        {
          "output_type": "display_data",
          "data": {
            "image/png": "[encoded data removed]",
            "text/plain": [
              "<Figure size 360x360 with 1 Axes>"
            ]
          },
          "metadata": {
            "needs_background": "light"
          }
        }
      ]
    },
    {
      "cell_type": "markdown",
      "source": [
        "Tenga en cuenta que dado que la distribución binomial es discreta, solo toma valores enteros, por lo que podemos resumir los datos binomiales con una tabla de frecuencia y su distribución con un histograma. El histograma nos muestra que una distribución binomial con un 50 % de probabilidad de éxito es aproximadamente simétrica, con los resultados más probables en el centro. Esto recuerda a la distribución normal, pero si alteramos la probabilidad de éxito, la distribución no será simétrica:"
      ],
      "metadata": {
        "id": "yvblVKdmp-Uc"
      }
    },
    {
      "cell_type": "code",
      "source": [
        "biased_coin_flips = stats.binom.rvs(n=10,      # número de lanzamientos por ensayo\n",
        "                                  p=0.8,       # probabilidad de éxito\n",
        "                                  size=10000)  # Número de ensayos\n",
        "\n",
        "# Tabla de conteos\n",
        "print( pd.crosstab(index=\"counts\", columns= biased_coin_flips))\n",
        "\n",
        "# Histograma\n",
        "pd.DataFrame(biased_coin_flips).hist(range=(-0.5,10.5), bins=11);"
      ],
      "metadata": {
        "colab": {
          "base_uri": "https://localhost:8080/",
          "height": 388
        },
        "id": "I-vKlmv0qA2k",
        "outputId": "bf1c94d2-58cc-4509-9f4f-9cd2ea26f87a"
      },
      "execution_count": null,
      "outputs": [
        {
          "output_type": "stream",
          "name": "stdout",
          "text": [
            "col_0   2   3   4    5    6     7     8     9     10\n",
            "row_0                                               \n",
            "counts   1  10  37  278  872  2001  3033  2672  1096\n"
          ]
        },
        {
          "output_type": "display_data",
          "data": {
            "image/png": "[encoded data removed]",
            "text/plain": [
              "<Figure size 360x360 with 1 Axes>"
            ]
          },
          "metadata": {
            "needs_background": "light"
          }
        }
      ]
    },
    {
      "cell_type": "markdown",
      "source": [
        "La función `cdf()` nos permite verificar la probabilidad de lograr una cantidad de éxitos dentro de un cierto rango:"
      ],
      "metadata": {
        "id": "SJTCgfZnqGzT"
      }
    },
    {
      "cell_type": "code",
      "source": [
        "stats.binom.cdf(k=5,        # Probabilidad de k = 5 éxitos o menos\n",
        "                n=10,       # con 10 lanzamientos\n",
        "                p=0.8)      # y probabilidad de éxito de 0.8"
      ],
      "metadata": {
        "colab": {
          "base_uri": "https://localhost:8080/"
        },
        "id": "PhR1wGAAqJ7t",
        "outputId": "30ba35f5-71ec-441c-84a8-7ac8697b2266"
      },
      "execution_count": null,
      "outputs": [
        {
          "output_type": "execute_result",
          "data": {
            "text/plain": [
              "0.032793497599999964"
            ]
          },
          "metadata": {},
          "execution_count": 34
        }
      ]
    },
    {
      "cell_type": "code",
      "source": [
        "1 - stats.binom.cdf(k=8,        # Probabilidad de k = 5 éxitos o mas\n",
        "                    n=10,       # con 10 lanzamientos\n",
        "                    p=0.8)      # y probabilidad de éxito de 0.8"
      ],
      "metadata": {
        "colab": {
          "base_uri": "https://localhost:8080/"
        },
        "id": "H7P2QxKAqML1",
        "outputId": "de60ce1b-5ccc-451d-f839-a9b3b74a1a09"
      },
      "execution_count": null,
      "outputs": [
        {
          "output_type": "execute_result",
          "data": {
            "text/plain": [
              "0.37580963840000003"
            ]
          },
          "metadata": {},
          "execution_count": 35
        }
      ]
    },
    {
      "cell_type": "markdown",
      "source": [
        "Para funciones de densidad de probabilidad continuas, utiliza `pdf()` para verificar la densidad de probabilidad en un valor x dado. Para distribuciones discretas como la binomial, use `stats.distribution.pmf()` (función de masa de probabilidad) para verificar la masa (proporción de observaciones) en un número dado de éxitos k:"
      ],
      "metadata": {
        "id": "5VEtnpquqUvX"
      }
    },
    {
      "cell_type": "code",
      "source": [
        "stats.binom.pmf(k=5,        # Probabilidad de k = 5 éxitos\n",
        "                n=10,       # con 10 lanzamientos\n",
        "                p=0.5)      # And success probability 0.5"
      ],
      "metadata": {
        "colab": {
          "base_uri": "https://localhost:8080/"
        },
        "id": "Mq3jAwViqVPt",
        "outputId": "37f551cf-0336-4a80-90df-acdb90a6a208"
      },
      "execution_count": null,
      "outputs": [
        {
          "output_type": "execute_result",
          "data": {
            "text/plain": [
              "0.24609375000000025"
            ]
          },
          "metadata": {},
          "execution_count": 36
        }
      ]
    },
    {
      "cell_type": "code",
      "source": [
        "stats.binom.pmf(k=8,        # Probabilidad de k = 8 éxitos\n",
        "                n=10,       # con 10 lanzamientos\n",
        "                p=0.8)      # y probabilidad de éxito de 0.8"
      ],
      "metadata": {
        "colab": {
          "base_uri": "https://localhost:8080/"
        },
        "id": "nerCDtSJqZEd",
        "outputId": "4181c4d3-6812-4d63-8934-1ab5bcde408c"
      },
      "execution_count": null,
      "outputs": [
        {
          "output_type": "execute_result",
          "data": {
            "text/plain": [
              "0.301989888"
            ]
          },
          "metadata": {},
          "execution_count": 37
        }
      ]
    },
    {
      "cell_type": "markdown",
      "source": [
        "##**Distribuciones Geométrica y Exponencial**\n",
        "Las distribuciones geométrica y exponencial modelan el tiempo que tarda en ocurrir un evento. La distribución geométrica es discreta y modela el número de intentos necesarios para lograr un éxito en experimentos repetidos con una probabilidad de éxito determinada. La distribución exponencial es un análogo continuo de la distribución geométrica y modela la cantidad de tiempo que debe esperar antes de que ocurra un evento dada una determinada tasa de ocurrencia.\n",
        "\n",
        "El apodo de Scipy para la distribución geométrica es \"geom\". Usemos las funciones geom para modelar el número de intentos necesarios para obtener un éxito (cara) al lanzar una moneda:"
      ],
      "metadata": {
        "id": "50i8Nz47qiDH"
      }
    },
    {
      "cell_type": "code",
      "source": [
        "random.seed(12)\n",
        "\n",
        "flips_till_heads = stats.geom.rvs(size=10000,  # generar datos que siguen una distribución geométrica\n",
        "                                  p=0.5)       # con una probabilidad de éxito de 0.5\n",
        "\n",
        "# Tabla de conteos \n",
        "print( pd.crosstab(index=\"counts\", columns= flips_till_heads))\n",
        "\n",
        "# Histograma\n",
        "pd.DataFrame(flips_till_heads).hist(range=(-0.5,max(flips_till_heads)+0.5)\n",
        "                                    , bins=max(flips_till_heads)+1);"
      ],
      "metadata": {
        "colab": {
          "base_uri": "https://localhost:8080/",
          "height": 388
        },
        "id": "WTTR8INSqnYp",
        "outputId": "d7394548-72f4-498d-b9f9-94618594e09d"
      },
      "execution_count": null,
      "outputs": [
        {
          "output_type": "stream",
          "name": "stdout",
          "text": [
            "col_0     1     2     3    4    5    6   7   8   9   10  11  12  13\n",
            "row_0                                                              \n",
            "counts  5099  2490  1185  593  304  162  92  39  15  12   3   4   2\n"
          ]
        },
        {
          "output_type": "display_data",
          "data": {
            "image/png": "[encoded data removed]",
            "text/plain": [
              "<Figure size 360x360 with 1 Axes>"
            ]
          },
          "metadata": {
            "needs_background": "light"
          }
        }
      ]
    },
    {
      "cell_type": "markdown",
      "source": [
        "La distribución es similar a lo que esperaríamos: es muy probable que obtenga cara en 1 o 2 lanzamientos, mientras que es muy poco probable que se necesiten más de 5 lanzamientos para obtener cara. En los 10 000 ensayos que generamos, cuando más se tardó en obtener cara fue de 13 lanzamientos.\n",
        "\n",
        "Usemos cdf() para verificar la probabilidad de necesitar 6 lanzamientos o más para tener éxito:"
      ],
      "metadata": {
        "id": "A3pmZLEgqs2U"
      }
    },
    {
      "cell_type": "code",
      "source": [
        "first_five = stats.geom.cdf(k=5,   # Probabilidad de éxito en los primeros 5 lanzamientos\n",
        "                           p=0.5)\n",
        "\n",
        "1 - first_five"
      ],
      "metadata": {
        "colab": {
          "base_uri": "https://localhost:8080/"
        },
        "id": "2wU4wXeLqu2-",
        "outputId": "d258b9c1-6d46-4d67-b2ee-6318c80001c2"
      },
      "execution_count": null,
      "outputs": [
        {
          "output_type": "execute_result",
          "data": {
            "text/plain": [
              "0.03125"
            ]
          },
          "metadata": {},
          "execution_count": 39
        }
      ]
    },
    {
      "cell_type": "markdown",
      "source": [
        "Use pmf() para verificar la probabilidad de ver un número específico de lanzamientos antes de que un éxito:"
      ],
      "metadata": {
        "id": "_W88s314qzSo"
      }
    },
    {
      "cell_type": "code",
      "source": [
        "stats.geom.pmf(k=2,   # Probabilidad de necesitar exactamente 2 lanzamientos para obtener el primer éxito\n",
        "              p=0.5)"
      ],
      "metadata": {
        "colab": {
          "base_uri": "https://localhost:8080/"
        },
        "id": "UDZJot59q1j0",
        "outputId": "4cca6db9-7a1a-48e7-a021-61dd687ca536"
      },
      "execution_count": null,
      "outputs": [
        {
          "output_type": "execute_result",
          "data": {
            "text/plain": [
              "0.25"
            ]
          },
          "metadata": {},
          "execution_count": 40
        }
      ]
    },
    {
      "cell_type": "markdown",
      "source": [
        "Ahora investiguemos la distribución exponencial:"
      ],
      "metadata": {
        "id": "dch30gTaq6rx"
      }
    },
    {
      "cell_type": "code",
      "source": [
        "# Get the probability of waiting more than 1 time unit before a success\n",
        "\n",
        "prob_1 = stats.expon.cdf(x=1,        \n",
        "                         scale=1)  # Arrival rate\n",
        "\n",
        "1 - prob_1"
      ],
      "metadata": {
        "colab": {
          "base_uri": "https://localhost:8080/"
        },
        "id": "Z-loF2p9q1_P",
        "outputId": "5c6195a2-0b87-41e9-bd8b-effb4a0d657a"
      },
      "execution_count": null,
      "outputs": [
        {
          "output_type": "execute_result",
          "data": {
            "text/plain": [
              "0.36787944117144233"
            ]
          },
          "metadata": {},
          "execution_count": 41
        }
      ]
    },
    {
      "cell_type": "markdown",
      "source": [
        "Nota: El tiempo promedio de llegada para la distribución exponencial es igual a 1/arrival_rate.\n",
        "\n",
        "Tracemos esta distribución exponencial para tener una idea de su forma:"
      ],
      "metadata": {
        "id": "VpKqqYVJrCJL"
      }
    },
    {
      "cell_type": "code",
      "source": [
        "plt.fill_between(x=np.arange(0,1,0.01), \n",
        "                 y1= stats.expon.pdf(np.arange(0,1,0.01)) ,\n",
        "                 facecolor='blue',\n",
        "                 alpha=0.35)\n",
        "\n",
        "plt.fill_between(x=np.arange(1,7,0.01), \n",
        "                 y1= stats.expon.pdf(np.arange(1,7,0.01)) ,\n",
        "                 facecolor='red',\n",
        "                 alpha=0.35)\n",
        "\n",
        "\n",
        "plt.text(x=0.3, y=0.2, s= round(prob_1,3))\n",
        "plt.text(x=1.5, y=0.08, s= round(1 - prob_1,3));"
      ],
      "metadata": {
        "colab": {
          "base_uri": "https://localhost:8080/",
          "height": 320
        },
        "id": "KZBqc6ozrEso",
        "outputId": "5e9b1ef4-bce9-4d9d-b56a-957b8581dd28"
      },
      "execution_count": null,
      "outputs": [
        {
          "output_type": "display_data",
          "data": {
            "image/png": "[encoded data removed]",
            "text/plain": [
              "<Figure size 360x360 with 1 Axes>"
            ]
          },
          "metadata": {
            "needs_background": "light"
          }
        }
      ]
    },
    {
      "cell_type": "markdown",
      "source": [
        "Similar a la distribución geométrica, la exponencial comienza alta y tiene una cola larga que se va a la derecha y contiene casos raros en los que tiene que esperar mucho más que el promedio para llegar."
      ],
      "metadata": {
        "id": "6ax8zUVHrPxx"
      }
    },
    {
      "cell_type": "markdown",
      "source": [
        "##**Distribución de Poisson**\n",
        "La distribución de Poisson modela la probabilidad de ver una cierta cantidad de éxitos dentro de un intervalo de tiempo, donde el tiempo que lleva el siguiente éxito se modela mediante una distribución exponencial. La distribución de Poisson se puede usar para modelar el tráfico, como la cantidad de llegadas que un hospital puede esperar en una hora o la cantidad de correos electrónicos que esperaría recibir en una semana.\n",
        "\n",
        "El nombre de Scipy para la distribución de Poisson es \"poisson\". Generemos y representemos algunos datos de una distribución de Poisson con una tasa de llegada de 1 por unidad de tiempo:"
      ],
      "metadata": {
        "id": "HgyfEJhwrUO-"
      }
    },
    {
      "cell_type": "code",
      "source": [
        "random.seed(12)\n",
        "\n",
        "arrival_rate_1 = stats.poisson.rvs(size=10000,  # Genera datos que siguen una distribución de Poisson\n",
        "                                   mu=1 )       # media de llegadas\n",
        "\n",
        "# Tabla de conteos\n",
        "print( pd.crosstab(index=\"counts\", columns= arrival_rate_1))\n",
        "\n",
        "# Histograma\n",
        "pd.DataFrame(arrival_rate_1).hist(range=(-0.5,max(arrival_rate_1)+0.5)\n",
        "                                    , bins=max(arrival_rate_1)+1);"
      ],
      "metadata": {
        "colab": {
          "base_uri": "https://localhost:8080/",
          "height": 388
        },
        "id": "g4rN-goWrYHi",
        "outputId": "a20bab43-d04a-40de-9230-c7eb519cb0c4"
      },
      "execution_count": null,
      "outputs": [
        {
          "output_type": "stream",
          "name": "stdout",
          "text": [
            "col_0      0     1     2    3    4   5  6  7\n",
            "row_0                                       \n",
            "counts  3665  3698  1860  588  149  33  6  1\n"
          ]
        },
        {
          "output_type": "display_data",
          "data": {
            "image/png": "[encoded data removed]",
            "text/plain": [
              "<Figure size 360x360 with 1 Axes>"
            ]
          },
          "metadata": {
            "needs_background": "light"
          }
        }
      ]
    },
    {
      "cell_type": "markdown",
      "source": [
        "El histograma muestra que cuando las llegadas son relativamente poco frecuentes, es raro ver más de un par de llegadas en cada período de tiempo. Cuando la tasa de llegadas es alta, se vuelve cada vez más raro ver un número bajo de llegadas y la distribución comienza a verse más simétrica:"
      ],
      "metadata": {
        "id": "mfiTp8v8rdzI"
      }
    },
    {
      "cell_type": "code",
      "source": [
        "random.seed(12)\n",
        "\n",
        "arrival_rate_10 = stats.poisson.rvs(size=10000,  # Generate Poisson data\n",
        "                                   mu=10 )       # promedio de llegadas :10\n",
        "\n",
        "# Tabla de conteos\n",
        "print( pd.crosstab(index=\"counts\", columns= arrival_rate_10))\n",
        "\n",
        "# Histograma\n",
        "pd.DataFrame(arrival_rate_10).hist(range=(-0.5,max(arrival_rate_10)+0.5)\n",
        "                                    , bins=max(arrival_rate_10)+1);"
      ],
      "metadata": {
        "colab": {
          "base_uri": "https://localhost:8080/",
          "height": 492
        },
        "id": "Td59pF_Orgld",
        "outputId": "36040946-c8aa-4f99-a52a-a3abaf53b3f3"
      },
      "execution_count": null,
      "outputs": [
        {
          "output_type": "stream",
          "name": "stdout",
          "text": [
            "col_0   1   2   3    4    5    6    7     8     9     10  ...   15   16   17  \\\n",
            "row_0                                                     ...                  \n",
            "counts   5  27  94  227  381  623  902  1142  1244  1307  ...  346  198  125   \n",
            "\n",
            "col_0   18  19  20  21  22  23  27  \n",
            "row_0                               \n",
            "counts  75  37  18   5   3   2   1  \n",
            "\n",
            "[1 rows x 24 columns]\n"
          ]
        },
        {
          "output_type": "display_data",
          "data": {
            "image/png": "[encoded data removed]",
            "text/plain": [
              "<Figure size 360x360 with 1 Axes>"
            ]
          },
          "metadata": {
            "needs_background": "light"
          }
        }
      ]
    },
    {
      "cell_type": "markdown",
      "source": [
        "Al igual que con otras distribuciones de probabilidad discretas, podemos usar cdf() para verificar la probabilidad de lograr más o menos de un cierto número de éxitos y pmf() para verificar la probabilidad de obtener un número específico de éxitos:"
      ],
      "metadata": {
        "id": "5zRZ3bdVrjqw"
      }
    },
    {
      "cell_type": "code",
      "source": [
        "stats.poisson.cdf(k=5,     # Compruebe la probabilidad de 5 llegadas o menos\n",
        "                  mu=10)   # Con tasa de llegada 10"
      ],
      "metadata": {
        "colab": {
          "base_uri": "https://localhost:8080/"
        },
        "id": "2YGidOrBroLA",
        "outputId": "5e0acd12-56eb-44c2-ff0b-ca47248ab9b1"
      },
      "execution_count": null,
      "outputs": [
        {
          "output_type": "execute_result",
          "data": {
            "text/plain": [
              "0.06708596287903189"
            ]
          },
          "metadata": {},
          "execution_count": 45
        }
      ]
    },
    {
      "cell_type": "code",
      "source": [
        "stats.poisson.pmf(k=10,     # Compruebe la probabilidad de 10 llegadas exactamente\n",
        "                  mu=10)    # Con tasa de llegada 10"
      ],
      "metadata": {
        "colab": {
          "base_uri": "https://localhost:8080/"
        },
        "id": "zD0vclz3rqsn",
        "outputId": "df4b291a-c7f2-45a8-ae9d-62b492ca01cb"
      },
      "execution_count": null,
      "outputs": [
        {
          "output_type": "execute_result",
          "data": {
            "text/plain": [
              "0.12511003572113372"
            ]
          },
          "metadata": {},
          "execution_count": 46
        }
      ]
    },
    {
      "cell_type": "markdown",
      "source": [
        "Las funciones de distribución de probabilidad son útiles para generar datos aleatorios, modelar eventos aleatorios y ayudar con pruebas y análisis estadísticos.\n"
      ],
      "metadata": {
        "id": "6NIBDXLLrv_d"
      }
    },
    {
      "cell_type": "markdown",
      "source": [
        "#**3. Intervalos de confianza**"
      ],
      "metadata": {
        "id": "CBHtGqdWsJ36"
      }
    },
    {
      "cell_type": "markdown",
      "source": [
        "Hasta el momento, nos hemos centrado en las funciones y la sintaxis necesarias para manipular, explorar y describir datos. La limpieza de datos y el análisis exploratorio suelen ser pasos preliminares hacia el objetivo final de extraer información de los datos a través de la inferencia estadística o el modelado predictivo. La idea es utilizar métodos para analizar datos y herramientas para realizar análisis en Python.\n",
        "\n",
        "La inferencia estadística es el proceso de analizar datos de una muestra para obtener información sobre la población de la que se recopilaron los datos e investigar las diferencias entre las muestras de datos. En el análisis de datos, a menudo nos interesan las características de una gran población, pero la recopilación de datos sobre toda la población puede ser inviable. Por ejemplo, antes de las elecciones presidenciales, podría ser muy útil conocer las inclinaciones políticas de cada votante elegible, pero encuestar a todos los votantes no es factible. En su lugar, podríamos encuestar a algún subconjunto de la población, como mil votantes registrados, y usar esos datos para hacer inferencias sobre la población en su conjunto.\n"
      ],
      "metadata": {
        "id": "ExWzBFaWsNBd"
      }
    },
    {
      "cell_type": "markdown",
      "source": [
        "##**Estimaciones puntuales**\n",
        "Las estimaciones puntuales son estimaciones de parámetros de una población basadas en datos de una muestra. Por ejemplo, si quisiéramos saber la edad promedio de los votantes registrados para las próximas elecciones presidenciales, podríamos realizar una encuesta de votantes registrados y luego usar la edad promedio de los encuestados como una estimación puntual de la edad promedio de la población en general. El promedio de una muestra se conoce como media muestral.\n",
        "\n",
        "La media muestral no suele ser exactamente igual a la media poblacional. Esta diferencia puede deberse a muchos factores, incluido el diseño deficiente de la encuesta, los métodos de muestreo sesgados y la aleatoriedad inherente a la extracción de una muestra de una población. Investiguemos las estimaciones puntuales generando una población de datos de edad aleatorios y luego extrayendo una muestra para estimar la media:"
      ],
      "metadata": {
        "id": "cL1BsfLVsYiN"
      }
    },
    {
      "cell_type": "code",
      "source": [
        "%matplotlib inline\n",
        "\n",
        "import numpy as np\n",
        "import pandas as pd\n",
        "import scipy.stats as stats\n",
        "import matplotlib.pyplot as plt\n",
        "import random\n",
        "import math"
      ],
      "metadata": {
        "id": "eutzw0Ccr4Vr"
      },
      "execution_count": null,
      "outputs": []
    },
    {
      "cell_type": "code",
      "source": [
        "np.random.seed(10)\n",
        "population_ages1 = stats.poisson.rvs(loc=18, mu=35, size=150000)\n",
        "population_ages2 = stats.poisson.rvs(loc=18, mu=10, size=100000)\n",
        "population_ages = np.concatenate((population_ages1, population_ages2))\n",
        "\n",
        "population_ages.mean() #Imprime la media de la población"
      ],
      "metadata": {
        "colab": {
          "base_uri": "https://localhost:8080/"
        },
        "id": "71d3A7bBsdHP",
        "outputId": "951a3e4c-d024-4967-a1d8-8854ea022192"
      },
      "execution_count": null,
      "outputs": [
        {
          "output_type": "execute_result",
          "data": {
            "text/plain": [
              "43.002372"
            ]
          },
          "metadata": {},
          "execution_count": 49
        }
      ]
    },
    {
      "cell_type": "code",
      "source": [
        "np.random.seed(6)\n",
        "sample_ages = np.random.choice(a= population_ages, size=500)      \n",
        "\n",
        "print ( sample_ages.mean() )                         # Imprime la media\n",
        "\n",
        "population_ages.mean() - sample_ages.mean()   # Comprueba la diferencia entre medias"
      ],
      "metadata": {
        "colab": {
          "base_uri": "https://localhost:8080/"
        },
        "id": "ogg5x2SVshxG",
        "outputId": "ca8aa66a-bd75-4509-c312-4200045f6a81"
      },
      "execution_count": null,
      "outputs": [
        {
          "output_type": "stream",
          "name": "stdout",
          "text": [
            "42.388\n"
          ]
        },
        {
          "output_type": "execute_result",
          "data": {
            "text/plain": [
              "0.614372000000003"
            ]
          },
          "metadata": {},
          "execution_count": 50
        }
      ]
    },
    {
      "cell_type": "markdown",
      "source": [
        "Nuestra estimación puntual basada en una muestra de 500 individuos subestima la verdadera media de la población en 0.6 años, pero está cerca. Esto ilustra un punto importante: podemos obtener una estimación bastante precisa de una población grande muestreando un subconjunto relativamente pequeño de individuos.\n",
        "\n",
        "Otra estimación puntual que puede ser de interés es la proporción de la población que pertenece a alguna categoría o subgrupo. Por ejemplo, nos gustaría saber la raza de cada votante que encuestamos, para tener una idea de la demografía general de la base de votantes. Puede hacer una estimación puntual de este tipo de proporción tomando una muestra y luego verificando la proporción en la muestra:"
      ],
      "metadata": {
        "id": "jfDs8RaXscoa"
      }
    },
    {
      "cell_type": "code",
      "source": [
        "random.seed(10)\n",
        "population_races = ([\"Blanco\"]*100000) + ([\"Negro\"]*50000) + ([\"Hispano\"]*50000) + ([\"Asiático\"]*25000) + ([\"Otro\"]*25000)\n",
        "    \n",
        "demo_sample = random.sample(population_races, 1000)   # Muestra con 1000 valores\n",
        "\n",
        "for race in set(demo_sample):\n",
        "    print( race + \" proporción estimada:\" )\n",
        "    print( demo_sample.count(race)/1000 )\n"
      ],
      "metadata": {
        "colab": {
          "base_uri": "https://localhost:8080/"
        },
        "id": "iJ2uRTsLss3F",
        "outputId": "13c57e22-33c9-4e69-9200-d941ea94cf88"
      },
      "execution_count": null,
      "outputs": [
        {
          "output_type": "stream",
          "name": "stdout",
          "text": [
            "Asiático proporción estimada:\n",
            "0.099\n",
            "Otro proporción estimada:\n",
            "0.099\n",
            "Blanco proporción estimada:\n",
            "0.379\n",
            "Hispano proporción estimada:\n",
            "0.192\n",
            "Negro proporción estimada:\n",
            "0.231\n"
          ]
        }
      ]
    },
    {
      "cell_type": "markdown",
      "source": [
        "Observe que las estimaciones de la proporción de la población están cerca de las verdaderas proporciones de la población subyacente."
      ],
      "metadata": {
        "id": "VmMYch9Qs2G5"
      }
    },
    {
      "cell_type": "markdown",
      "source": [
        "##**Intervalos de confianza**\n",
        "Una estimación puntual puede darle una idea aproximada de un parámetro de población como la media, pero las estimaciones son propensas a errores y puede que no sea factible tomar varias muestras para obtener estimaciones mejoradas. *Un intervalo de confianza es un rango de valores por encima y por debajo de una estimación puntual que captura el verdadero parámetro de la población en algún nivel de confianza predeterminado*. Por ejemplo, si desea tener un 95 % de posibilidades de capturar el parámetro de población real con una estimación puntual y un intervalo de confianza correspondiente, establecería su nivel de confianza en 95 %. Los niveles de confianza más altos dan como resultado intervalos de confianza más amplios.\n",
        "\n",
        "Calcule un intervalo de confianza tomando una estimación puntual y luego sumando y restando un margen de error para crear un rango. El margen de error se basa en el nivel de confianza deseado, la dispersión de los datos y el tamaño de la muestra. La forma en que calcula el margen de error depende de si conoce o no la desviación estándar de la población.\n",
        "\n",
        "Si conoce la desviación estándar de la población, el margen de error es igual a:\n",
        "\n",
        "$$z*\\frac{\\sigma}{\\sqrt{n}}$$\n",
        " \n",
        "Donde $\\sigma$ es la desviación estándar de la población, n es el tamaño de la muestra y z es un número conocido como *valor crítico z*. El valor crítico z es el número de desviaciones estándar que tendría que pasar de la media de la distribución normal para capturar la proporción de los datos asociados con el nivel de confianza deseado. Por ejemplo, sabemos que aproximadamente el 95 % de los datos en una distribución normal se encuentran dentro de 2 desviaciones estándar de la media, por lo que podríamos usar 2 como el valor crítico z para un intervalo de confianza del 95 % (aunque es más exacto obtener los valores críticos z con `stats.norm.ppf()`.).\n",
        "\n",
        "Calculemos una confianza del 95 % para nuestra estimación puntual media:\n"
      ],
      "metadata": {
        "id": "WgzeJJxZ8__c"
      }
    },
    {
      "cell_type": "code",
      "source": [
        "np.random.seed(10)\n",
        "\n",
        "sample_size = 1000\n",
        "sample = np.random.choice(a= population_ages, size = sample_size)\n",
        "sample_mean = sample.mean()\n",
        "\n",
        "z_critical = stats.norm.ppf(q = 0.975)  # Get the z-critical value*\n",
        "\n",
        "print(\"z-critical value:\")              # Check the z-critical value\n",
        "print(z_critical)                        \n",
        "\n",
        "pop_stdev = population_ages.std()  # Get the population standard deviation\n",
        "\n",
        "margin_of_error = z_critical * (pop_stdev/math.sqrt(sample_size))\n",
        "\n",
        "confidence_interval = (sample_mean - margin_of_error, sample_mean + margin_of_error)  \n",
        "\n",
        "print(\"Confidence interval:\")\n",
        "print(confidence_interval)"
      ],
      "metadata": {
        "colab": {
          "base_uri": "https://localhost:8080/"
        },
        "id": "_Z_W44mV9164",
        "outputId": "b8e2aa06-800d-4f55-f40b-898357a5cbed"
      },
      "execution_count": null,
      "outputs": [
        {
          "output_type": "stream",
          "name": "stdout",
          "text": [
            "z-critical value:\n",
            "1.959963984540054\n",
            "Confidence interval:\n",
            "(41.70306406882683, 43.34293593117317)\n"
          ]
        }
      ]
    },
    {
      "cell_type": "markdown",
      "source": [
        "Nota: Usamos `stats.norm.ppf(q = 0.975)` para obtener el valor crítico z deseado en lugar de q = 0.95 porque la distribución tiene dos colas.\n",
        "\n",
        "Observe que el intervalo de confianza que calculamos captura la verdadera media poblacional de 43.0023.\n",
        "\n",
        "Vamos a crear varios intervalos de confianza y trazarlos para tener una mejor idea de lo que significa \"capturar\" la verdadera media:"
      ],
      "metadata": {
        "id": "awzuE7rG9_t3"
      }
    },
    {
      "cell_type": "code",
      "source": [
        "np.random.seed(12)\n",
        "\n",
        "sample_size = 1000\n",
        "\n",
        "intervals = []\n",
        "sample_means = []\n",
        "\n",
        "for sample in range(25):\n",
        "    sample = np.random.choice(a= population_ages, size = sample_size)\n",
        "    sample_mean = sample.mean()\n",
        "    sample_means.append(sample_mean)\n",
        "\n",
        "    z_critical = stats.norm.ppf(q = 0.975)  # Get the z-critical value*         \n",
        "\n",
        "    pop_stdev = population_ages.std()  # Get the population standard deviation\n",
        "\n",
        "    stats.norm.ppf(q = 0.025)\n",
        "\n",
        "    margin_of_error = z_critical * (pop_stdev/math.sqrt(sample_size))\n",
        "\n",
        "    confidence_interval = (sample_mean - margin_of_error,\n",
        "                           sample_mean + margin_of_error)  \n",
        "    \n",
        "    intervals.append(confidence_interval)"
      ],
      "metadata": {
        "id": "Eafcq2RD-G_o"
      },
      "execution_count": null,
      "outputs": []
    },
    {
      "cell_type": "code",
      "source": [
        "plt.figure(figsize=(5,5))\n",
        "\n",
        "plt.errorbar(x=np.arange(0.1, 25, 1), \n",
        "             y=sample_means, \n",
        "             yerr=[(top-bot)/2 for top,bot in intervals],\n",
        "             fmt='o')\n",
        "\n",
        "plt.hlines(xmin=0, xmax=25,\n",
        "           y=43.0023, \n",
        "           linewidth=2.0,\n",
        "           color=\"red\");"
      ],
      "metadata": {
        "colab": {
          "base_uri": "https://localhost:8080/",
          "height": 320
        },
        "id": "Y8wViE7q-JaY",
        "outputId": "02ebf07d-f89d-4e6d-905d-dd6ecd9b415d"
      },
      "execution_count": null,
      "outputs": [
        {
          "output_type": "display_data",
          "data": {
            "image/png": "[encoded data removed]",
            "text/plain": [
              "<Figure size 360x360 with 1 Axes>"
            ]
          },
          "metadata": {
            "needs_background": "light"
          }
        }
      ]
    },
    {
      "cell_type": "markdown",
      "source": [
        "Observe que en el gráfico anterior, todos menos uno de los intervalos de confianza del 95 % se superponen a la línea roja que marca la media verdadera. Esto es de esperar: dado que un intervalo de confianza del 95 % captura la media real el 95 % de las veces, esperaríamos que nuestro intervalo pierda la media real el 5 % de las veces.\n",
        "\n",
        "Si no conoce la desviación estándar de la población, debe usar la desviación estándar de su muestra como sustituto al crear intervalos de confianza. Dado que la desviación estándar de la muestra puede no coincidir con el parámetro de la población, el intervalo tendrá más error cuando no conozca la desviación estándar de la población. Para dar cuenta de este error, usamos lo que se conoce como valor *t-crítico t* en lugar del valor crítico z. El valor t-crítico se extrae de lo que se conoce como distribución t, una distribución que se parece mucho a la distribución normal pero que se hace más y más ancha a medida que disminuye el tamaño de la muestra. La distribución t está disponible en scipy.stats con el apodo \"t\" para que podamos obtener valores críticos t con `stats.t.ppf()`.\n",
        "\n",
        "Tomemos una muestra nueva y más pequeña y luego creemos un intervalo de confianza sin la desviación estándar de la población, usando la distribución t:"
      ],
      "metadata": {
        "id": "0ngrK0UW-T1c"
      }
    },
    {
      "cell_type": "code",
      "source": [
        "np.random.seed(10)\n",
        "\n",
        "sample_size = 25\n",
        "sample = np.random.choice(a= population_ages, size = sample_size)\n",
        "sample_mean = sample.mean()\n",
        "\n",
        "t_critical = stats.t.ppf(q = 0.975, df=24)  # Get the t-critical value*\n",
        "\n",
        "print(\"t-critical value:\")                  # Check the t-critical value\n",
        "print(t_critical)                        \n",
        "\n",
        "sample_stdev = sample.std(ddof=1)    # Get the sample standard deviation\n",
        "\n",
        "sigma = sample_stdev/math.sqrt(sample_size)  # Standard deviation estimate\n",
        "margin_of_error = t_critical * sigma\n",
        "\n",
        "confidence_interval = (sample_mean - margin_of_error,\n",
        "                       sample_mean + margin_of_error)  \n",
        "\n",
        "print(\"Confidence interval:\")\n",
        "print(confidence_interval)"
      ],
      "metadata": {
        "colab": {
          "base_uri": "https://localhost:8080/"
        },
        "id": "G0NPhYP4-WcK",
        "outputId": "1e0f14d0-a9cf-487d-c8c2-3f57a782fb9f"
      },
      "execution_count": null,
      "outputs": [
        {
          "output_type": "stream",
          "name": "stdout",
          "text": [
            "t-critical value:\n",
            "2.0638985616280205\n",
            "Confidence interval:\n",
            "(37.65147508161371, 48.108524918386294)\n"
          ]
        }
      ]
    },
    {
      "cell_type": "markdown",
      "source": [
        "Nota: al usar la distribución t, debe proporcionar los grados de libertad (df). Para este tipo de prueba, los grados de libertad son iguales al tamaño de la muestra menos 1. Si tiene un tamaño de muestra grande, la distribución t se aproxima a la distribución normal.\n",
        "\n",
        "Observe que el valor crítico t es mayor que el valor crítico z que usamos para el intervalo de confianza del 95 %. Esto permite que el intervalo de confianza arroje una red más grande para compensar la variabilidad causada por el uso de la desviación estándar de la muestra en lugar de la desviación estándar de la población. El resultado final es un intervalo de confianza mucho más amplio (un intervalo con un mayor margen de error).\n",
        "\n",
        "Si tiene una muestra grande, el valor crítico t se acercará al valor crítico z, por lo que hay poca diferencia entre usar la distribución normal y la distribución t:"
      ],
      "metadata": {
        "id": "yX3D8Twz-evV"
      }
    },
    {
      "cell_type": "code",
      "source": [
        "stats.t.ppf(q=0.975, df= 999) - stats.norm.ppf(0.975)  "
      ],
      "metadata": {
        "colab": {
          "base_uri": "https://localhost:8080/"
        },
        "id": "Yxsz6Iab-g7L",
        "outputId": "518f7d89-5b4d-48aa-bac6-e990f882aa08"
      },
      "execution_count": null,
      "outputs": [
        {
          "output_type": "execute_result",
          "data": {
            "text/plain": [
              "0.0023774765933946007"
            ]
          },
          "metadata": {},
          "execution_count": 102
        }
      ]
    },
    {
      "cell_type": "markdown",
      "source": [
        "En lugar de calcular a mano un intervalo de confianza para una estimación puntual media, puede calcularlo utilizando la función de Python stats.t.interval():"
      ],
      "metadata": {
        "id": "URJc90dD-meJ"
      }
    },
    {
      "cell_type": "code",
      "source": [
        "stats.t.interval(alpha = 0.95,              # Confidence level\n",
        "                 df= 24,                    # Degrees of freedom\n",
        "                 loc = sample_mean,         # Sample mean\n",
        "                 scale = sigma) "
      ],
      "metadata": {
        "colab": {
          "base_uri": "https://localhost:8080/"
        },
        "id": "RQoptkuk-oU1",
        "outputId": "49adbc6b-c5df-44cd-874d-6c0db1241061"
      },
      "execution_count": null,
      "outputs": [
        {
          "output_type": "execute_result",
          "data": {
            "text/plain": [
              "(37.65147508161371, 48.108524918386294)"
            ]
          },
          "metadata": {},
          "execution_count": 103
        }
      ]
    },
    {
      "cell_type": "markdown",
      "source": [
        "También podemos hacer un intervalo de confianza para una estimación puntual de una proporción de la población. En este caso, el margen de error es igual a:\n",
        "\n",
        "$$z*\\sqrt{\\frac{p(1-p)}{n}}$$\n",
        " \n",
        "Donde $z$ es el valor crítico z para nuestro nivel de confianza, p es la estimación puntual de la proporción de la población y n es el tamaño de la muestra. Calculemos un intervalo de confianza del 95 % para los hispanos según la proporción muestral que calculamos anteriormente (0.192):"
      ],
      "metadata": {
        "id": "EAvZL80G-sIt"
      }
    },
    {
      "cell_type": "code",
      "source": [
        "z_critical = stats.norm.ppf(0.975)      # Record z-critical value\n",
        "\n",
        "p = 0.192                               # Point estimate of proportion\n",
        "\n",
        "n = 1000                                # Sample size\n",
        "\n",
        "margin_of_error = z_critical * math.sqrt((p*(1-p))/n)\n",
        "\n",
        "confidence_interval = (p - margin_of_error,  # Calculate the the interval\n",
        "                       p + margin_of_error) \n",
        "\n",
        "confidence_interval"
      ],
      "metadata": {
        "colab": {
          "base_uri": "https://localhost:8080/"
        },
        "id": "75tfKNuF-8a-",
        "outputId": "13a6780f-00a2-4685-b93d-a5e569f97209"
      },
      "execution_count": null,
      "outputs": [
        {
          "output_type": "execute_result",
          "data": {
            "text/plain": [
              "(0.16758794241348748, 0.21641205758651252)"
            ]
          },
          "metadata": {},
          "execution_count": 104
        }
      ]
    },
    {
      "cell_type": "markdown",
      "source": [
        "El resultado muestra que el intervalo de confianza capturó el parámetro de población real de 0.2. Similar a nuestras estimaciones puntuales de la media de la población, podemos usar la función scipy stats.distribution.interval() para calcular un intervalo de confianza para una proporción de la población para nosotros. En este caso, estamos trabajando con valores críticos z, por lo que queremos trabajar con la distribución normal en lugar de la distribución t:"
      ],
      "metadata": {
        "id": "y7Gt4PbC--rp"
      }
    },
    {
      "cell_type": "code",
      "source": [
        "stats.norm.interval(alpha = 0.95,    # Confidence level             \n",
        "                   loc =  0.192,     # Point estimate of proportion\n",
        "                   scale = math.sqrt((p*(1-p))/n))  # Scaling factor"
      ],
      "metadata": {
        "colab": {
          "base_uri": "https://localhost:8080/"
        },
        "id": "49FXOaz0_CyN",
        "outputId": "0cabd9ed-3627-49dc-d518-99ad85bfc173"
      },
      "execution_count": null,
      "outputs": [
        {
          "output_type": "execute_result",
          "data": {
            "text/plain": [
              "(0.16758794241348748, 0.21641205758651252)"
            ]
          },
          "metadata": {},
          "execution_count": 105
        }
      ]
    },
    {
      "cell_type": "markdown",
      "source": [
        "Estimar los parámetros de la población a través del muestreo es una forma de inferencia simple pero poderosa. Las estimaciones puntuales combinadas con márgenes de error nos permiten crear intervalos de confianza que capturan el parámetro de población real con alta probabilidad."
      ],
      "metadata": {
        "id": "IvQBEsfZ_IVi"
      }
    },
    {
      "cell_type": "markdown",
      "source": [
        "Para practicar, siga este enlace [Datasets for Teaching](https://www.sheffield.ac.uk/mash/statistics/datasets)\n",
        "\n",
        "[1] Peter Bruce and Andrew Bruce (2017). Practical Statistics for Data Scientists. 50 Essential Concepts. y O’Reilly Media, Inc.\n",
        "\n",
        "[2] https://www.kaggle.com/hamelg/python-for-data-analysis-index\n",
        "\n",
        "[3] https://github.com/diplomado-bigdata-machinelearning-udea/Curso1/blob/master/s05/s05.ipynb\n"
      ],
      "metadata": {
        "id": "fTZvwDk4Dzxn"
      }
    },
    {
      "cell_type": "code",
      "source": [
        ""
      ],
      "metadata": {
        "id": "vD5BPHD1GQ0a"
      },
      "execution_count": null,
      "outputs": []
    }
  ],
  "metadata": {
    "kernelspec": {
      "display_name": "Python 3",
      "language": "python",
      "name": "python3"
    },
    "language_info": {
      "codemirror_mode": {
        "name": "ipython",
        "version": 3
      },
      "file_extension": ".py",
      "mimetype": "text/x-python",
      "name": "python",
      "nbconvert_exporter": "python",
      "pygments_lexer": "ipython3",
      "version": "3.6.6"
    },
    "colab": {
      "name": "C3. Estadística descriptiva.ipynb",
      "provenance": [],
      "collapsed_sections": []
    }
  },
  "nbformat": 4,
  "nbformat_minor": 0
}