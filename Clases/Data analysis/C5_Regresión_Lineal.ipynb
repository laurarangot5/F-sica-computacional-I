{
  "cells": [
    {
      "cell_type": "markdown",
      "metadata": {
        "_cell_guid": "b1076dfc-b9ad-4769-8c92-a6c4dae69d19",
        "_uuid": "8f2839f25d086af736a60e9eeb907d3b93b6e0e5",
        "id": "yKv9ozCfMh1L"
      },
      "source": [
        "# **Resumen Estadística inferencial**\n",
        "1.   Intérvalos de confianza\n",
        "4.   Prueba de hipótesis\n",
        "3.  Test Chi-cuadrado\n",
        "\n",
        "#**Modelos predictivos**\n",
        "1. Regresión lineal\n",
        "\n",
        "\n",
        "\n",
        "\n"
      ]
    },
    {
      "cell_type": "markdown",
      "source": [
        "#**Resumen Estadística inferencial**\n",
        "\n",
        "Una de las partes más útiles de las estadísticas en la ciencia de datos son las pruebas estadísticas y las pruebas de hipótesis. Necesitamos saber cuál y cuándo usar una prueba estadística para que podamos tener las conclusiones apropiadas para una hipótesis.\n",
        "\n",
        "Hay 3 pasos principales en la prueba de hipótesis:\n",
        "\n",
        "* Indicar la hipótesis nula ($H_0$) y alternativa ($H_1$).\n",
        "* Realizar una prueba estadística adecuada.\n",
        "* Decida si se rechaza o no la hipótesis nula.\n",
        "  Para ellos, debe establecer un umbral para el valor $p$ llamado valor alfa ($\\alpha$). Si establecemos el valor alfa en 0.05, eso significa que tenemos un 95 % de confianza en el resultado. \n",
        "\n",
        "Para las siguientes pruebas estadísticas, el alfa se establece en 0.05.\n"
      ],
      "metadata": {
        "id": "CBHtGqdWsJ36"
      }
    },
    {
      "cell_type": "markdown",
      "source": [
        "Tenemos principalmente dos tipos de variables en el conjunto de datos \"Birthweight_reduced_kg_R.csv\". Las Variables Categóricas como \"smoker\" y las Numéricas como \"Length\" y \"Gestation\".\n"
      ],
      "metadata": {
        "id": "ys_ynH7mFw55"
      }
    },
    {
      "cell_type": "code",
      "source": [
        "%matplotlib inline\n",
        "\n",
        "import numpy as np\n",
        "import pandas as pd\n",
        "import scipy.stats as stats\n",
        "import matplotlib.pyplot as plt\n",
        "import random\n",
        "import math"
      ],
      "metadata": {
        "id": "eutzw0Ccr4Vr"
      },
      "execution_count": null,
      "outputs": []
    },
    {
      "cell_type": "code",
      "source": [
        "df = pd.read_csv(\"Birthweight_reduced_kg_R.csv\")\n",
        "df.head()"
      ],
      "metadata": {
        "colab": {
          "base_uri": "https://localhost:8080/",
          "height": 270
        },
        "id": "SnQo9mV-GbRP",
        "outputId": "c3472b4a-b317-4e5e-a572-4f57dcd1d3ed"
      },
      "execution_count": null,
      "outputs": [
        {
          "output_type": "execute_result",
          "data": {
            "text/plain": [
              "     ID  Length  Birthweight  Headcirc  Gestation  smoker  mage  mnocig  \\\n",
              "0  1360      56         4.55        34         44       0    20       0   \n",
              "1  1016      53         4.32        36         40       0    19       0   \n",
              "2   462      58         4.10        39         41       0    35       0   \n",
              "3  1187      53         4.07        38         44       0    20       0   \n",
              "4   553      54         3.94        37         42       0    24       0   \n",
              "\n",
              "   mheight  mppwt  fage  fedyrs  fnocig  fheight  lowbwt  mage35  \n",
              "0      162     57    23      10      35      179       0       0  \n",
              "1      171     62    19      12       0      183       0       0  \n",
              "2      172     58    31      16      25      185       0       1  \n",
              "3      174     68    26      14      25      189       0       0  \n",
              "4      175     66    30      12       0      184       0       0  "
            ],
            "text/html": [
              "\n",
              "  <div id=\"df-f79d965a-c309-404c-aa4c-9e0a45857115\">\n",
              "    <div class=\"colab-df-container\">\n",
              "      <div>\n",
              "<style scoped>\n",
              "    .dataframe tbody tr th:only-of-type {\n",
              "        vertical-align: middle;\n",
              "    }\n",
              "\n",
              "    .dataframe tbody tr th {\n",
              "        vertical-align: top;\n",
              "    }\n",
              "\n",
              "    .dataframe thead th {\n",
              "        text-align: right;\n",
              "    }\n",
              "</style>\n",
              "<table border=\"1\" class=\"dataframe\">\n",
              "  <thead>\n",
              "    <tr style=\"text-align: right;\">\n",
              "      <th></th>\n",
              "      <th>ID</th>\n",
              "      <th>Length</th>\n",
              "      <th>Birthweight</th>\n",
              "      <th>Headcirc</th>\n",
              "      <th>Gestation</th>\n",
              "      <th>smoker</th>\n",
              "      <th>mage</th>\n",
              "      <th>mnocig</th>\n",
              "      <th>mheight</th>\n",
              "      <th>mppwt</th>\n",
              "      <th>fage</th>\n",
              "      <th>fedyrs</th>\n",
              "      <th>fnocig</th>\n",
              "      <th>fheight</th>\n",
              "      <th>lowbwt</th>\n",
              "      <th>mage35</th>\n",
              "    </tr>\n",
              "  </thead>\n",
              "  <tbody>\n",
              "    <tr>\n",
              "      <th>0</th>\n",
              "      <td>1360</td>\n",
              "      <td>56</td>\n",
              "      <td>4.55</td>\n",
              "      <td>34</td>\n",
              "      <td>44</td>\n",
              "      <td>0</td>\n",
              "      <td>20</td>\n",
              "      <td>0</td>\n",
              "      <td>162</td>\n",
              "      <td>57</td>\n",
              "      <td>23</td>\n",
              "      <td>10</td>\n",
              "      <td>35</td>\n",
              "      <td>179</td>\n",
              "      <td>0</td>\n",
              "      <td>0</td>\n",
              "    </tr>\n",
              "    <tr>\n",
              "      <th>1</th>\n",
              "      <td>1016</td>\n",
              "      <td>53</td>\n",
              "      <td>4.32</td>\n",
              "      <td>36</td>\n",
              "      <td>40</td>\n",
              "      <td>0</td>\n",
              "      <td>19</td>\n",
              "      <td>0</td>\n",
              "      <td>171</td>\n",
              "      <td>62</td>\n",
              "      <td>19</td>\n",
              "      <td>12</td>\n",
              "      <td>0</td>\n",
              "      <td>183</td>\n",
              "      <td>0</td>\n",
              "      <td>0</td>\n",
              "    </tr>\n",
              "    <tr>\n",
              "      <th>2</th>\n",
              "      <td>462</td>\n",
              "      <td>58</td>\n",
              "      <td>4.10</td>\n",
              "      <td>39</td>\n",
              "      <td>41</td>\n",
              "      <td>0</td>\n",
              "      <td>35</td>\n",
              "      <td>0</td>\n",
              "      <td>172</td>\n",
              "      <td>58</td>\n",
              "      <td>31</td>\n",
              "      <td>16</td>\n",
              "      <td>25</td>\n",
              "      <td>185</td>\n",
              "      <td>0</td>\n",
              "      <td>1</td>\n",
              "    </tr>\n",
              "    <tr>\n",
              "      <th>3</th>\n",
              "      <td>1187</td>\n",
              "      <td>53</td>\n",
              "      <td>4.07</td>\n",
              "      <td>38</td>\n",
              "      <td>44</td>\n",
              "      <td>0</td>\n",
              "      <td>20</td>\n",
              "      <td>0</td>\n",
              "      <td>174</td>\n",
              "      <td>68</td>\n",
              "      <td>26</td>\n",
              "      <td>14</td>\n",
              "      <td>25</td>\n",
              "      <td>189</td>\n",
              "      <td>0</td>\n",
              "      <td>0</td>\n",
              "    </tr>\n",
              "    <tr>\n",
              "      <th>4</th>\n",
              "      <td>553</td>\n",
              "      <td>54</td>\n",
              "      <td>3.94</td>\n",
              "      <td>37</td>\n",
              "      <td>42</td>\n",
              "      <td>0</td>\n",
              "      <td>24</td>\n",
              "      <td>0</td>\n",
              "      <td>175</td>\n",
              "      <td>66</td>\n",
              "      <td>30</td>\n",
              "      <td>12</td>\n",
              "      <td>0</td>\n",
              "      <td>184</td>\n",
              "      <td>0</td>\n",
              "      <td>0</td>\n",
              "    </tr>\n",
              "  </tbody>\n",
              "</table>\n",
              "</div>\n",
              "      <button class=\"colab-df-convert\" onclick=\"convertToInteractive('df-f79d965a-c309-404c-aa4c-9e0a45857115')\"\n",
              "              title=\"Convert this dataframe to an interactive table.\"\n",
              "              style=\"display:none;\">\n",
              "        \n",
              "  <svg xmlns=\"http://www.w3.org/2000/svg\" height=\"24px\"viewBox=\"0 0 24 24\"\n",
              "       width=\"24px\">\n",
              "    <path d=\"M0 0h24v24H0V0z\" fill=\"none\"/>\n",
              "    <path d=\"M18.56 5.44l.94 2.06.94-2.06 2.06-.94-2.06-.94-.94-2.06-.94 2.06-2.06.94zm-11 1L8.5 8.5l.94-2.06 2.06-.94-2.06-.94L8.5 2.5l-.94 2.06-2.06.94zm10 10l.94 2.06.94-2.06 2.06-.94-2.06-.94-.94-2.06-.94 2.06-2.06.94z\"/><path d=\"M17.41 7.96l-1.37-1.37c-.4-.4-.92-.59-1.43-.59-.52 0-1.04.2-1.43.59L10.3 9.45l-7.72 7.72c-.78.78-.78 2.05 0 2.83L4 21.41c.39.39.9.59 1.41.59.51 0 1.02-.2 1.41-.59l7.78-7.78 2.81-2.81c.8-.78.8-2.07 0-2.86zM5.41 20L4 18.59l7.72-7.72 1.47 1.35L5.41 20z\"/>\n",
              "  </svg>\n",
              "      </button>\n",
              "      \n",
              "  <style>\n",
              "    .colab-df-container {\n",
              "      display:flex;\n",
              "      flex-wrap:wrap;\n",
              "      gap: 12px;\n",
              "    }\n",
              "\n",
              "    .colab-df-convert {\n",
              "      background-color: #E8F0FE;\n",
              "      border: none;\n",
              "      border-radius: 50%;\n",
              "      cursor: pointer;\n",
              "      display: none;\n",
              "      fill: #1967D2;\n",
              "      height: 32px;\n",
              "      padding: 0 0 0 0;\n",
              "      width: 32px;\n",
              "    }\n",
              "\n",
              "    .colab-df-convert:hover {\n",
              "      background-color: #E2EBFA;\n",
              "      box-shadow: 0px 1px 2px rgba(60, 64, 67, 0.3), 0px 1px 3px 1px rgba(60, 64, 67, 0.15);\n",
              "      fill: #174EA6;\n",
              "    }\n",
              "\n",
              "    [theme=dark] .colab-df-convert {\n",
              "      background-color: #3B4455;\n",
              "      fill: #D2E3FC;\n",
              "    }\n",
              "\n",
              "    [theme=dark] .colab-df-convert:hover {\n",
              "      background-color: #434B5C;\n",
              "      box-shadow: 0px 1px 3px 1px rgba(0, 0, 0, 0.15);\n",
              "      filter: drop-shadow(0px 1px 2px rgba(0, 0, 0, 0.3));\n",
              "      fill: #FFFFFF;\n",
              "    }\n",
              "  </style>\n",
              "\n",
              "      <script>\n",
              "        const buttonEl =\n",
              "          document.querySelector('#df-f79d965a-c309-404c-aa4c-9e0a45857115 button.colab-df-convert');\n",
              "        buttonEl.style.display =\n",
              "          google.colab.kernel.accessAllowed ? 'block' : 'none';\n",
              "\n",
              "        async function convertToInteractive(key) {\n",
              "          const element = document.querySelector('#df-f79d965a-c309-404c-aa4c-9e0a45857115');\n",
              "          const dataTable =\n",
              "            await google.colab.kernel.invokeFunction('convertToInteractive',\n",
              "                                                     [key], {});\n",
              "          if (!dataTable) return;\n",
              "\n",
              "          const docLinkHtml = 'Like what you see? Visit the ' +\n",
              "            '<a target=\"_blank\" href=https://colab.research.google.com/notebooks/data_table.ipynb>data table notebook</a>'\n",
              "            + ' to learn more about interactive tables.';\n",
              "          element.innerHTML = '';\n",
              "          dataTable['output_type'] = 'display_data';\n",
              "          await google.colab.output.renderOutput(dataTable, element);\n",
              "          const docLink = document.createElement('div');\n",
              "          docLink.innerHTML = docLinkHtml;\n",
              "          element.appendChild(docLink);\n",
              "        }\n",
              "      </script>\n",
              "    </div>\n",
              "  </div>\n",
              "  "
            ]
          },
          "metadata": {},
          "execution_count": 39
        }
      ]
    },
    {
      "cell_type": "markdown",
      "source": [
        "* ID: identificación del bebé\n",
        "* length:\tLongitud del bebé (cm)\n",
        "* Birthweight:\tPeso del bebé (kg)\n",
        "* headcirumference:\tcircunferencia de la cabeza\n",
        "* Gestation:\tGestación (semanas)\n",
        "* smoker:\tMother smokes 1 = smoker 0 = non-smoker\n",
        "* motherage: edad materna\n",
        "* mnocig: Número de cigarrillos fumados por día por la madre\n",
        "* mheight: Altura de la madre (cm)\n",
        "* mppwt:\tPeso de la madre antes del embarazo (kg)\n",
        "* fage:\tedad del padre\n",
        "* fedyrs:\tAños de educación del padre\n",
        "* fnocig:\tNúmero de cigarrillos fumados por día por el padre\n",
        "* fheight:\tAltura del padre (cm)\n",
        "* lowbwt:\tBajo peso al nacer, 0 = No y 1 = sí\n",
        "* mage35: Madre mayor de 35 años, 0 = No y 1 = sí"
      ],
      "metadata": {
        "id": "Ks0y9Eh0WK5e"
      }
    },
    {
      "cell_type": "markdown",
      "source": [
        "##**Prueba sobre dos variables categóricas**\n",
        "Por ejemplo: ¿Difiere la proporción de fumadores y no fumadores entre los niños nacidos con bajo peso?\n",
        "\n",
        "Si queremos comprobar la independencia de dos valores categóricos, utilizaremos la prueba Chi-Cuadrado.\n",
        "\n",
        "Planteemos la hipótesis:\n",
        "\n",
        "$H_0$ (Hipótesis nula): Las categorías \"smoker\" y \"lowbwt\" son **independientes**.\n",
        "\n",
        "$H_1$ (hipótesis alternativa): Las categorías \"smoker\" y \"lowbwt\" son **dependientes**.\n"
      ],
      "metadata": {
        "id": "LpSnbCRAXrto"
      }
    },
    {
      "cell_type": "markdown",
      "source": [
        "Para un valor de p y un nivel de significancia (alfa $\\alpha$) elegido, la prueba se puede interpretar de la siguiente manera:\n",
        "\n",
        "Si $p <= \\alpha$: se rechaza la hipótesis nula ($H_0$) y se acepta la $H_1$ (hipótesis alternativa), esto significa que las dos variables categóricas están correlacionadas, son dependientes.\n",
        "\n",
        "Si $p > \\alpha$: acepta la hipótesis nula ($H_0$) y rechaza la $H_1$, esto significa que las dos variables categóricas no están correlacionadas, son independiente.\n"
      ],
      "metadata": {
        "id": "5RBNjbQJU0vM"
      }
    },
    {
      "cell_type": "markdown",
      "source": [
        "Para calcular la estadística de la prueba de Chi-cuadrado, necesitaríamos construir una **tabla de contingencia**, las cuales se emplean para registrar y analizar la asociación entre dos o más variables. Podemos hacerlo usando la función `pd.crosstab` de pandas:"
      ],
      "metadata": {
        "id": "pGlXwHq6PhYS"
      }
    },
    {
      "cell_type": "code",
      "source": [
        "from scipy.stats import chi2_contingency\n",
        " \n",
        "#La forma más fácil de aplicar una prueba de chi-cuadrado es usando una tabla de contingencia\n",
        " \n",
        "contigency= pd.crosstab(df['smoker'], df['lowbwt'])\n",
        "contigency"
      ],
      "metadata": {
        "colab": {
          "base_uri": "https://localhost:8080/",
          "height": 143
        },
        "id": "ljlsyXcrY2iK",
        "outputId": "0604ed15-2b73-47b7-80cf-33a6ea290cf1"
      },
      "execution_count": null,
      "outputs": [
        {
          "output_type": "execute_result",
          "data": {
            "text/plain": [
              "lowbwt   0  1\n",
              "smoker       \n",
              "0       19  1\n",
              "1       17  5"
            ],
            "text/html": [
              "\n",
              "  <div id=\"df-29a862a5-ac5d-44d9-b848-087dfe1a7828\">\n",
              "    <div class=\"colab-df-container\">\n",
              "      <div>\n",
              "<style scoped>\n",
              "    .dataframe tbody tr th:only-of-type {\n",
              "        vertical-align: middle;\n",
              "    }\n",
              "\n",
              "    .dataframe tbody tr th {\n",
              "        vertical-align: top;\n",
              "    }\n",
              "\n",
              "    .dataframe thead th {\n",
              "        text-align: right;\n",
              "    }\n",
              "</style>\n",
              "<table border=\"1\" class=\"dataframe\">\n",
              "  <thead>\n",
              "    <tr style=\"text-align: right;\">\n",
              "      <th>lowbwt</th>\n",
              "      <th>0</th>\n",
              "      <th>1</th>\n",
              "    </tr>\n",
              "    <tr>\n",
              "      <th>smoker</th>\n",
              "      <th></th>\n",
              "      <th></th>\n",
              "    </tr>\n",
              "  </thead>\n",
              "  <tbody>\n",
              "    <tr>\n",
              "      <th>0</th>\n",
              "      <td>19</td>\n",
              "      <td>1</td>\n",
              "    </tr>\n",
              "    <tr>\n",
              "      <th>1</th>\n",
              "      <td>17</td>\n",
              "      <td>5</td>\n",
              "    </tr>\n",
              "  </tbody>\n",
              "</table>\n",
              "</div>\n",
              "      <button class=\"colab-df-convert\" onclick=\"convertToInteractive('df-29a862a5-ac5d-44d9-b848-087dfe1a7828')\"\n",
              "              title=\"Convert this dataframe to an interactive table.\"\n",
              "              style=\"display:none;\">\n",
              "        \n",
              "  <svg xmlns=\"http://www.w3.org/2000/svg\" height=\"24px\"viewBox=\"0 0 24 24\"\n",
              "       width=\"24px\">\n",
              "    <path d=\"M0 0h24v24H0V0z\" fill=\"none\"/>\n",
              "    <path d=\"M18.56 5.44l.94 2.06.94-2.06 2.06-.94-2.06-.94-.94-2.06-.94 2.06-2.06.94zm-11 1L8.5 8.5l.94-2.06 2.06-.94-2.06-.94L8.5 2.5l-.94 2.06-2.06.94zm10 10l.94 2.06.94-2.06 2.06-.94-2.06-.94-.94-2.06-.94 2.06-2.06.94z\"/><path d=\"M17.41 7.96l-1.37-1.37c-.4-.4-.92-.59-1.43-.59-.52 0-1.04.2-1.43.59L10.3 9.45l-7.72 7.72c-.78.78-.78 2.05 0 2.83L4 21.41c.39.39.9.59 1.41.59.51 0 1.02-.2 1.41-.59l7.78-7.78 2.81-2.81c.8-.78.8-2.07 0-2.86zM5.41 20L4 18.59l7.72-7.72 1.47 1.35L5.41 20z\"/>\n",
              "  </svg>\n",
              "      </button>\n",
              "      \n",
              "  <style>\n",
              "    .colab-df-container {\n",
              "      display:flex;\n",
              "      flex-wrap:wrap;\n",
              "      gap: 12px;\n",
              "    }\n",
              "\n",
              "    .colab-df-convert {\n",
              "      background-color: #E8F0FE;\n",
              "      border: none;\n",
              "      border-radius: 50%;\n",
              "      cursor: pointer;\n",
              "      display: none;\n",
              "      fill: #1967D2;\n",
              "      height: 32px;\n",
              "      padding: 0 0 0 0;\n",
              "      width: 32px;\n",
              "    }\n",
              "\n",
              "    .colab-df-convert:hover {\n",
              "      background-color: #E2EBFA;\n",
              "      box-shadow: 0px 1px 2px rgba(60, 64, 67, 0.3), 0px 1px 3px 1px rgba(60, 64, 67, 0.15);\n",
              "      fill: #174EA6;\n",
              "    }\n",
              "\n",
              "    [theme=dark] .colab-df-convert {\n",
              "      background-color: #3B4455;\n",
              "      fill: #D2E3FC;\n",
              "    }\n",
              "\n",
              "    [theme=dark] .colab-df-convert:hover {\n",
              "      background-color: #434B5C;\n",
              "      box-shadow: 0px 1px 3px 1px rgba(0, 0, 0, 0.15);\n",
              "      filter: drop-shadow(0px 1px 2px rgba(0, 0, 0, 0.3));\n",
              "      fill: #FFFFFF;\n",
              "    }\n",
              "  </style>\n",
              "\n",
              "      <script>\n",
              "        const buttonEl =\n",
              "          document.querySelector('#df-29a862a5-ac5d-44d9-b848-087dfe1a7828 button.colab-df-convert');\n",
              "        buttonEl.style.display =\n",
              "          google.colab.kernel.accessAllowed ? 'block' : 'none';\n",
              "\n",
              "        async function convertToInteractive(key) {\n",
              "          const element = document.querySelector('#df-29a862a5-ac5d-44d9-b848-087dfe1a7828');\n",
              "          const dataTable =\n",
              "            await google.colab.kernel.invokeFunction('convertToInteractive',\n",
              "                                                     [key], {});\n",
              "          if (!dataTable) return;\n",
              "\n",
              "          const docLinkHtml = 'Like what you see? Visit the ' +\n",
              "            '<a target=\"_blank\" href=https://colab.research.google.com/notebooks/data_table.ipynb>data table notebook</a>'\n",
              "            + ' to learn more about interactive tables.';\n",
              "          element.innerHTML = '';\n",
              "          dataTable['output_type'] = 'display_data';\n",
              "          await google.colab.output.renderOutput(dataTable, element);\n",
              "          const docLink = document.createElement('div');\n",
              "          docLink.innerHTML = docLinkHtml;\n",
              "          element.appendChild(docLink);\n",
              "        }\n",
              "      </script>\n",
              "    </div>\n",
              "  </div>\n",
              "  "
            ]
          },
          "metadata": {},
          "execution_count": 4
        }
      ]
    },
    {
      "cell_type": "code",
      "source": [
        "#Chi-square test of independence.\n",
        "stats.chi2_contingency(contigency)[0:3] # c, p, dof, expected\n",
        " \n"
      ],
      "metadata": {
        "colab": {
          "base_uri": "https://localhost:8080/"
        },
        "id": "FqZrHovbZe_S",
        "outputId": "9775d4c0-80c4-4e41-f8f8-1c1c5b7010d4"
      },
      "execution_count": null,
      "outputs": [
        {
          "output_type": "execute_result",
          "data": {
            "text/plain": [
              "(1.4357954545454548, 0.23082094094618558, 1)"
            ]
          },
          "metadata": {},
          "execution_count": 37
        }
      ]
    },
    {
      "cell_type": "markdown",
      "source": [
        "El valor de $p$ es superior a 0.05, por lo que no podemos rechazar la hipótesis nula con un nivel de confianza del 95 %. Eso significa que las categorías \"smoker\" y \"lowbwt\" son independientes. "
      ],
      "metadata": {
        "id": "5Q8qPI2lfM_5"
      }
    },
    {
      "cell_type": "markdown",
      "source": [
        "##**Prueba sobre una variable categórica y una numérica**\n",
        "Ejemplo: ¿Hay alguna diferencia entre el periodo de gestación (\"Gestation\") y si la madre es fumadora (\"smoker\")? ¿Hay alguna diferencia entre el periodo de gestación (\"Gestation\") y las edad de la madre (\"mage\")?\n",
        "\n",
        "En esta situación, utilizaremos una prueba T (students T-Test).\n",
        "\n",
        "$H_0$: no hay diferencia\n",
        "\n",
        "$H_1$: Hay una diferencia\n",
        "\n",
        "*La prueba-T, prueba t de Student o Test-T es una prueba estadística utilizada para determinar si una muestra de datos numéricos difiere significativamente de la población o si dos muestras difieren entre sí.*\n"
      ],
      "metadata": {
        "id": "5KymBcqhfnOW"
      }
    },
    {
      "cell_type": "code",
      "source": [
        "from scipy.stats import ttest_ind\n",
        "#¿Hay alguna diferencia entre el periodo de gestación (\"Gestation\") y si la madre es fumadora (\"smoker\")? \n",
        " \n",
        "t_stat, p = ttest_ind(df[(df.smoker == 1)]['Gestation'], df[(df.smoker == 0)]['Gestation'])\n",
        " \n",
        "print(\"p_value: \",round(p,3))"
      ],
      "metadata": {
        "colab": {
          "base_uri": "https://localhost:8080/"
        },
        "id": "C2m19JzzhKFx",
        "outputId": "f4b53c73-e2d4-436c-e72e-5c34950518ba"
      },
      "execution_count": null,
      "outputs": [
        {
          "output_type": "stream",
          "name": "stdout",
          "text": [
            "p_value:  0.551\n"
          ]
        }
      ]
    },
    {
      "cell_type": "markdown",
      "source": [
        "El valor de $p > 0.05$, por lo que aceptamos la hipótesis nula con un nivel de confianza del 95 %. Eso significa que NO hay una diferencia en la gestación entre mujeres fumadoras y no fumadoras."
      ],
      "metadata": {
        "id": "TR-BAOKqRpLv"
      }
    },
    {
      "cell_type": "code",
      "source": [
        "df[(df.smoker == 1)]['Gestation']"
      ],
      "metadata": {
        "colab": {
          "base_uri": "https://localhost:8080/"
        },
        "id": "QxVpylixpzeB",
        "outputId": "5ebeb12e-55c9-4eca-e7d0-a96428083b0a"
      },
      "execution_count": null,
      "outputs": [
        {
          "output_type": "execute_result",
          "data": {
            "text/plain": [
              "20    40\n",
              "21    41\n",
              "22    37\n",
              "23    39\n",
              "24    37\n",
              "25    35\n",
              "26    33\n",
              "27    41\n",
              "28    40\n",
              "29    40\n",
              "30    38\n",
              "31    39\n",
              "32    39\n",
              "33    45\n",
              "34    39\n",
              "35    41\n",
              "36    40\n",
              "37    39\n",
              "38    38\n",
              "39    41\n",
              "40    35\n",
              "41    40\n",
              "Name: Gestation, dtype: int64"
            ]
          },
          "metadata": {},
          "execution_count": 40
        }
      ]
    },
    {
      "cell_type": "code",
      "source": [
        "df[(df.smoker == 1)]['Gestation'].mean()"
      ],
      "metadata": {
        "colab": {
          "base_uri": "https://localhost:8080/"
        },
        "id": "5mekahmlMkpK",
        "outputId": "689a6bf9-6ec6-4d22-ad41-fd22b9f0bdff"
      },
      "execution_count": null,
      "outputs": [
        {
          "output_type": "execute_result",
          "data": {
            "text/plain": [
              "38.95454545454545"
            ]
          },
          "metadata": {},
          "execution_count": 42
        }
      ]
    },
    {
      "cell_type": "code",
      "source": [
        "df[(df.smoker == 0)]['Gestation'].mean()"
      ],
      "metadata": {
        "colab": {
          "base_uri": "https://localhost:8080/"
        },
        "id": "D4WSnAuZmIW_",
        "outputId": "ee2d3c11-ee19-49a0-dade-2b79ffcb4294"
      },
      "execution_count": null,
      "outputs": [
        {
          "output_type": "execute_result",
          "data": {
            "text/plain": [
              "39.45"
            ]
          },
          "metadata": {},
          "execution_count": 43
        }
      ]
    },
    {
      "cell_type": "code",
      "source": [
        "from scipy.stats import ttest_ind\n",
        " \n",
        "#¿Hay alguna diferencia entre el periodo de gestación (\"Gestation\") y las edad de la madre (\"mage35\")?\n",
        " \n",
        "t_stat, p = ttest_ind(df[(df.mage35 == 1)]['Gestation'], df[(df.mage35 == 0)]['Gestation'])\n",
        " \n",
        "print(\"p_value: \",round(p,3))"
      ],
      "metadata": {
        "colab": {
          "base_uri": "https://localhost:8080/"
        },
        "id": "O6Nup8pBlc7Z",
        "outputId": "95115bae-4fdb-44f7-caab-4f6091f89b68"
      },
      "execution_count": null,
      "outputs": [
        {
          "output_type": "stream",
          "name": "stdout",
          "text": [
            "p_value:  0.963\n"
          ]
        }
      ]
    },
    {
      "cell_type": "markdown",
      "source": [
        "El valor $p > 0.05$, por lo que aceptamos la hipótesis nula con un nivel de confianza del 95 %. Eso significa que no hay una diferencia en la gestación con la edad de las mujeres."
      ],
      "metadata": {
        "id": "Snw0BN0SmL5J"
      }
    },
    {
      "cell_type": "markdown",
      "source": [
        "#**Prueba sobre dos variables numéricas**\n",
        "Ejemplo: ¿Existe una relación entre el peso del niño al nacer (\"Birthweight\") y la gestación (\"Gestation\")?\n",
        "\n",
        "$H_0$: No hay relación entre el peso del niño al nacer y la gestación.\n",
        "\n",
        "$H_1$: Existe una relación entre el peso del niño al nacer y la gestación.\n",
        "\n",
        "Utilizaremos una prueba de correlación, la cual nos dará el coeficiente de correlación y el valor de p. Como se ha dicho en clases anteriores, el coeficiente de correlación es el número que nos indica qué tan relacionadas están las dos variables. Para el valor de $p$, aplicando los mismos principios que antes, si el valor de $p < 0.05$, rechazamos la hipótesis nula."
      ],
      "metadata": {
        "id": "MIRYCmwYvthf"
      }
    },
    {
      "cell_type": "code",
      "source": [
        "import scipy.stats as stats\n",
        " \n",
        "#Para este ejemplo usaremos la Correlación de Pearson.\n",
        "pearson_coef, p_value = stats.pearsonr(df[\"Gestation\"], df[\"Birthweight\"])\n",
        " \n",
        "print(\"El coeficiente de correlación de Pearson es: \", pearson_coef, \"y un valor de p de:\", round(p_value,3) )"
      ],
      "metadata": {
        "colab": {
          "base_uri": "https://localhost:8080/"
        },
        "id": "TRh3cZScwmfg",
        "outputId": "caaffbee-5d31-4cec-a77e-69a2c070901c"
      },
      "execution_count": null,
      "outputs": [
        {
          "output_type": "stream",
          "name": "stdout",
          "text": [
            "El coeficiente de correlación de Pearson es:  0.7083028937020828 y un valor de p de: 0.0\n"
          ]
        }
      ]
    },
    {
      "cell_type": "markdown",
      "source": [
        "Como podemos ver, el valor de $p < 0.05$, por lo que rechazamos la hipótesis nula con un nivel de confianza del 95 %. Eso significa que hay una relación entre la gestación y el peso.\n",
        "\n"
      ],
      "metadata": {
        "id": "tJWOch9dw9KD"
      }
    },
    {
      "cell_type": "markdown",
      "source": [
        "Mientras que el coeficiente de Pearson y el coeficiente de rango de Spearman miden la fuerza de una asociación entre dos variables, la prueba de chi-cuadrado mide la significancia de la asociación entre dos variables. Lo que le dice es si es probable que la relación que encontró en la muestra exista en la población, o qué tan probable es que sea por casualidad debido a un error de muestreo."
      ],
      "metadata": {
        "id": "_oTfFryB155L"
      }
    },
    {
      "cell_type": "markdown",
      "source": [
        "Si usamos la prueba t para estas dos muestras, investigamos si las medias de dos muestras de datos independientes difieren entre sí. En una prueba de dos muestras numéricas, la hipótesis nula es que las medias de ambos grupos son iguales.  Para ello utilizamos la función `stats.ttest_ind()`. \n"
      ],
      "metadata": {
        "id": "TsLc8Zb2KXU7"
      }
    },
    {
      "cell_type": "markdown",
      "source": [
        "##**Prueba sobre una variable categórica**\n",
        "Por ejemplo: *¿Hay alguna diferencia en el número de fumadores y no fumadores en la población?*\n",
        "\n",
        "Para una sola variable categórica, queremos verificar si hay una diferencia entre el número de sus valores, usaremos una prueba Z de una proporción. \n",
        "\n",
        "Planteemos la hipótesis:\n",
        "\n",
        "$H_0$: no hay diferencia entre el número de fumadores y no fumadores\n",
        "\n",
        "$H_1$: hay una diferencia entre el número de fumadores y no fumadores\n",
        "\n",
        "Estamos verificando si la proporción de fumadores $P_f$ es diferente a la de no fumadores $P_{nf}$. "
      ],
      "metadata": {
        "id": "S8pZb2nKG3xr"
      }
    },
    {
      "cell_type": "code",
      "source": [
        "Fumador = df[\"smoker\"].value_counts()\n",
        "Fumador"
      ],
      "metadata": {
        "colab": {
          "base_uri": "https://localhost:8080/"
        },
        "id": "mNBRfAmmRLOT",
        "outputId": "42632841-7d05-444f-e873-04a68bea89b4"
      },
      "execution_count": null,
      "outputs": [
        {
          "output_type": "execute_result",
          "data": {
            "text/plain": [
              "1    22\n",
              "0    20\n",
              "Name: smoker, dtype: int64"
            ]
          },
          "metadata": {},
          "execution_count": 13
        }
      ]
    },
    {
      "cell_type": "code",
      "source": [
        "from statsmodels.stats.proportion import proportions_ztest\n",
        " \n",
        "count = 20 #número de fumadores \n",
        "nobs = 42 #número total de personas \n",
        "value = 0.5 # Este es el valor de la hipótesis nula. Eso significa proporción de fumadores = proporción de no fumadores = 0.5\n",
        "\n",
        "stat, pval = proportions_ztest(count, nobs, value)\n",
        " \n",
        "print(\"p_value: \", round(pval,3))"
      ],
      "metadata": {
        "colab": {
          "base_uri": "https://localhost:8080/"
        },
        "id": "tUe8tPeeHzXg",
        "outputId": "7322f07f-e02b-4cae-d34d-57359cc0f9c4"
      },
      "execution_count": null,
      "outputs": [
        {
          "output_type": "stream",
          "name": "stdout",
          "text": [
            "p_value:  0.757\n"
          ]
        }
      ]
    },
    {
      "cell_type": "markdown",
      "source": [
        "Dado que el valor de $p$ no es menor que $\\alpha = 0.05$, se acepta la hipótesis nula. Eso significa que no hay una diferencia en el número de fumadores y no fumadores en la población. "
      ],
      "metadata": {
        "id": "s1xhe5qvUEQB"
      }
    },
    {
      "cell_type": "markdown",
      "source": [
        "#**Prueba sobre una variable categórica con más de dos valores y una variable numérica**\n",
        "\n",
        "En este caso, se usa la prueba **ANOVA** (Análisis de varianza).\n",
        "\n",
        "$H_0$: las medias de la variable numérica de los grupos dentro de la categoría son iguales.\n",
        "\n",
        "$H_1$: Al menos, la media de la variable numérica de un grupo dentro de la categoría es diferente de los otros grupos.\n",
        "\n",
        "```\n",
        "import scipy.stats as stats\n",
        " \n",
        "# stats f_oneway functions toma los grupos como entradas y retorna ANOVA F y el valor de p\n",
        "fvalue, pvalue = stats.f_oneway(df[(Variable categóricca_1)]['Variable_Numérica'],\n",
        "                                df[(Variable categóricca_2)]['Variable_Numérica'],\n",
        "                                df[(Variable categóricca_3)]['Variable_Numérica'])\n",
        " \n",
        "print(\"p_value: \",round(pvalue,3))\n",
        "\n",
        "```\n",
        "\n"
      ],
      "metadata": {
        "id": "mMUnNFmutmJY"
      }
    },
    {
      "cell_type": "markdown",
      "source": [
        "##**ANOVA unidireccional**\n",
        "El ANOVA unidireccional prueba si la media de alguna variable numérica difiere entre los niveles de una variable categórica. Esencialmente responde a la pregunta: ¿alguna de las medias grupales difiere entre sí? No entraremos en los detalles de realizar un ANOVA a mano, ya que implica más cálculos que la prueba t, pero el proceso es similar: realiza varios cálculos para llegar a una estadística de prueba y luego compara la estadística de prueba a un valor crítico basado en una distribución de probabilidad. En el caso del ANOVA, se utiliza la \"distribución f\".\n",
        "\n",
        "La biblioteca scipy tiene una función para realizar pruebas ANOVA unidireccionales llamada `scipy.stats.f_oneway()`. Generemos algunos datos demográficos y de edad de votantes falsos y usemos el ANOVA para comparar las edades promedio entre los grupos:"
      ],
      "metadata": {
        "id": "AGYFWmEctt9E"
      }
    },
    {
      "cell_type": "code",
      "source": [
        "import numpy as np\n",
        "import pandas as pd\n",
        "import matplotlib.pyplot as plt\n",
        "import scipy.stats as stats"
      ],
      "metadata": {
        "id": "_0eoRT8ZtYaE"
      },
      "execution_count": null,
      "outputs": []
    },
    {
      "cell_type": "code",
      "source": [
        "np.random.seed(12)\n",
        "\n",
        "races =   [\"asian\",\"black\",\"hispanic\",\"other\",\"white\"]\n",
        "\n",
        "# Generate random data\n",
        "voter_race = np.random.choice(a= races,\n",
        "                              p = [0.05, 0.15 ,0.25, 0.05, 0.5],\n",
        "                              size=1000)\n",
        "\n",
        "voter_age = stats.poisson.rvs(loc=18,\n",
        "                              mu=30,\n",
        "                              size=1000)\n",
        "\n",
        "# Group age data by race\n",
        "voter_frame = pd.DataFrame({\"race\":voter_race,\"age\":voter_age})\n",
        "groups = voter_frame.groupby(\"race\").groups\n",
        "\n",
        "# Etract individual groups\n",
        "asian = voter_age[groups[\"asian\"]]\n",
        "black = voter_age[groups[\"black\"]]\n",
        "hispanic = voter_age[groups[\"hispanic\"]]\n",
        "other = voter_age[groups[\"other\"]]\n",
        "white = voter_age[groups[\"white\"]]\n",
        "\n",
        "# Perform the ANOVA\n",
        "stats.f_oneway(asian, black, hispanic, other, white)"
      ],
      "metadata": {
        "colab": {
          "base_uri": "https://localhost:8080/"
        },
        "id": "T4jvs2s8bcQ8",
        "outputId": "3ea6f474-5845-486e-d92b-80b299de0bd3"
      },
      "execution_count": null,
      "outputs": [
        {
          "output_type": "execute_result",
          "data": {
            "text/plain": [
              "F_onewayResult(statistic=1.7744689357329695, pvalue=0.13173183201930463)"
            ]
          },
          "metadata": {},
          "execution_count": 22
        }
      ]
    },
    {
      "cell_type": "markdown",
      "source": [
        "El resultado de la prueba arroja una estadística F de 1.774 y un valor p de 0.1317, lo que indica que no hay una diferencia significativa entre las medias de cada grupo.\n",
        "\n"
      ],
      "metadata": {
        "id": "aPpHzViQuIT2"
      }
    },
    {
      "cell_type": "markdown",
      "source": [
        "#**Regresión lineal**\n",
        "\n",
        "Aprendimos sobre técnicas de inferencia estadística, incluidas la prueba t, la prueba de chi-cuadrado y ANOVA, que le permiten analizar las diferencias entre las muestras de un conjunto de datos. El modelado predictivo, el uso de muestras de datos para hacer predicciones sobre datos no vistos, como datos que aún no se han generado, es otra tarea común de análisis de datos. El modelado predictivo es una forma de aprendizaje automático, que describe una de las maneras para automatizar el proceso de encontrar patrones en los datos."
      ],
      "metadata": {
        "id": "hhBmOsbkukSm"
      }
    },
    {
      "cell_type": "markdown",
      "source": [
        "##**Conceptos básicos de regresión lineal**\n",
        "La regresión lineal es una técnica de modelado predictivo, la cual predice una variable dependiente o variable de respuesta (response variable) basada en una o más variables explicativas, independientes o regresoras (explanatory variables). El término \"regresión\" en el modelado predictivo generalmente se refiere a cualquier tarea de modelado que implique predecir un número real (a diferencia de la clasificación, que implica predecir una categoría o clase). El término \"lineal\" en el nombre de regresión lineal se refiere al hecho de que el método modela datos con una combinación lineal de las variables explicativas. Una combinación lineal es una expresión en la que una o más variables se escalan por un factor constante y se suman. En el caso de la regresión lineal con una sola variable explicativa, la combinación lineal utilizada en la regresión lineal se puede expresar como:\n",
        "\n",
        "$$Y = \\omega_0 + \\omega_1 X$$\n",
        "\n",
        "$$Variable\\, dependiente = intercepto + constante ∗ Variable\\, independiente$$\n",
        "\n",
        "La regresión lineal en su forma más básica ajusta una línea recta a la variable de respuesta. El modelo está diseñado para ajustarse a una línea que minimiza el cuadrado de las diferencias (también llamadas errores o residuales). No entraremos en toda la matemática detrás de cómo el modelo realmente minimiza los errores cuadráticos, pero el resultado final es una línea destinada a dar el \"mejor ajuste\" a los datos. Dado que la regresión lineal ajusta los datos con una línea, es más eficaz en los casos en que la respuesta y la variable explicativa tienen una relación lineal.\n",
        "\n"
      ],
      "metadata": {
        "id": "12wV8w3ru2UW"
      }
    },
    {
      "cell_type": "markdown",
      "source": [
        "![minsquare.png](data:image/png;base64,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)"
      ],
      "metadata": {
        "id": "zwci-pxxVoup"
      }
    },
    {
      "cell_type": "markdown",
      "source": [
        "Revisemos el conjunto de datos \"mtcars# y usemos la regresión lineal para predecir la cantidad millas por galón de gasolina del vehículo en función del peso del vehículo. Primero, carguemos algunas bibliotecas y observemos un diagrama de dispersión de las columnas \"wt\" y \"mpg\" para tener una idea de la forma de los datos:"
      ],
      "metadata": {
        "id": "ZxpmGlGGVum7"
      }
    },
    {
      "cell_type": "code",
      "source": [
        "%matplotlib inline\n",
        "\n",
        "import numpy as np\n",
        "import pandas as pd\n",
        "import matplotlib\n",
        "import matplotlib.pyplot as plt\n",
        "import scipy.stats as stats\n",
        "matplotlib.style.use('ggplot')"
      ],
      "metadata": {
        "id": "ceNdzN3BuPVx"
      },
      "execution_count": null,
      "outputs": []
    },
    {
      "cell_type": "code",
      "source": [
        "mtcars = pd.read_csv(\"mtcars.csv\")\n",
        "mtcars.head()"
      ],
      "metadata": {
        "colab": {
          "base_uri": "https://localhost:8080/",
          "height": 206
        },
        "id": "d6rMWvGQsjQF",
        "outputId": "b442a45c-92b5-46a4-d904-d1e99ae14a06"
      },
      "execution_count": null,
      "outputs": [
        {
          "output_type": "execute_result",
          "data": {
            "text/plain": [
              "               model   mpg  cyl   disp   hp  drat     wt   qsec  vs  am  gear  \\\n",
              "0          Mazda RX4  21.0    6  160.0  110  3.90  2.620  16.46   0   1     4   \n",
              "1      Mazda RX4 Wag  21.0    6  160.0  110  3.90  2.875  17.02   0   1     4   \n",
              "2         Datsun 710  22.8    4  108.0   93  3.85  2.320  18.61   1   1     4   \n",
              "3     Hornet 4 Drive  21.4    6  258.0  110  3.08  3.215  19.44   1   0     3   \n",
              "4  Hornet Sportabout  18.7    8  360.0  175  3.15  3.440  17.02   0   0     3   \n",
              "\n",
              "   carb  \n",
              "0     4  \n",
              "1     4  \n",
              "2     1  \n",
              "3     1  \n",
              "4     2  "
            ],
            "text/html": [
              "\n",
              "  <div id=\"df-92ee3f00-b805-4be1-884b-34bb159c8fe8\">\n",
              "    <div class=\"colab-df-container\">\n",
              "      <div>\n",
              "<style scoped>\n",
              "    .dataframe tbody tr th:only-of-type {\n",
              "        vertical-align: middle;\n",
              "    }\n",
              "\n",
              "    .dataframe tbody tr th {\n",
              "        vertical-align: top;\n",
              "    }\n",
              "\n",
              "    .dataframe thead th {\n",
              "        text-align: right;\n",
              "    }\n",
              "</style>\n",
              "<table border=\"1\" class=\"dataframe\">\n",
              "  <thead>\n",
              "    <tr style=\"text-align: right;\">\n",
              "      <th></th>\n",
              "      <th>model</th>\n",
              "      <th>mpg</th>\n",
              "      <th>cyl</th>\n",
              "      <th>disp</th>\n",
              "      <th>hp</th>\n",
              "      <th>drat</th>\n",
              "      <th>wt</th>\n",
              "      <th>qsec</th>\n",
              "      <th>vs</th>\n",
              "      <th>am</th>\n",
              "      <th>gear</th>\n",
              "      <th>carb</th>\n",
              "    </tr>\n",
              "  </thead>\n",
              "  <tbody>\n",
              "    <tr>\n",
              "      <th>0</th>\n",
              "      <td>Mazda RX4</td>\n",
              "      <td>21.0</td>\n",
              "      <td>6</td>\n",
              "      <td>160.0</td>\n",
              "      <td>110</td>\n",
              "      <td>3.90</td>\n",
              "      <td>2.620</td>\n",
              "      <td>16.46</td>\n",
              "      <td>0</td>\n",
              "      <td>1</td>\n",
              "      <td>4</td>\n",
              "      <td>4</td>\n",
              "    </tr>\n",
              "    <tr>\n",
              "      <th>1</th>\n",
              "      <td>Mazda RX4 Wag</td>\n",
              "      <td>21.0</td>\n",
              "      <td>6</td>\n",
              "      <td>160.0</td>\n",
              "      <td>110</td>\n",
              "      <td>3.90</td>\n",
              "      <td>2.875</td>\n",
              "      <td>17.02</td>\n",
              "      <td>0</td>\n",
              "      <td>1</td>\n",
              "      <td>4</td>\n",
              "      <td>4</td>\n",
              "    </tr>\n",
              "    <tr>\n",
              "      <th>2</th>\n",
              "      <td>Datsun 710</td>\n",
              "      <td>22.8</td>\n",
              "      <td>4</td>\n",
              "      <td>108.0</td>\n",
              "      <td>93</td>\n",
              "      <td>3.85</td>\n",
              "      <td>2.320</td>\n",
              "      <td>18.61</td>\n",
              "      <td>1</td>\n",
              "      <td>1</td>\n",
              "      <td>4</td>\n",
              "      <td>1</td>\n",
              "    </tr>\n",
              "    <tr>\n",
              "      <th>3</th>\n",
              "      <td>Hornet 4 Drive</td>\n",
              "      <td>21.4</td>\n",
              "      <td>6</td>\n",
              "      <td>258.0</td>\n",
              "      <td>110</td>\n",
              "      <td>3.08</td>\n",
              "      <td>3.215</td>\n",
              "      <td>19.44</td>\n",
              "      <td>1</td>\n",
              "      <td>0</td>\n",
              "      <td>3</td>\n",
              "      <td>1</td>\n",
              "    </tr>\n",
              "    <tr>\n",
              "      <th>4</th>\n",
              "      <td>Hornet Sportabout</td>\n",
              "      <td>18.7</td>\n",
              "      <td>8</td>\n",
              "      <td>360.0</td>\n",
              "      <td>175</td>\n",
              "      <td>3.15</td>\n",
              "      <td>3.440</td>\n",
              "      <td>17.02</td>\n",
              "      <td>0</td>\n",
              "      <td>0</td>\n",
              "      <td>3</td>\n",
              "      <td>2</td>\n",
              "    </tr>\n",
              "  </tbody>\n",
              "</table>\n",
              "</div>\n",
              "      <button class=\"colab-df-convert\" onclick=\"convertToInteractive('df-92ee3f00-b805-4be1-884b-34bb159c8fe8')\"\n",
              "              title=\"Convert this dataframe to an interactive table.\"\n",
              "              style=\"display:none;\">\n",
              "        \n",
              "  <svg xmlns=\"http://www.w3.org/2000/svg\" height=\"24px\"viewBox=\"0 0 24 24\"\n",
              "       width=\"24px\">\n",
              "    <path d=\"M0 0h24v24H0V0z\" fill=\"none\"/>\n",
              "    <path d=\"M18.56 5.44l.94 2.06.94-2.06 2.06-.94-2.06-.94-.94-2.06-.94 2.06-2.06.94zm-11 1L8.5 8.5l.94-2.06 2.06-.94-2.06-.94L8.5 2.5l-.94 2.06-2.06.94zm10 10l.94 2.06.94-2.06 2.06-.94-2.06-.94-.94-2.06-.94 2.06-2.06.94z\"/><path d=\"M17.41 7.96l-1.37-1.37c-.4-.4-.92-.59-1.43-.59-.52 0-1.04.2-1.43.59L10.3 9.45l-7.72 7.72c-.78.78-.78 2.05 0 2.83L4 21.41c.39.39.9.59 1.41.59.51 0 1.02-.2 1.41-.59l7.78-7.78 2.81-2.81c.8-.78.8-2.07 0-2.86zM5.41 20L4 18.59l7.72-7.72 1.47 1.35L5.41 20z\"/>\n",
              "  </svg>\n",
              "      </button>\n",
              "      \n",
              "  <style>\n",
              "    .colab-df-container {\n",
              "      display:flex;\n",
              "      flex-wrap:wrap;\n",
              "      gap: 12px;\n",
              "    }\n",
              "\n",
              "    .colab-df-convert {\n",
              "      background-color: #E8F0FE;\n",
              "      border: none;\n",
              "      border-radius: 50%;\n",
              "      cursor: pointer;\n",
              "      display: none;\n",
              "      fill: #1967D2;\n",
              "      height: 32px;\n",
              "      padding: 0 0 0 0;\n",
              "      width: 32px;\n",
              "    }\n",
              "\n",
              "    .colab-df-convert:hover {\n",
              "      background-color: #E2EBFA;\n",
              "      box-shadow: 0px 1px 2px rgba(60, 64, 67, 0.3), 0px 1px 3px 1px rgba(60, 64, 67, 0.15);\n",
              "      fill: #174EA6;\n",
              "    }\n",
              "\n",
              "    [theme=dark] .colab-df-convert {\n",
              "      background-color: #3B4455;\n",
              "      fill: #D2E3FC;\n",
              "    }\n",
              "\n",
              "    [theme=dark] .colab-df-convert:hover {\n",
              "      background-color: #434B5C;\n",
              "      box-shadow: 0px 1px 3px 1px rgba(0, 0, 0, 0.15);\n",
              "      filter: drop-shadow(0px 1px 2px rgba(0, 0, 0, 0.3));\n",
              "      fill: #FFFFFF;\n",
              "    }\n",
              "  </style>\n",
              "\n",
              "      <script>\n",
              "        const buttonEl =\n",
              "          document.querySelector('#df-92ee3f00-b805-4be1-884b-34bb159c8fe8 button.colab-df-convert');\n",
              "        buttonEl.style.display =\n",
              "          google.colab.kernel.accessAllowed ? 'block' : 'none';\n",
              "\n",
              "        async function convertToInteractive(key) {\n",
              "          const element = document.querySelector('#df-92ee3f00-b805-4be1-884b-34bb159c8fe8');\n",
              "          const dataTable =\n",
              "            await google.colab.kernel.invokeFunction('convertToInteractive',\n",
              "                                                     [key], {});\n",
              "          if (!dataTable) return;\n",
              "\n",
              "          const docLinkHtml = 'Like what you see? Visit the ' +\n",
              "            '<a target=\"_blank\" href=https://colab.research.google.com/notebooks/data_table.ipynb>data table notebook</a>'\n",
              "            + ' to learn more about interactive tables.';\n",
              "          element.innerHTML = '';\n",
              "          dataTable['output_type'] = 'display_data';\n",
              "          await google.colab.output.renderOutput(dataTable, element);\n",
              "          const docLink = document.createElement('div');\n",
              "          docLink.innerHTML = docLinkHtml;\n",
              "          element.appendChild(docLink);\n",
              "        }\n",
              "      </script>\n",
              "    </div>\n",
              "  </div>\n",
              "  "
            ]
          },
          "metadata": {},
          "execution_count": 2
        }
      ]
    },
    {
      "cell_type": "code",
      "source": [
        "mtcars = pd.read_csv(\"mtcars.csv\")\n",
        "\n",
        "mtcars.plot(kind=\"scatter\", \n",
        "           x=\"wt\",\n",
        "           y=\"mpg\",\n",
        "           figsize=(5,5),\n",
        "           color=\"red\");"
      ],
      "metadata": {
        "colab": {
          "base_uri": "https://localhost:8080/",
          "height": 340
        },
        "id": "ItRvMtFhvfbL",
        "outputId": "ebfdfdea-4d7a-4b71-a189-e7c830f74552"
      },
      "execution_count": null,
      "outputs": [
        {
          "output_type": "display_data",
          "data": {
            "text/plain": [
              "<Figure size 360x360 with 1 Axes>"
            ],
            "image/png": "[encoded data removed]"
          },
          "metadata": {
            "needs_background": "light"
          }
        }
      ]
    },
    {
      "cell_type": "markdown",
      "source": [
        "El gráfico de dispersión muestra una relación aproximadamente lineal entre el peso y las millas por galón, lo que sugiere que un modelo de regresión lineal podría funcionar bien.\n",
        "\n",
        "La biblioteca scikit-learn de Python contiene una amplia gama de funciones para el modelado predictivo. Carguemos su función de entrenamiento de regresión lineal y ajustemos una línea a los datos de mtcars:\n",
        "\n",
        "Usamos `linear_model.LinearRegression()`"
      ],
      "metadata": {
        "id": "EWNHOp_Cvkjz"
      }
    },
    {
      "cell_type": "code",
      "source": [
        "from sklearn import linear_model"
      ],
      "metadata": {
        "id": "QI7aQM_lwDxi"
      },
      "execution_count": null,
      "outputs": []
    },
    {
      "cell_type": "code",
      "source": [
        "# Inicializar el modelo\n",
        "regression_model = linear_model.LinearRegression()\n",
        "\n",
        "# Entrena el modelo usando los datos de mtcars\n",
        "regression_model.fit(X = pd.DataFrame(mtcars[\"wt\"]), y = mtcars[\"mpg\"])\n",
        "\n",
        "# Verifique el intercepto en Y del modelo entrenado\n",
        "print(regression_model.intercept_)\n",
        "\n",
        "# Comprobar los coeficientes del modelo entrenado\n",
        "print(regression_model.coef_)"
      ],
      "metadata": {
        "colab": {
          "base_uri": "https://localhost:8080/"
        },
        "id": "v7QVk3B3wGGE",
        "outputId": "142bdcce-d6e7-47bf-9864-840963eed7f1"
      },
      "execution_count": null,
      "outputs": [
        {
          "output_type": "stream",
          "name": "stdout",
          "text": [
            "37.28512616734204\n",
            "[-5.34447157]\n"
          ]
        }
      ]
    },
    {
      "cell_type": "markdown",
      "source": [
        "El resultado anterior muestra la intercepción del modelo y los coeficientes utilizados para crear la línea de mejor ajuste. En este caso, el término de intersección con el eje-y es 37.2851 y el coeficiente (pendiente de la línea) es -5.3445. En otras palabras, el modelo se ajusta a la línea:  \n",
        "\n",
        "$$mpg = - 5,3445 * wt + 37,2851$$\n",
        "\n",
        "Podemos tener una idea de qué tan cerca están los datos de la línea de ajuste usando la función `model.score()`:"
      ],
      "metadata": {
        "id": "p9ZJE7eWwKFO"
      }
    },
    {
      "cell_type": "code",
      "source": [
        "regression_model.score(X = pd.DataFrame(mtcars[\"wt\"]), y = mtcars[\"mpg\"])"
      ],
      "metadata": {
        "colab": {
          "base_uri": "https://localhost:8080/"
        },
        "id": "3Oyf82jiwMj7",
        "outputId": "969faf8c-dbb9-405d-edce-d850f2950527"
      },
      "execution_count": null,
      "outputs": [
        {
          "output_type": "execute_result",
          "data": {
            "text/plain": [
              "0.7528327936582646"
            ]
          },
          "metadata": {},
          "execution_count": 6
        }
      ]
    },
    {
      "cell_type": "markdown",
      "source": [
        "El resultado de la función score para la regresión lineal es \"**R-cuadrado**\", un valor que varía de 0 a 1 (0 y 100%) y que describe la proporción de la varianza en la variable de respuesta que explica el modelo; es decir:\n",
        "\n",
        "0% indica que el modelo no explica ninguna porción de la variabilidad de los datos de respuesta en torno a su media.\n",
        "\n",
        "100% indica que el modelo explica toda la variabilidad de los datos de respuesta en torno a su media.\n",
        "\n",
        "*En este caso, el peso del automóvil explica aproximadamente el 75% de la variación en mpg.* \n",
        "\n",
        "Algunas limitacones con el R-cuadrado es que este no puede determinar si las estimaciones y predicciones de los coeficientes están sesgadas, y es por eso que se deben examinar los residuos. Por otra parte, el R-cuadrado no indica si un modelo de regresión es adecuado. Se puede tener un valor bajo del R-cuadrado para un modelo adecuado o un valor alto del R-cuadrado para un modelo que no se ajusta a los datos.\n",
        "\n",
        "\n",
        "La medida R-cuadrado se basa en los residuos: diferencias entre lo que predice el modelo para cada punto de datos y el valor real de cada punto de datos. Podemos extraer los residuos del modelo haciendo una predicción con el modelo sobre los datos y luego restando el valor real de cada predicción:"
      ],
      "metadata": {
        "id": "k4sD3yQnyUjw"
      }
    },
    {
      "cell_type": "code",
      "source": [
        "train_prediction = regression_model.predict(X = pd.DataFrame(mtcars[\"wt\"]))\n",
        "# Residuales = Actual - Predicción  \n",
        "residuals = mtcars[\"mpg\"] - train_prediction\n",
        "\n",
        "residuals.describe()"
      ],
      "metadata": {
        "colab": {
          "base_uri": "https://localhost:8080/"
        },
        "id": "i-K7l7TbyaFC",
        "outputId": "284e658d-1111-4262-a717-3c7e4b288ec0"
      },
      "execution_count": null,
      "outputs": [
        {
          "output_type": "execute_result",
          "data": {
            "text/plain": [
              "count    3.200000e+01\n",
              "mean    -8.215650e-15\n",
              "std      2.996352e+00\n",
              "min     -4.543151e+00\n",
              "25%     -2.364709e+00\n",
              "50%     -1.251956e-01\n",
              "75%      1.409561e+00\n",
              "max      6.872711e+00\n",
              "Name: mpg, dtype: float64"
            ]
          },
          "metadata": {},
          "execution_count": 7
        }
      ]
    },
    {
      "cell_type": "markdown",
      "source": [
        "El R-cuadrado (R-squared) se calcula como:\n",
        "\n",
        "$$R-squared =  1 - \\frac{SSResiduals}{SSTotal}$$ \n",
        "\n",
        "donde $SSResiduals$ es la suma de los cuadrados de los residuos del modelo y $SSTotal$ es la suma de los cuadrados de la diferencia entre cada punto de datos y la media de los datos. \n",
        "\n",
        "Podríamos calcular R-cuadrado a mano así:\n",
        "\n",
        "$$R^2 = 1-\\frac{\\sum{(y_j-\\hat{y}_j)^2}}{\\sum{(y_j-\\overline{y})^2}}$$"
      ],
      "metadata": {
        "id": "j4ON6hmQyeb-"
      }
    },
    {
      "cell_type": "code",
      "source": [
        "SSResiduals = (residuals**2).sum()\n",
        "\n",
        "SSTotal = ((mtcars[\"mpg\"] - mtcars[\"mpg\"].mean())**2).sum()\n",
        "\n",
        "# R-squared\n",
        "1 - (SSResiduals/SSTotal)"
      ],
      "metadata": {
        "colab": {
          "base_uri": "https://localhost:8080/"
        },
        "id": "Wrgkg8oRyh5i",
        "outputId": "5987c074-d58d-49d7-fa8f-3db31dc707fd"
      },
      "execution_count": null,
      "outputs": [
        {
          "output_type": "execute_result",
          "data": {
            "text/plain": [
              "0.7528327936582646"
            ]
          },
          "metadata": {},
          "execution_count": 8
        }
      ]
    },
    {
      "cell_type": "markdown",
      "source": [
        "Ahora que tenemos un modelo lineal, tracemos la línea que encaja en nuestro diagrama de dispersión para tener una idea de qué tan bien se ajusta a los datos:"
      ],
      "metadata": {
        "id": "g5xDzql4ymI9"
      }
    },
    {
      "cell_type": "code",
      "source": [
        "mtcars.plot(kind=\"scatter\", x=\"wt\", y=\"mpg\", figsize=(5,5), color=\"red\", xlim = (0,7))\n",
        "\n",
        "# Plot línea de ajuste\n",
        "plt.plot(mtcars[\"wt\"],      # Variable explicativa\n",
        "         train_prediction,  # Valores predictivos\n",
        "         color=\"blue\");"
      ],
      "metadata": {
        "colab": {
          "base_uri": "https://localhost:8080/",
          "height": 339
        },
        "id": "dd8uuFTLypIB",
        "outputId": "021c63a9-5053-4aa2-ba29-c33841ba831d"
      },
      "execution_count": null,
      "outputs": [
        {
          "output_type": "display_data",
          "data": {
            "text/plain": [
              "<Figure size 360x360 with 1 Axes>"
            ],
            "image/png": "[encoded data removed]"
          },
          "metadata": {
            "needs_background": "light"
          }
        }
      ]
    },
    {
      "cell_type": "markdown",
      "source": [
        "La línea de regresión parece un ajuste razonable y sigue nuestra intuición: a medida que aumenta el peso del automóvil, esperaríamos que la economía de combustible disminuya.\n",
        "\n",
        "**¿Qué sucede con los valores atípicos?**\n",
        "\n",
        "Los valores atípicos pueden tener una gran influencia en los modelos de regresión lineal, dado que la regresión trata de minimizar los residuos al cuadrado, los residuos grandes tienen una influencia desproporcionadamente grande en el modelo. Graficar el resultado nos ayuda a detectar valores atípicos influyentes. En este caso, no parece haber valores atípicos influyentes. Agreguemos un valor atípico, un automóvil súper pesado que ahorra combustible, y tracemos un nuevo modelo de regresión:"
      ],
      "metadata": {
        "id": "J9xEvnjRyykw"
      }
    },
    {
      "cell_type": "code",
      "source": [
        "mtcars_subset = mtcars[[\"mpg\",\"wt\"]]\n",
        "\n",
        "super_car = pd.DataFrame({\"mpg\":50,\"wt\":10}, index=[\"super\"])\n",
        "\n",
        "new_cars = mtcars_subset.append(super_car) # Explanatory variable \n",
        "new_cars\n",
        "\n",
        " \n",
        "      \n",
        "         "
      ],
      "metadata": {
        "colab": {
          "base_uri": "https://localhost:8080/",
          "height": 1000
        },
        "id": "OMQc2ABRy17G",
        "outputId": "b4a94065-1a22-4d4c-d3ad-512a85077ffe"
      },
      "execution_count": null,
      "outputs": [
        {
          "output_type": "execute_result",
          "data": {
            "text/plain": [
              "        mpg      wt\n",
              "0      21.0   2.620\n",
              "1      21.0   2.875\n",
              "2      22.8   2.320\n",
              "3      21.4   3.215\n",
              "4      18.7   3.440\n",
              "5      18.1   3.460\n",
              "6      14.3   3.570\n",
              "7      24.4   3.190\n",
              "8      22.8   3.150\n",
              "9      19.2   3.440\n",
              "10     17.8   3.440\n",
              "11     16.4   4.070\n",
              "12     17.3   3.730\n",
              "13     15.2   3.780\n",
              "14     10.4   5.250\n",
              "15     10.4   5.424\n",
              "16     14.7   5.345\n",
              "17     32.4   2.200\n",
              "18     30.4   1.615\n",
              "19     33.9   1.835\n",
              "20     21.5   2.465\n",
              "21     15.5   3.520\n",
              "22     15.2   3.435\n",
              "23     13.3   3.840\n",
              "24     19.2   3.845\n",
              "25     27.3   1.935\n",
              "26     26.0   2.140\n",
              "27     30.4   1.513\n",
              "28     15.8   3.170\n",
              "29     19.7   2.770\n",
              "30     15.0   3.570\n",
              "31     21.4   2.780\n",
              "super  50.0  10.000"
            ],
            "text/html": [
              "\n",
              "  <div id=\"df-90d2560f-c986-4394-b305-d48da88c2eb2\">\n",
              "    <div class=\"colab-df-container\">\n",
              "      <div>\n",
              "<style scoped>\n",
              "    .dataframe tbody tr th:only-of-type {\n",
              "        vertical-align: middle;\n",
              "    }\n",
              "\n",
              "    .dataframe tbody tr th {\n",
              "        vertical-align: top;\n",
              "    }\n",
              "\n",
              "    .dataframe thead th {\n",
              "        text-align: right;\n",
              "    }\n",
              "</style>\n",
              "<table border=\"1\" class=\"dataframe\">\n",
              "  <thead>\n",
              "    <tr style=\"text-align: right;\">\n",
              "      <th></th>\n",
              "      <th>mpg</th>\n",
              "      <th>wt</th>\n",
              "    </tr>\n",
              "  </thead>\n",
              "  <tbody>\n",
              "    <tr>\n",
              "      <th>0</th>\n",
              "      <td>21.0</td>\n",
              "      <td>2.620</td>\n",
              "    </tr>\n",
              "    <tr>\n",
              "      <th>1</th>\n",
              "      <td>21.0</td>\n",
              "      <td>2.875</td>\n",
              "    </tr>\n",
              "    <tr>\n",
              "      <th>2</th>\n",
              "      <td>22.8</td>\n",
              "      <td>2.320</td>\n",
              "    </tr>\n",
              "    <tr>\n",
              "      <th>3</th>\n",
              "      <td>21.4</td>\n",
              "      <td>3.215</td>\n",
              "    </tr>\n",
              "    <tr>\n",
              "      <th>4</th>\n",
              "      <td>18.7</td>\n",
              "      <td>3.440</td>\n",
              "    </tr>\n",
              "    <tr>\n",
              "      <th>5</th>\n",
              "      <td>18.1</td>\n",
              "      <td>3.460</td>\n",
              "    </tr>\n",
              "    <tr>\n",
              "      <th>6</th>\n",
              "      <td>14.3</td>\n",
              "      <td>3.570</td>\n",
              "    </tr>\n",
              "    <tr>\n",
              "      <th>7</th>\n",
              "      <td>24.4</td>\n",
              "      <td>3.190</td>\n",
              "    </tr>\n",
              "    <tr>\n",
              "      <th>8</th>\n",
              "      <td>22.8</td>\n",
              "      <td>3.150</td>\n",
              "    </tr>\n",
              "    <tr>\n",
              "      <th>9</th>\n",
              "      <td>19.2</td>\n",
              "      <td>3.440</td>\n",
              "    </tr>\n",
              "    <tr>\n",
              "      <th>10</th>\n",
              "      <td>17.8</td>\n",
              "      <td>3.440</td>\n",
              "    </tr>\n",
              "    <tr>\n",
              "      <th>11</th>\n",
              "      <td>16.4</td>\n",
              "      <td>4.070</td>\n",
              "    </tr>\n",
              "    <tr>\n",
              "      <th>12</th>\n",
              "      <td>17.3</td>\n",
              "      <td>3.730</td>\n",
              "    </tr>\n",
              "    <tr>\n",
              "      <th>13</th>\n",
              "      <td>15.2</td>\n",
              "      <td>3.780</td>\n",
              "    </tr>\n",
              "    <tr>\n",
              "      <th>14</th>\n",
              "      <td>10.4</td>\n",
              "      <td>5.250</td>\n",
              "    </tr>\n",
              "    <tr>\n",
              "      <th>15</th>\n",
              "      <td>10.4</td>\n",
              "      <td>5.424</td>\n",
              "    </tr>\n",
              "    <tr>\n",
              "      <th>16</th>\n",
              "      <td>14.7</td>\n",
              "      <td>5.345</td>\n",
              "    </tr>\n",
              "    <tr>\n",
              "      <th>17</th>\n",
              "      <td>32.4</td>\n",
              "      <td>2.200</td>\n",
              "    </tr>\n",
              "    <tr>\n",
              "      <th>18</th>\n",
              "      <td>30.4</td>\n",
              "      <td>1.615</td>\n",
              "    </tr>\n",
              "    <tr>\n",
              "      <th>19</th>\n",
              "      <td>33.9</td>\n",
              "      <td>1.835</td>\n",
              "    </tr>\n",
              "    <tr>\n",
              "      <th>20</th>\n",
              "      <td>21.5</td>\n",
              "      <td>2.465</td>\n",
              "    </tr>\n",
              "    <tr>\n",
              "      <th>21</th>\n",
              "      <td>15.5</td>\n",
              "      <td>3.520</td>\n",
              "    </tr>\n",
              "    <tr>\n",
              "      <th>22</th>\n",
              "      <td>15.2</td>\n",
              "      <td>3.435</td>\n",
              "    </tr>\n",
              "    <tr>\n",
              "      <th>23</th>\n",
              "      <td>13.3</td>\n",
              "      <td>3.840</td>\n",
              "    </tr>\n",
              "    <tr>\n",
              "      <th>24</th>\n",
              "      <td>19.2</td>\n",
              "      <td>3.845</td>\n",
              "    </tr>\n",
              "    <tr>\n",
              "      <th>25</th>\n",
              "      <td>27.3</td>\n",
              "      <td>1.935</td>\n",
              "    </tr>\n",
              "    <tr>\n",
              "      <th>26</th>\n",
              "      <td>26.0</td>\n",
              "      <td>2.140</td>\n",
              "    </tr>\n",
              "    <tr>\n",
              "      <th>27</th>\n",
              "      <td>30.4</td>\n",
              "      <td>1.513</td>\n",
              "    </tr>\n",
              "    <tr>\n",
              "      <th>28</th>\n",
              "      <td>15.8</td>\n",
              "      <td>3.170</td>\n",
              "    </tr>\n",
              "    <tr>\n",
              "      <th>29</th>\n",
              "      <td>19.7</td>\n",
              "      <td>2.770</td>\n",
              "    </tr>\n",
              "    <tr>\n",
              "      <th>30</th>\n",
              "      <td>15.0</td>\n",
              "      <td>3.570</td>\n",
              "    </tr>\n",
              "    <tr>\n",
              "      <th>31</th>\n",
              "      <td>21.4</td>\n",
              "      <td>2.780</td>\n",
              "    </tr>\n",
              "    <tr>\n",
              "      <th>super</th>\n",
              "      <td>50.0</td>\n",
              "      <td>10.000</td>\n",
              "    </tr>\n",
              "  </tbody>\n",
              "</table>\n",
              "</div>\n",
              "      <button class=\"colab-df-convert\" onclick=\"convertToInteractive('df-90d2560f-c986-4394-b305-d48da88c2eb2')\"\n",
              "              title=\"Convert this dataframe to an interactive table.\"\n",
              "              style=\"display:none;\">\n",
              "        \n",
              "  <svg xmlns=\"http://www.w3.org/2000/svg\" height=\"24px\"viewBox=\"0 0 24 24\"\n",
              "       width=\"24px\">\n",
              "    <path d=\"M0 0h24v24H0V0z\" fill=\"none\"/>\n",
              "    <path d=\"M18.56 5.44l.94 2.06.94-2.06 2.06-.94-2.06-.94-.94-2.06-.94 2.06-2.06.94zm-11 1L8.5 8.5l.94-2.06 2.06-.94-2.06-.94L8.5 2.5l-.94 2.06-2.06.94zm10 10l.94 2.06.94-2.06 2.06-.94-2.06-.94-.94-2.06-.94 2.06-2.06.94z\"/><path d=\"M17.41 7.96l-1.37-1.37c-.4-.4-.92-.59-1.43-.59-.52 0-1.04.2-1.43.59L10.3 9.45l-7.72 7.72c-.78.78-.78 2.05 0 2.83L4 21.41c.39.39.9.59 1.41.59.51 0 1.02-.2 1.41-.59l7.78-7.78 2.81-2.81c.8-.78.8-2.07 0-2.86zM5.41 20L4 18.59l7.72-7.72 1.47 1.35L5.41 20z\"/>\n",
              "  </svg>\n",
              "      </button>\n",
              "      \n",
              "  <style>\n",
              "    .colab-df-container {\n",
              "      display:flex;\n",
              "      flex-wrap:wrap;\n",
              "      gap: 12px;\n",
              "    }\n",
              "\n",
              "    .colab-df-convert {\n",
              "      background-color: #E8F0FE;\n",
              "      border: none;\n",
              "      border-radius: 50%;\n",
              "      cursor: pointer;\n",
              "      display: none;\n",
              "      fill: #1967D2;\n",
              "      height: 32px;\n",
              "      padding: 0 0 0 0;\n",
              "      width: 32px;\n",
              "    }\n",
              "\n",
              "    .colab-df-convert:hover {\n",
              "      background-color: #E2EBFA;\n",
              "      box-shadow: 0px 1px 2px rgba(60, 64, 67, 0.3), 0px 1px 3px 1px rgba(60, 64, 67, 0.15);\n",
              "      fill: #174EA6;\n",
              "    }\n",
              "\n",
              "    [theme=dark] .colab-df-convert {\n",
              "      background-color: #3B4455;\n",
              "      fill: #D2E3FC;\n",
              "    }\n",
              "\n",
              "    [theme=dark] .colab-df-convert:hover {\n",
              "      background-color: #434B5C;\n",
              "      box-shadow: 0px 1px 3px 1px rgba(0, 0, 0, 0.15);\n",
              "      filter: drop-shadow(0px 1px 2px rgba(0, 0, 0, 0.3));\n",
              "      fill: #FFFFFF;\n",
              "    }\n",
              "  </style>\n",
              "\n",
              "      <script>\n",
              "        const buttonEl =\n",
              "          document.querySelector('#df-90d2560f-c986-4394-b305-d48da88c2eb2 button.colab-df-convert');\n",
              "        buttonEl.style.display =\n",
              "          google.colab.kernel.accessAllowed ? 'block' : 'none';\n",
              "\n",
              "        async function convertToInteractive(key) {\n",
              "          const element = document.querySelector('#df-90d2560f-c986-4394-b305-d48da88c2eb2');\n",
              "          const dataTable =\n",
              "            await google.colab.kernel.invokeFunction('convertToInteractive',\n",
              "                                                     [key], {});\n",
              "          if (!dataTable) return;\n",
              "\n",
              "          const docLinkHtml = 'Like what you see? Visit the ' +\n",
              "            '<a target=\"_blank\" href=https://colab.research.google.com/notebooks/data_table.ipynb>data table notebook</a>'\n",
              "            + ' to learn more about interactive tables.';\n",
              "          element.innerHTML = '';\n",
              "          dataTable['output_type'] = 'display_data';\n",
              "          await google.colab.output.renderOutput(dataTable, element);\n",
              "          const docLink = document.createElement('div');\n",
              "          docLink.innerHTML = docLinkHtml;\n",
              "          element.appendChild(docLink);\n",
              "        }\n",
              "      </script>\n",
              "    </div>\n",
              "  </div>\n",
              "  "
            ]
          },
          "metadata": {},
          "execution_count": 10
        }
      ]
    },
    {
      "cell_type": "code",
      "source": [
        "\n",
        "\n",
        "# Inicializar el modelo\n",
        "regression_model = linear_model.LinearRegression()\n",
        "\n",
        "# Entrenar el modelo usando los datos new_cars\n",
        "regression_model.fit(X = pd.DataFrame(new_cars[\"wt\"]), y = new_cars[\"mpg\"])\n",
        "\n",
        "train_prediction2 = regression_model.predict(X = pd.DataFrame(new_cars[\"wt\"])) # Predicted values\n",
        "\n",
        "# Plot Nuevo modelo\n",
        "new_cars.plot(kind=\"scatter\", x=\"wt\", y=\"mpg\", figsize=(5,5), color=\"red\", xlim=(1,11), ylim=(10,52))\n",
        "\n",
        "# Plot Línea de regresión\n",
        "plt.plot(new_cars[\"wt\"], train_prediction2, color=\"blue\"); "
      ],
      "metadata": {
        "colab": {
          "base_uri": "https://localhost:8080/",
          "height": 337
        },
        "id": "IVyhsw-mu3is",
        "outputId": "3491fe03-62cb-42fa-b965-523de687ebbd"
      },
      "execution_count": null,
      "outputs": [
        {
          "output_type": "display_data",
          "data": {
            "text/plain": [
              "<Figure size 360x360 with 1 Axes>"
            ],
            "image/png": "[encoded data removed]"
          },
          "metadata": {
            "needs_background": "light"
          }
        }
      ]
    },
    {
      "cell_type": "markdown",
      "source": [
        "Aunque este es un caso extremo e inventado, la gráfica anterior ilustra cuánta influencia puede tener un solo valor atípico en un modelo de regresión lineal.\n",
        "\n",
        "En un modelo de regresión lineal de buen comportamiento, nos gustaría que los residuos se distribuyeran aproximadamente de forma normal. Es decir, nos gustaría una distribución del error más o menos uniforme por encima y por debajo de la línea de regresión. Podemos investigar la normalidad de los residuos con una gráfica Q-Q (cuantil-cuantil). Hagamos un qqplot pasando los residuos a la función `stats.probplot()` en la biblioteca scipy.stats:"
      ],
      "metadata": {
        "id": "1qsYe1qazDj0"
      }
    },
    {
      "cell_type": "code",
      "source": [
        "plt.figure(figsize=(5,5))\n",
        "\n",
        "stats.probplot(residuals, dist=\"norm\", plot=plt);"
      ],
      "metadata": {
        "colab": {
          "base_uri": "https://localhost:8080/",
          "height": 354
        },
        "id": "uoh5uqzTzGOy",
        "outputId": "ba0b7a7a-892d-4f87-ae89-a3bf25ecafb4"
      },
      "execution_count": null,
      "outputs": [
        {
          "output_type": "display_data",
          "data": {
            "text/plain": [
              "<Figure size 360x360 with 1 Axes>"
            ],
            "image/png": "[encoded data removed]"
          },
          "metadata": {
            "needs_background": "light"
          }
        }
      ]
    },
    {
      "cell_type": "markdown",
      "source": [
        "Otra forma, y la cual vimos en la clase anterior es usando *qqplot*."
      ],
      "metadata": {
        "id": "06IwS_q-iMjL"
      }
    },
    {
      "cell_type": "code",
      "source": [
        "from statsmodels.graphics.gofplots import qqplot\n",
        "\n",
        "distribucion_generada = residuals\n",
        "# Represento el Q-Q plot\n",
        "qqplot(distribucion_generada , line='s')\n",
        "plt.show()\n"
      ],
      "metadata": {
        "colab": {
          "base_uri": "https://localhost:8080/",
          "height": 337
        },
        "id": "lRDglOzZAyjo",
        "outputId": "e34cfcb2-38be-4655-9cc4-ba7e1bcf70e3"
      },
      "execution_count": null,
      "outputs": [
        {
          "output_type": "stream",
          "name": "stderr",
          "text": [
            "/usr/local/lib/python3.7/dist-packages/statsmodels/tools/_testing.py:19: FutureWarning: pandas.util.testing is deprecated. Use the functions in the public API at pandas.testing instead.\n",
            "  import pandas.util.testing as tm\n"
          ]
        },
        {
          "output_type": "display_data",
          "data": {
            "text/plain": [
              "<Figure size 432x288 with 1 Axes>"
            ],
            "image/png": "[encoded data removed]"
          },
          "metadata": {
            "needs_background": "light"
          }
        }
      ]
    },
    {
      "cell_type": "markdown",
      "source": [
        "Cuando los residuos se distribuyen normalmente, tienden a estar a lo largo de la línea recta en el gráfico Q-Q. En este caso, los residuales parecen seguir un patrón ligeramente no lineal: los residuales se arquean un poco alejándose de la línea de normalidad en cada extremo. Esta es una indicación de que una simple línea recta podría no ser suficiente para describir completamente la relación entre peso y mpg.\n",
        "\n",
        "Después de hacer las predicciones del modelo, es útil tener algún tipo de métrica para evaluar el rendimiento del modelo. El R cuadrado ajustado es una medida útil, pero solo se aplica al modelo de regresión en sí mismo: nos gustaría alguna métrica de evaluación universal que nos permita comparar el rendimiento de diferentes tipos de modelos. El error cuadrático medio (**RMSE**) es una métrica de evaluación común para predicciones que involucran números reales. La raíz del error cuadrático medio es la raíz cuadrada del promedio del error cuadrático (residuales). \n",
        "\n",
        "$$RMSE = \\sqrt{\\frac{1}{n}\\sum_{j=1}^n(y_j - \\hat{y}_j)^2}$$"
      ],
      "metadata": {
        "id": "KjN6kyl9zNi-"
      }
    },
    {
      "cell_type": "code",
      "source": [
        "def rmse(predicted, targets):\n",
        "    \"\"\"\n",
        "    Calcula la raíz del error cuadrático medio de dos arrays \n",
        "    \n",
        "     Argumentos:\n",
        "         predicted: una serie de predicciones\n",
        "         targets: array de valores objetivo\n",
        "    \n",
        "     Returns:\n",
        "         El error cuadrático medio de la raíz como un float\n",
        "    \"\"\"\n",
        "    return (np.sqrt(np.mean((targets-predicted)**2)))\n",
        "\n",
        "rmse(train_prediction, mtcars[\"mpg\"])"
      ],
      "metadata": {
        "colab": {
          "base_uri": "https://localhost:8080/"
        },
        "id": "buiT8qaPzOqu",
        "outputId": "3ba3003a-93cb-4aa8-f397-d37439afc323"
      },
      "execution_count": null,
      "outputs": [
        {
          "output_type": "execute_result",
          "data": {
            "text/plain": [
              "2.949162685955028"
            ]
          },
          "metadata": {},
          "execution_count": 15
        }
      ]
    },
    {
      "cell_type": "markdown",
      "source": [
        "En lugar de definir su propia función RMSE, puede usar la función de error cuadrático medio de la biblioteca scikit-learn y sacar la raíz cuadrada del resultado:"
      ],
      "metadata": {
        "id": "kCdMFU4JzYVd"
      }
    },
    {
      "cell_type": "code",
      "source": [
        "from sklearn.metrics import mean_squared_error\n",
        "\n",
        "RMSE = mean_squared_error(train_prediction, mtcars[\"mpg\"])**0.5\n",
        "\n",
        "RMSE"
      ],
      "metadata": {
        "colab": {
          "base_uri": "https://localhost:8080/"
        },
        "id": "S5jtb6kazaVb",
        "outputId": "bbb03f26-e808-4e69-9ee9-3447c6ceeaa3"
      },
      "execution_count": null,
      "outputs": [
        {
          "output_type": "execute_result",
          "data": {
            "text/plain": [
              "2.949162685955028"
            ]
          },
          "metadata": {},
          "execution_count": 16
        }
      ]
    },
    {
      "cell_type": "markdown",
      "source": [
        "#**Regresión polinomial**\n",
        "Las variables a menudo exhiben relaciones no lineales que no pueden ajustarse bien con una línea recta. En estos casos, podemos usar la regresión lineal para ajustar una línea curva a los datos agregando términos adicionales de orden superior (cuadrado, cúbico, etc.) al modelo. Una regresión lineal que involucra términos de orden superior se conoce como \"regresión polinomial\".\n",
        "\n",
        "$$Y=\\omega _{0}+\\omega _{1}X+\\omega _{2}X^{2}+...$$"
      ],
      "metadata": {
        "id": "AwtLcQrLzbTw"
      }
    },
    {
      "cell_type": "code",
      "source": [
        "# Inicializa el modelo\n",
        "poly_model = linear_model.LinearRegression()\n",
        "\n",
        "\n",
        "# DataFrame de variables predictoras\n",
        "predictors = pd.DataFrame([mtcars[\"wt\"],           # Include weight\n",
        "                           mtcars[\"wt\"]**2]).T    # Include weight squared\n",
        "\n",
        "poly_model.fit(X = predictors, y = mtcars[\"mpg\"])\n",
        "\n",
        "# Verifica el y-intercepto del modelo de entrenamiento\n",
        "print(\"Intercepto del modelo:\", poly_model.intercept_)\n",
        "\n",
        "# Verifique los coeficientes del modelo entrenado (factor de escala dado a \"wt\")\n",
        "print(\"Coefficientes del modelo:\", poly_model.coef_)\n",
        "\n",
        "# Verifica el R-squared\n",
        "print(\"Precisión del modelo:\")\n",
        "print(poly_model.score(X = predictors, y = mtcars[\"mpg\"]))"
      ],
      "metadata": {
        "colab": {
          "base_uri": "https://localhost:8080/"
        },
        "id": "fg2bvPZEzj2B",
        "outputId": "d9e52a76-a2ad-4af2-cb61-d3b4b7570f6f"
      },
      "execution_count": null,
      "outputs": [
        {
          "output_type": "stream",
          "name": "stdout",
          "text": [
            "Intercepto del modelo: 49.93081094945181\n",
            "Coefficientes del modelo: [-13.38033708   1.17108689]\n",
            "Precisión del modelo:\n",
            "0.8190613581384095\n"
          ]
        }
      ]
    },
    {
      "cell_type": "markdown",
      "source": [
        "El resultado nos muestra que incluir el término de peso al cuadrado parece mejorar el rendimiento del modelo porque el R-cuadrado aumentó de 0.75 a 0.8190. Sin embargo, debe tenerse en cuenta que agregar más variables a un modelo de regresión lineal nunca puede hacer que R-squared disminuya, por lo que solo queremos agregar variables si hay una mejora sustancial en el rendimiento.\n",
        "\n",
        "Tracemos la línea de ajuste definida por el nuevo modelo, para ver si el ajuste se ve mejor que el anterior. Para comenzar, creemos una función que tome una matriz de valores de *x*, coeficientes del modelo y un término de intersección y devuelva los valores de *x* y los valores de *y* ajustados correspondientes a esos valores de *x*."
      ],
      "metadata": {
        "id": "Pf57xqMXzrvV"
      }
    },
    {
      "cell_type": "code",
      "source": [
        "# Grafique la curva desde 1.5 a 5.5\n",
        "poly_line_range = np.arange(1.5, 5.5, 0.1)\n",
        "\n",
        "# Obtiene los predictores de primer y segundo orden desde el rango dado\n",
        "poly_predictors = pd.DataFrame([poly_line_range,  poly_line_range**2]).T\n",
        "\n",
        "# Obtiene los valores y correspondientes del modelo\n",
        "y_values = poly_model.predict(X = poly_predictors)\n",
        "\n",
        "mtcars.plot(kind=\"scatter\", x=\"wt\", y=\"mpg\", figsize=(5,5), color=\"red\", xlim = (0,7))\n",
        "\n",
        "# Grafica la línea curva\n",
        "plt.plot(poly_line_range,   # rango eje-x\n",
        "         y_values,          # Valores predictivos\n",
        "         color=\"blue\");"
      ],
      "metadata": {
        "colab": {
          "base_uri": "https://localhost:8080/",
          "height": 375
        },
        "id": "Ws4IwCYXzvam",
        "outputId": "17e08b75-54c2-406c-d7c9-56393b80d6da"
      },
      "execution_count": null,
      "outputs": [
        {
          "output_type": "stream",
          "name": "stderr",
          "text": [
            "/usr/local/lib/python3.7/dist-packages/sklearn/base.py:451: UserWarning: X does not have valid feature names, but LinearRegression was fitted with feature names\n",
            "  \"X does not have valid feature names, but\"\n"
          ]
        },
        {
          "output_type": "display_data",
          "data": {
            "text/plain": [
              "<Figure size 360x360 with 1 Axes>"
            ],
            "image/png": "[encoded data removed]"
          },
          "metadata": {
            "needs_background": "light"
          }
        }
      ]
    },
    {
      "cell_type": "markdown",
      "source": [
        "La función cuadrática parece ajustarse a los datos un poco mejor que la lineal. Investiguemos más a fondo utilizando el nuevo modelo para hacer predicciones sobre los datos originales y comprobar el error cuadrático medio:"
      ],
      "metadata": {
        "id": "DKForeNl0Ncw"
      }
    },
    {
      "cell_type": "code",
      "source": [
        "preds = poly_model.predict(X=predictors)\n",
        "\n",
        "rmse(preds , mtcars[\"mpg\"])"
      ],
      "metadata": {
        "colab": {
          "base_uri": "https://localhost:8080/"
        },
        "id": "RmROK-KY0QJH",
        "outputId": "a5d2fda5-74ee-420e-e2e6-8e9e0e5eb174"
      },
      "execution_count": null,
      "outputs": [
        {
          "output_type": "execute_result",
          "data": {
            "text/plain": [
              "2.137090046275695"
            ]
          },
          "metadata": {},
          "execution_count": 65
        }
      ]
    },
    {
      "cell_type": "markdown",
      "source": [
        "Dado que el RMSE del modelo cuadrático es más bajo que el anterior y el R-cuadrado ajustado es más alto, probablemente sea un mejor modelo. Sin embargo, debemos tener cuidado con el sobreajuste de los datos de entrenamiento.\n",
        "\n",
        "El sobreajuste describe una situación en la que nuestro modelo se ajusta demasiado a los datos que usamos para crearlo (datos de entrenamiento), lo que da como resultado una mala generalización a nuevos datos. Esta es la razón por la que generalmente no queremos usar datos de entrenamiento para evaluar un modelo: nos da una evaluación sesgada, generalmente demasiado optimista. Uno de los puntos fuertes de la regresión lineal de primer y segundo orden es que son tan simples que es poco probable que sobreajusten demasiado los datos. Cuanto más complejo es el modelo que creamos y más libertad tiene para ajustarse a los datos de entrenamiento, mayor riesgo corremos de sobreajuste. Por ejemplo, podríamos seguir incluyendo más términos polinómicos en nuestro modelo de regresión para ajustar mejor los datos de entrenamiento y lograr puntajes RMSE más bajos en comparación con el conjunto de entrenamiento, pero es casi seguro que esto no se generalizaría bien a los datos nuevos. Ilustremos este punto ajustando un modelo de décimo orden a los datos de mtcars:"
      ],
      "metadata": {
        "id": "P59BUZGm0XEt"
      }
    },
    {
      "cell_type": "code",
      "source": [
        "# Inicializa el modelo\n",
        "poly_model = linear_model.LinearRegression()\n",
        "\n",
        "# Make a DataFrame of predictor variables\n",
        "predictors = pd.DataFrame([mtcars[\"wt\"],           \n",
        "                           mtcars[\"wt\"]**2,\n",
        "                           mtcars[\"wt\"]**3,\n",
        "                           mtcars[\"wt\"]**4,\n",
        "                           mtcars[\"wt\"]**5,\n",
        "                           mtcars[\"wt\"]**6,\n",
        "                           mtcars[\"wt\"]**7,\n",
        "                           mtcars[\"wt\"]**8,\n",
        "                           mtcars[\"wt\"]**9,\n",
        "                           mtcars[\"wt\"]**10]).T     \n",
        "\n",
        "# Entrena el model using los datos de new_cars\n",
        "poly_model.fit(X = predictors, \n",
        "               y = mtcars[\"mpg\"])\n",
        "\n",
        "# Verifica el y-intercepto del modelo de entrenamiento \n",
        "print(\"Intercepto del modelo:\", poly_model.intercept_)\n",
        "\n",
        "# Verifica los oeficientes del modelo de entrenamiento (factor de escala dado para \"wt\")\n",
        "print(\"Coeficientes del modelo:\", poly_model.coef_)\n",
        "\n",
        "# R-squared\n",
        "print(\"R-cuadrado:\")\n",
        "poly_model.score(X = predictors,  y = mtcars[\"mpg\"])\n"
      ],
      "metadata": {
        "colab": {
          "base_uri": "https://localhost:8080/"
        },
        "id": "TEFPypij0WVg",
        "outputId": "2b542db0-7068-4064-c0a3-c1eb2b8854eb"
      },
      "execution_count": null,
      "outputs": [
        {
          "output_type": "stream",
          "name": "stdout",
          "text": [
            "Intercepto del modelo: -14921.120533981546\n",
            "Coeficientes del modelo: [ 6.45813566e+04 -1.20086131e+05  1.26931928e+05 -8.46598453e+04\n",
            "  3.73155198e+04 -1.10334755e+04  2.16590404e+03 -2.70730544e+02\n",
            "  1.94974162e+01 -6.15515436e-01]\n",
            "R-cuadrado:\n"
          ]
        },
        {
          "output_type": "execute_result",
          "data": {
            "text/plain": [
              "0.870210657838439"
            ]
          },
          "metadata": {},
          "execution_count": 57
        }
      ]
    },
    {
      "cell_type": "markdown",
      "source": [
        "Observe que el R-cuadrado ha aumentado sustancialmente desde nuestro modelo cuadrático. Tracemos la línea de mejor ajuste para investigar qué está haciendo el modelo:"
      ],
      "metadata": {
        "id": "EpYPpgYK0i79"
      }
    },
    {
      "cell_type": "code",
      "source": [
        "p_range = np.arange(1.5, 5.45, 0.01)  # rango eje-x\n",
        "\n",
        "poly_predictors = pd.DataFrame([p_range, p_range**2, p_range**3,\n",
        "                              p_range**4, p_range**5, p_range**6, p_range**7, \n",
        "                              p_range**8, p_range**9, p_range**10]).T  \n",
        "\n",
        "# Obtiene los valores de y correspondientes desde el modelo\n",
        "y_values = poly_model.predict(X = poly_predictors) #Valores predictivos\n",
        "\n",
        "mtcars.plot(kind=\"scatter\", x=\"wt\", y=\"mpg\", figsize=(5,5), color=\"red\", xlim = (0,7))\n",
        "\n",
        "# Grafica la línea de ajuste\n",
        "plt.plot(p_range, y_values, color=\"blue\");"
      ],
      "metadata": {
        "colab": {
          "base_uri": "https://localhost:8080/",
          "height": 392
        },
        "id": "Onr9_2q90nGc",
        "outputId": "c05383ee-0d73-46f7-b212-b99bbde1202e"
      },
      "execution_count": null,
      "outputs": [
        {
          "output_type": "stream",
          "name": "stderr",
          "text": [
            "/usr/local/lib/python3.7/dist-packages/sklearn/base.py:451: UserWarning: X does not have valid feature names, but LinearRegression was fitted with feature names\n",
            "  \"X does not have valid feature names, but\"\n"
          ]
        },
        {
          "output_type": "display_data",
          "data": {
            "text/plain": [
              "<Figure size 360x360 with 1 Axes>"
            ],
            "image/png": "[encoded data removed]"
          },
          "metadata": {}
        }
      ]
    },
    {
      "cell_type": "markdown",
      "source": [
        "Observe cómo el modelo polinomial de décimo orden se curva mucho en algunos lugares para ajustarse a los datos de entrenamiento. Si bien este modelo se ajusta más a los datos de entrenamiento, es casi seguro que no se generalizará bien a los nuevos datos, ya que conduce a predicciones absurdas, como valores negativos para \"mpg\"."
      ],
      "metadata": {
        "id": "XvAGMnif0zlA"
      }
    },
    {
      "cell_type": "markdown",
      "source": [
        "#**Regresión lineal múltiple**\n",
        "Cuando se enfrente a una tarea de modelado predictivo, a menudo tendrá varias variables en sus datos que pueden ayudar a explicar la variación en la variable de respuesta. Puede incluir más variables explicativas ($X_1, X_2, ...,X_n$) en un modelo de regresión lineal al incluir más columnas en el marco de datos que pasa a la función de entrenamiento del modelo. Hagamos un nuevo modelo que agregue la variable de caballos de fuerza a nuestro modelo original:\n",
        "\n",
        "$$Y=\\omega _{0}+\\omega _{1}X_1+\\omega _{2}X_{2}+\\omega _{3}X_{3}+\\cdots +\\omega _{n}X_{n}$$"
      ],
      "metadata": {
        "id": "6jO8sPkc02aA"
      }
    },
    {
      "cell_type": "code",
      "source": [
        "# Inicializar el modelo\n",
        "multi_reg_model = linear_model.LinearRegression()\n",
        "\n",
        "# Entrena el model using los datos de mtcars\n",
        "multi_reg_model.fit(X = mtcars.loc[:,[\"wt\",\"hp\"]], \n",
        "                     y = mtcars[\"mpg\"])\n",
        "\n",
        "# Verifica el y-intercepto del modelo de entrenamiento \n",
        "print(\"Intercepto del modelo:\", multi_reg_model.intercept_)\n",
        "\n",
        "# Verifica los oeficientes del modelo de entrenamiento (factor de escala dado para \"wt\")\n",
        "print(\"Coefficientes del modelo:\", multi_reg_model.coef_)\n",
        "\n",
        "# Verifica el R-cuadrado\n",
        "print(\"R-cuadrado:\")\n",
        "multi_reg_model.score(X = mtcars.loc[:,[\"wt\",\"hp\"]],  y = mtcars[\"mpg\"])"
      ],
      "metadata": {
        "colab": {
          "base_uri": "https://localhost:8080/"
        },
        "id": "IreLVf6n065o",
        "outputId": "6d4fe288-c1b5-4b8a-d5a5-7c2cf75e3c58"
      },
      "execution_count": null,
      "outputs": [
        {
          "output_type": "stream",
          "name": "stdout",
          "text": [
            "Intercepto del modelo: 37.22727011644721\n",
            "Coefficientes del modelo: [-3.87783074 -0.03177295]\n",
            "R-cuadrado:\n"
          ]
        },
        {
          "output_type": "execute_result",
          "data": {
            "text/plain": [
              "0.8267854518827915"
            ]
          },
          "metadata": {},
          "execution_count": 60
        }
      ]
    },
    {
      "cell_type": "markdown",
      "source": [
        "El R-cuadrado mejorado sugiere que la potencia tiene una relación lineal con el mpg. Investiguemos con un dibujo:"
      ],
      "metadata": {
        "id": "3xbTRzFK1Cyv"
      }
    },
    {
      "cell_type": "code",
      "source": [
        "mtcars.plot(kind=\"scatter\", x=\"hp\", y=\"mpg\", figsize=(5,5), color=\"red\");"
      ],
      "metadata": {
        "colab": {
          "base_uri": "https://localhost:8080/",
          "height": 340
        },
        "id": "Fi9kpH5K1Fuy",
        "outputId": "198d888a-84e2-4eed-ed5b-89e8dd29f559"
      },
      "execution_count": null,
      "outputs": [
        {
          "output_type": "display_data",
          "data": {
            "text/plain": [
              "<Figure size 360x360 with 1 Axes>"
            ],
            "image/png": "[encoded data removed]"
          },
          "metadata": {}
        }
      ]
    },
    {
      "cell_type": "code",
      "source": [
        "# Inicializa el modelo\n",
        "multi_reg_model = linear_model.LinearRegression()\n",
        "\n",
        "# Términos al cuadrado incluídos\n",
        "poly_predictors = pd.DataFrame([mtcars[\"wt\"],\n",
        "                                mtcars[\"hp\"],\n",
        "                                mtcars[\"wt\"]**2,\n",
        "                                mtcars[\"hp\"]**2]).T\n",
        "\n",
        "# Entrena el modelo usando los datos de mtcars\n",
        "multi_reg_model.fit(X = poly_predictors,  y = mtcars[\"mpg\"])\n",
        "\n",
        "# R-cuadrado\n",
        "print(\"R-Squared\")\n",
        "print( multi_reg_model.score(X = poly_predictors ,  y = mtcars[\"mpg\"]) )\n",
        "\n",
        "# RMSE\n",
        "print(\"RMSE\")\n",
        "print(rmse(multi_reg_model.predict(poly_predictors),mtcars[\"mpg\"]))"
      ],
      "metadata": {
        "colab": {
          "base_uri": "https://localhost:8080/"
        },
        "id": "XmBLczS71KyL",
        "outputId": "1089e180-49c8-4efc-99e8-fce1b28a6b6e"
      },
      "execution_count": null,
      "outputs": [
        {
          "output_type": "stream",
          "name": "stdout",
          "text": [
            "R-Squared\n",
            "0.8907279549670641\n",
            "RMSE\n",
            "1.9609108134176982\n"
          ]
        }
      ]
    },
    {
      "cell_type": "markdown",
      "source": [
        "El nuevo R-cuadrado y el RMSE más bajo sugieren que este es un mejor modelo que cualquier otro que hayamos hecho anteriormente y no nos preocuparía demasiado el sobreajuste, ya que solo incluye 2 variables y 2 términos al cuadrado. Tenga en cuenta que cuando se trabaja con modelos multidimensionales, se vuelve difícil visualizar los resultados, por lo que depende en gran medida de la salida numérica.\n",
        "\n",
        "Podríamos seguir agregando más variables explicativas en un intento de mejorar el modelo. Agregar variables que tienen poca relación con la respuesta o incluir variables que están demasiado relacionadas entre sí puede afectar los resultados cuando se utiliza la regresión lineal. También debe tener cuidado con las variables numéricas que toman pocos valores únicos, ya que pueden actuar más como variables categóricas que numéricas.\n",
        "\n",
        "\n",
        "La regresión lineal es una de las técnicas más comunes para hacer predicciones con números reales a partir de datos. Es un buen lugar para comenzar cada vez que necesite hacer una predicción numérica. "
      ],
      "metadata": {
        "id": "IS4uxjyn1Sb7"
      }
    },
    {
      "cell_type": "markdown",
      "source": [
        "Teniendo en cuenta el dataset \"Birthweight_reduced_kg_R.csv\":\n",
        "\n",
        "1. **Regresión simple**: ¿Puede la altura de la madre predecir la longitud del bebé? ¿Puede la edad gestacional predecir el peso del bebé?\n",
        "2. **Regresión múltiple**: Cualquier combinación de variables para predecir la longitud del bebé. Después de controlar la edad gestacional, ¿el peso de la madre antes del embarazo tiene un efecto sobre el peso del bebé al nacer?"
      ],
      "metadata": {
        "id": "ApUCuAStkOv_"
      }
    },
    {
      "cell_type": "markdown",
      "source": [
        "[1] Peter Bruce and Andrew Bruce (2017). Practical Statistics for Data Scientists. 50 Essential Concepts. y O’Reilly Media, Inc.\n",
        "\n",
        "[2] https://www.kaggle.com/hamelg/python-for-data-analysis-index\n",
        "\n",
        "[3] https://predictivehacks.com/how-to-choose-and-apply-the-right-statistical-test-in-python/\n"
      ],
      "metadata": {
        "id": "Pzct5-7kCOgi"
      }
    }
  ],
  "metadata": {
    "kernelspec": {
      "display_name": "Python 3",
      "language": "python",
      "name": "python3"
    },
    "language_info": {
      "codemirror_mode": {
        "name": "ipython",
        "version": 3
      },
      "file_extension": ".py",
      "mimetype": "text/x-python",
      "name": "python",
      "nbconvert_exporter": "python",
      "pygments_lexer": "ipython3",
      "version": "3.6.6"
    },
    "colab": {
      "name": "C5. Regresión Lineal.ipynb",
      "provenance": [],
      "collapsed_sections": [
        "yKv9ozCfMh1L"
      ]
    }
  },
  "nbformat": 4,
  "nbformat_minor": 0
}